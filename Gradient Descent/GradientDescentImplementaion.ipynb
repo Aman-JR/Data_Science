{
 "cells": [
  {
   "cell_type": "code",
   "execution_count": 74,
   "id": "d4329342",
   "metadata": {},
   "outputs": [],
   "source": [
    "import numpy as np \n",
    "import pandas as pd\n",
    "from itertools import zip_longest\n",
    "import matplotlib.pyplot as plt"
   ]
  },
  {
   "cell_type": "code",
   "execution_count": 75,
   "id": "dbb4617d",
   "metadata": {},
   "outputs": [
    {
     "data": {
      "text/html": [
       "<div>\n",
       "<style scoped>\n",
       "    .dataframe tbody tr th:only-of-type {\n",
       "        vertical-align: middle;\n",
       "    }\n",
       "\n",
       "    .dataframe tbody tr th {\n",
       "        vertical-align: top;\n",
       "    }\n",
       "\n",
       "    .dataframe thead th {\n",
       "        text-align: right;\n",
       "    }\n",
       "</style>\n",
       "<table border=\"1\" class=\"dataframe\">\n",
       "  <thead>\n",
       "    <tr style=\"text-align: right;\">\n",
       "      <th></th>\n",
       "      <th>x</th>\n",
       "      <th>y</th>\n",
       "    </tr>\n",
       "  </thead>\n",
       "  <tbody>\n",
       "    <tr>\n",
       "      <th>0</th>\n",
       "      <td>17</td>\n",
       "      <td>13</td>\n",
       "    </tr>\n",
       "    <tr>\n",
       "      <th>1</th>\n",
       "      <td>7</td>\n",
       "      <td>21</td>\n",
       "    </tr>\n",
       "    <tr>\n",
       "      <th>2</th>\n",
       "      <td>23</td>\n",
       "      <td>24</td>\n",
       "    </tr>\n",
       "  </tbody>\n",
       "</table>\n",
       "</div>"
      ],
      "text/plain": [
       "    x   y\n",
       "0  17  13\n",
       "1   7  21\n",
       "2  23  24"
      ]
     },
     "execution_count": 75,
     "metadata": {},
     "output_type": "execute_result"
    }
   ],
   "source": [
    "# STEP 1 CREATE A DUMMY DATASET\n",
    "x = np.random.randint(1,30,10)\n",
    "y = np.random.randint(1,30,10)\n",
    "data = list(zip_longest(x,y,fillvalue = np.nan))\n",
    "df = pd.DataFrame(data,columns=['x','y'])\n",
    "df.head(3)"
   ]
  },
  {
   "cell_type": "code",
   "execution_count": 76,
   "id": "d4860fa3",
   "metadata": {},
   "outputs": [],
   "source": [
    "# STEP 2 CALCULATE SLOPE(m) AND INTERCEPT(c)\n",
    "# y = mx + c\n",
    "# Slope(m) = sum((x - mean(x))(y - mean(y))) / sum(x - mean(x))\n",
    "# Slope(m) = n(sum(XY)) - sum(x)sum(y) / n(sum(x**2)) - sum(x)**2\n",
    "\n",
    "# Original_X = df['x'].values\n",
    "# Original_Y = df['y'].values\n",
    "df['xy'] = df['x']*df['y']\n",
    "df['x**2'] = df['x']**2"
   ]
  },
  {
   "cell_type": "code",
   "execution_count": 77,
   "id": "b7acbbd0",
   "metadata": {},
   "outputs": [
    {
     "name": "stdout",
     "output_type": "stream",
     "text": [
      "Slope : 0.25 Intercept : 153.15\n"
     ]
    }
   ],
   "source": [
    "# Slop(m)\n",
    "slope = ((len(df['x'])*(sum(df['xy']))) - ((sum(df['x']))*(sum(df['y'])))) / (len(df['x'])*(sum(df['x**2'])) - (sum(df['x']))**2)\n",
    "slope = round(slope,2)\n",
    "slope\n",
    "\n",
    "# Intercept(c)\n",
    "Intercept = sum(df['y']) - slope*(sum(df['x'])/len(df['x']))\n",
    "Intercept = round(Intercept,2)\n",
    "\n",
    "print(\"Slope :\",slope,\"Intercept :\",Intercept)"
   ]
  },
  {
   "cell_type": "code",
   "execution_count": null,
   "id": "c39a0e6e",
   "metadata": {},
   "outputs": [],
   "source": []
  },
  {
   "cell_type": "code",
   "execution_count": 78,
   "id": "ee9fbbbe",
   "metadata": {},
   "outputs": [],
   "source": [
    "li = df['x']**2"
   ]
  },
  {
   "cell_type": "code",
   "execution_count": 79,
   "id": "33611309",
   "metadata": {},
   "outputs": [
    {
     "data": {
      "text/plain": [
       "0    289\n",
       "1     49\n",
       "2    529\n",
       "3     64\n",
       "4    144\n",
       "5     25\n",
       "6    625\n",
       "7    841\n",
       "8    484\n",
       "9     36\n",
       "Name: x, dtype: int32"
      ]
     },
     "execution_count": 79,
     "metadata": {},
     "output_type": "execute_result"
    }
   ],
   "source": [
    "li"
   ]
  }
 ],
 "metadata": {
  "kernelspec": {
   "display_name": "Python 3",
   "language": "python",
   "name": "python3"
  },
  "language_info": {
   "codemirror_mode": {
    "name": "ipython",
    "version": 3
   },
   "file_extension": ".py",
   "mimetype": "text/x-python",
   "name": "python",
   "nbconvert_exporter": "python",
   "pygments_lexer": "ipython3",
   "version": "3.10.6"
  }
 },
 "nbformat": 4,
 "nbformat_minor": 5
}
