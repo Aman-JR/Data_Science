{
 "cells": [
  {
   "cell_type": "markdown",
   "metadata": {},
   "source": [
    "- Find the 'id' of the movie \"Andhadhun\" using TMDb API."
   ]
  },
  {
   "cell_type": "code",
   "execution_count": 22,
   "metadata": {},
   "outputs": [
    {
     "name": "stdout",
     "output_type": "stream",
     "text": [
      "534780\n"
     ]
    }
   ],
   "source": [
    "import requests\n",
    "api_key = \"91bfbe7458ba3f57e70cc77c30f41f97\"\n",
    "api_link = \"https://api.themoviedb.org/3/search/movie\"\n",
    "params = {'query':\"Andhadhun\", 'api_key':api_key}\n",
    "header = {'Accept': 'application/json'}\n",
    "\n",
    "response = requests.get(api_link, headers=header, params=params)\n",
    "\n",
    "# print(response.text)\n",
    "\n",
    "data = response.json()\n",
    "# data\n",
    "results = data.get('results')\n",
    "for i in results:\n",
    "    if i['title'] == 'Andhadhun':\n",
    "        print(i['id'])"
   ]
  },
  {
   "cell_type": "markdown",
   "metadata": {},
   "source": [
    "- Fetch the company id company 'Marvel Studios' using TMDb. Print the id."
   ]
  },
  {
   "cell_type": "code",
   "execution_count": 25,
   "metadata": {},
   "outputs": [
    {
     "name": "stdout",
     "output_type": "stream",
     "text": [
      "420\n"
     ]
    }
   ],
   "source": [
    "import requests\n",
    "api_key = \"91bfbe7458ba3f57e70cc77c30f41f97\"\n",
    "api_link = \"https://api.themoviedb.org/3/search/company\"\n",
    "params = {'query' : \"Marvel Studios\", 'api_key' : api_key}\n",
    "header = {\n",
    "    \"accept\": \"application/json\"\n",
    "}\n",
    "\n",
    "response = requests.get(api_link,headers= header, params=params)\n",
    "data = response.json()\n",
    "ans = data.get('results')\n",
    "for i in ans:\n",
    "    if i['name'] == \"Marvel Studios\":\n",
    "        print(i['id'])"
   ]
  },
  {
   "cell_type": "markdown",
   "metadata": {},
   "source": [
    "* Find the vote count and vote average of the movie \"3 Idiots\" using the TMDb API\n",
    "* Output format: Vote Count , Vote Average"
   ]
  },
  {
   "cell_type": "code",
   "execution_count": 36,
   "metadata": {},
   "outputs": [
    {
     "name": "stdout",
     "output_type": "stream",
     "text": [
      "2215 7.992\n"
     ]
    }
   ],
   "source": [
    "import requests\n",
    "\n",
    "api_key = \"91bfbe7458ba3f57e70cc77c30f41f97\"\n",
    "api_link = \"https://api.themoviedb.org/3/search/movie\"\n",
    "params = {'query' : \"3 Idiots\", 'api_key' : api_key}\n",
    "header = {\n",
    "    \"accept\": \"application/json\"\n",
    "}\n",
    "response = requests.get(api_link,headers = header,params=params)\n",
    "data = response.json()\n",
    "ans = data.get('results')\n",
    "\n",
    "for i in range(0,len(ans)):\n",
    "    if ans[i]['title'] == '3 Idiots':\n",
    "        print(ans[i]['vote_count'],ans[i]['vote_average'])\n",
    "# ans"
   ]
  },
  {
   "cell_type": "markdown",
   "metadata": {},
   "source": [
    "- Fetch the names of top 5 similar movies to 'Inception' from the TMDb API.\n",
    "* *Note*\n",
    "- While fetching the movie id, use the \"original_title\" field not the \"title\". Because the \"title\" field may contain duplicate values."
   ]
  },
  {
   "cell_type": "code",
   "execution_count": 4,
   "metadata": {},
   "outputs": [
    {
     "data": {
      "text/plain": [
       "[{'adult': False,\n",
       "  'backdrop_path': '/8ZTVqvKDQ8emSGUEMjsS4yHAwrp.jpg',\n",
       "  'genre_ids': [28, 878, 12],\n",
       "  'id': 27205,\n",
       "  'original_language': 'en',\n",
       "  'original_title': 'Inception',\n",
       "  'overview': 'Cobb, a skilled thief who commits corporate espionage by infiltrating the subconscious of his targets is offered a chance to regain his old life as payment for a task considered to be impossible: \"inception\", the implantation of another person\\'s idea into a target\\'s subconscious.',\n",
       "  'popularity': 100.328,\n",
       "  'poster_path': '/oYuLEt3zVCKq57qu2F8dT7NIa6f.jpg',\n",
       "  'release_date': '2010-07-15',\n",
       "  'title': 'Inception',\n",
       "  'video': False,\n",
       "  'vote_average': 8.367,\n",
       "  'vote_count': 35039},\n",
       " {'adult': False,\n",
       "  'backdrop_path': '/JeGkRdNsOuMrgwBdtB0hp763MU.jpg',\n",
       "  'genre_ids': [18, 53],\n",
       "  'id': 613092,\n",
       "  'original_language': 'es',\n",
       "  'original_title': 'El crack cero',\n",
       "  'overview': 'Madrid, Spain, 1975; shortly after the end of the Franco dictatorship. Six months after the mysterious death of his lover, a prestigious tailor, a married woman visits the office of the young Germán Areta, a former police officer turned private detective, to request his professional services.',\n",
       "  'popularity': 4.44,\n",
       "  'poster_path': '/kzgPu2CMxBr4YZZxC1Off4cUfR9.jpg',\n",
       "  'release_date': '2019-10-04',\n",
       "  'title': 'The Crack: Inception',\n",
       "  'video': False,\n",
       "  'vote_average': 6.635,\n",
       "  'vote_count': 37},\n",
       " {'adult': False,\n",
       "  'backdrop_path': None,\n",
       "  'genre_ids': [16, 28, 53, 878],\n",
       "  'id': 64956,\n",
       "  'original_language': 'en',\n",
       "  'original_title': 'Inception: The Cobol Job',\n",
       "  'overview': 'This \"Inception\" prequel unfolds courtesy of a beautiful Motion Comic, and explains how Cobb, Arthur and Nash were enlisted by Cobol Engineering.',\n",
       "  'popularity': 8.268,\n",
       "  'poster_path': '/sNxqwtyHMNQwKWoFYDqcYTui5Ok.jpg',\n",
       "  'release_date': '2010-12-07',\n",
       "  'title': 'Inception: The Cobol Job',\n",
       "  'video': False,\n",
       "  'vote_average': 7.259,\n",
       "  'vote_count': 293},\n",
       " {'adult': False,\n",
       "  'backdrop_path': None,\n",
       "  'genre_ids': [],\n",
       "  'id': 350632,\n",
       "  'original_language': 'en',\n",
       "  'original_title': 'Nātyārambham',\n",
       "  'overview': 'On certain Adavus: the basic steps in Bharatanatyam. The first part covers Tatta Adavu, Natta Adavu, Visharu Adavu , Tatti Metti Adavu and Teermanam Adavu.',\n",
       "  'popularity': 0.6,\n",
       "  'poster_path': None,\n",
       "  'release_date': '',\n",
       "  'title': 'The Inception of Dramatic Representation',\n",
       "  'video': True,\n",
       "  'vote_average': 5.8,\n",
       "  'vote_count': 3},\n",
       " {'adult': False,\n",
       "  'backdrop_path': None,\n",
       "  'genre_ids': [35],\n",
       "  'id': 542438,\n",
       "  'original_language': 'en',\n",
       "  'original_title': 'Bikini Inception',\n",
       "  'overview': \"Two flunky Janitors in an Arctic Lab perform unauthorized experiments transporting them to a beach dream world in Malibu California w/50 beautiful young girls and a female Brazilian PhD Student wearing only a bra and panties. A '67 Muscle car races chases horses guns fights surfing, sumo wrestler, wolf monster, underwater scenes tons of gorgeous models. Sexy sci-fi fun.\",\n",
       "  'popularity': 0.831,\n",
       "  'poster_path': '/mNASlEOFX2c9upxaSbgeKFvIr1L.jpg',\n",
       "  'release_date': '2015-05-19',\n",
       "  'title': 'Bikini Inception',\n",
       "  'video': False,\n",
       "  'vote_average': 7.0,\n",
       "  'vote_count': 1},\n",
       " {'adult': False,\n",
       "  'backdrop_path': None,\n",
       "  'genre_ids': [10402],\n",
       "  'id': 973484,\n",
       "  'original_language': 'en',\n",
       "  'original_title': 'Inception: Music from the Motion Picture',\n",
       "  'overview': 'The Special Features Blu-ray disc contains a lossless DTS-HD MA 5.1 surround mix of the Inception soundtrack.',\n",
       "  'popularity': 1.794,\n",
       "  'poster_path': '/7uM4DyRVAcgagvhZoWrkrqMPbqV.jpg',\n",
       "  'release_date': '2010-12-07',\n",
       "  'title': 'Inception: Music from the Motion Picture',\n",
       "  'video': True,\n",
       "  'vote_average': 6.0,\n",
       "  'vote_count': 1},\n",
       " {'adult': False,\n",
       "  'backdrop_path': None,\n",
       "  'genre_ids': [],\n",
       "  'id': 250845,\n",
       "  'original_language': 'en',\n",
       "  'original_title': 'WWA The Inception',\n",
       "  'overview': 'The first World Wrestling Allstars pay per view, live from Sydney, Australia! A tournament titled \"7 Deadly Sins\", each round having a stipulation match, the winner will be crowned the first ever WWA Heavyweight Champion! Wrestlers such as Jeff Jarrett, Road Dogg, Jerry Lawler all compete in the tournament, with the WWA Commissioner, Bret Hart not too far away to make sure nothing gets to far out of hand!',\n",
       "  'popularity': 1.277,\n",
       "  'poster_path': None,\n",
       "  'release_date': '2001-10-26',\n",
       "  'title': 'WWA The Inception',\n",
       "  'video': True,\n",
       "  'vote_average': 3.1,\n",
       "  'vote_count': 5}]"
      ]
     },
     "execution_count": 4,
     "metadata": {},
     "output_type": "execute_result"
    }
   ],
   "source": [
    "import requests\n",
    "api_key = \"91bfbe7458ba3f57e70cc77c30f41f97\"\n",
    "api_link = \"https://api.themoviedb.org/3/search/movie\"\n",
    "\n",
    "header = {\n",
    "    \"accept\": \"application/json\"\n",
    "}\n",
    "params = {\n",
    "    'query' : \"Inception\",\n",
    "    'api_key' : api_key\n",
    "}\n",
    "\n",
    "response = requests.get(api_link, headers=header,params=params )\n",
    "data = response.json()\n",
    "ans = data.get('results')\n",
    "for i in ans:\n",
    "    if i[]"
   ]
  }
 ],
 "metadata": {
  "kernelspec": {
   "display_name": "Python 3",
   "language": "python",
   "name": "python3"
  },
  "language_info": {
   "codemirror_mode": {
    "name": "ipython",
    "version": 3
   },
   "file_extension": ".py",
   "mimetype": "text/x-python",
   "name": "python",
   "nbconvert_exporter": "python",
   "pygments_lexer": "ipython3",
   "version": "3.11.7"
  }
 },
 "nbformat": 4,
 "nbformat_minor": 2
}
