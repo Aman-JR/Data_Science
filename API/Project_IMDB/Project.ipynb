{
 "cells": [
  {
   "cell_type": "markdown",
   "metadata": {},
   "source": [
    "- Find the 'id' of the movie \"Andhadhun\" using TMDb API."
   ]
  },
  {
   "cell_type": "code",
   "execution_count": 22,
   "metadata": {},
   "outputs": [
    {
     "name": "stdout",
     "output_type": "stream",
     "text": [
      "534780\n"
     ]
    }
   ],
   "source": [
    "import requests\n",
    "api_key = \"91bfbe7458ba3f57e70cc77c30f41f97\"\n",
    "api_link = \"https://api.themoviedb.org/3/search/movie\"\n",
    "params = {'query':\"Andhadhun\", 'api_key':api_key}\n",
    "header = {'Accept': 'application/json'}\n",
    "\n",
    "response = requests.get(api_link, headers=header, params=params)\n",
    "\n",
    "# print(response.text)\n",
    "\n",
    "data = response.json()\n",
    "# data\n",
    "results = data.get('results')\n",
    "for i in results:\n",
    "    if i['title'] == 'Andhadhun':\n",
    "        print(i['id'])"
   ]
  },
  {
   "cell_type": "markdown",
   "metadata": {},
   "source": [
    "- Fetch the company id company 'Marvel Studios' using TMDb. Print the id."
   ]
  },
  {
   "cell_type": "code",
   "execution_count": 25,
   "metadata": {},
   "outputs": [
    {
     "name": "stdout",
     "output_type": "stream",
     "text": [
      "420\n"
     ]
    }
   ],
   "source": [
    "import requests\n",
    "api_key = \"91bfbe7458ba3f57e70cc77c30f41f97\"\n",
    "api_link = \"https://api.themoviedb.org/3/search/company\"\n",
    "params = {'query' : \"Marvel Studios\", 'api_key' : api_key}\n",
    "header = {\n",
    "    \"accept\": \"application/json\"\n",
    "}\n",
    "\n",
    "response = requests.get(api_link,headers= header, params=params)\n",
    "data = response.json()\n",
    "ans = data.get('results')\n",
    "for i in ans:\n",
    "    if i['name'] == \"Marvel Studios\":\n",
    "        print(i['id'])"
   ]
  },
  {
   "cell_type": "markdown",
   "metadata": {},
   "source": [
    "* Find the vote count and vote average of the movie \"3 Idiots\" using the TMDb API\n",
    "* Output format: Vote Count , Vote Average"
   ]
  },
  {
   "cell_type": "code",
   "execution_count": 36,
   "metadata": {},
   "outputs": [
    {
     "name": "stdout",
     "output_type": "stream",
     "text": [
      "2215 7.992\n"
     ]
    }
   ],
   "source": [
    "import requests\n",
    "\n",
    "api_key = \"91bfbe7458ba3f57e70cc77c30f41f97\"\n",
    "api_link = \"https://api.themoviedb.org/3/search/movie\"\n",
    "params = {'query' : \"3 Idiots\", 'api_key' : api_key}\n",
    "header = {\n",
    "    \"accept\": \"application/json\"\n",
    "}\n",
    "response = requests.get(api_link,headers = header,params=params)\n",
    "data = response.json()\n",
    "ans = data.get('results')\n",
    "\n",
    "for i in range(0,len(ans)):\n",
    "    if ans[i]['title'] == '3 Idiots':\n",
    "        print(ans[i]['vote_count'],ans[i]['vote_average'])\n",
    "# ans"
   ]
  },
  {
   "cell_type": "markdown",
   "metadata": {},
   "source": [
    "- Fetch the names of top 5 similar movies to 'Inception' from the TMDb API.\n",
    "* *Note*\n",
    "- While fetching the movie id, use the \"original_title\" field not the \"title\". Because the \"title\" field may contain duplicate values."
   ]
  },
  {
   "cell_type": "code",
   "execution_count": 33,
   "metadata": {},
   "outputs": [
    {
     "name": "stdout",
     "output_type": "stream",
     "text": [
      "Black Hornet\n",
      "Dr. No\n",
      "From Russia with Love\n",
      "Goldfinger\n",
      "Thunderball\n"
     ]
    }
   ],
   "source": [
    "import requests\n",
    "api_key = \"91bfbe7458ba3f57e70cc77c30f41f97\"\n",
    "api_link = \"https://api.themoviedb.org/3/search/movie\"\n",
    "\n",
    "header = {\n",
    "    \"accept\": \"application/json\"\n",
    "}\n",
    "params = {\n",
    "    'query' : \"Inception\",\n",
    "    'api_key' : api_key\n",
    "}\n",
    "\n",
    "response = requests.get(api_link, headers=header,params=params )\n",
    "data = response.json()\n",
    "ans = data.get('results')\n",
    "ans\n",
    "movie_id = 0\n",
    "for i in ans:\n",
    "    if i['title'] == \"Inception\":\n",
    "        movie_id = i['id']\n",
    "movie_id\n",
    "new_api_link = f\"https://api.themoviedb.org/3/movie/{movie_id}/similar\"\n",
    "new_params = {\n",
    "    'api_key' : api_key\n",
    "}\n",
    "\n",
    "new_response = requests.get(new_api_link, headers=header, params= new_params)\n",
    "new_data = new_response.json()\n",
    "new_ans = new_data.get('results')[:5]\n",
    "for i in new_ans:\n",
    "    print(i['title'])"
   ]
  },
  {
   "cell_type": "markdown",
   "metadata": {},
   "source": [
    "* Fetch the top rated english movies in the US region using the TMDb API. From the result, print the first 10 movies which have original language as english. Also print their genres.\n",
    "* Note: Do not use the search/movies API for finding genres."
   ]
  },
  {
   "cell_type": "code",
   "execution_count": 44,
   "metadata": {},
   "outputs": [
    {
     "name": "stdout",
     "output_type": "stream",
     "text": [
      "The Shawshank Redemption - Drama, Crime, \n",
      "The Godfather - Drama, Crime, \n",
      "The Godfather Part II - Drama, Crime, \n",
      "Schindler's List - Drama, History, War, \n",
      "12 Angry Men - Drama, \n",
      "The Dark Knight - Drama, Action, Crime, Thriller, \n",
      "The Green Mile - Fantasy, Drama, Crime, \n",
      "Pulp Fiction - Thriller, Crime, \n",
      "Forrest Gump - Comedy, Drama, Romance, \n",
      "The Lord of the Rings: The Return of the King - Adventure, Fantasy, Action, \n"
     ]
    }
   ],
   "source": [
    "import requests\n",
    "api_key = \"91bfbe7458ba3f57e70cc77c30f41f97\"\n",
    "api_link = \"https://api.themoviedb.org/3\"\n",
    "header = {'Accept': 'application/json'}\n",
    "params = {'api_key':api_key, 'region':'US'}\n",
    "response = requests.get(api_link + \"/movie/top_rated\", headers = header, params = params)\n",
    "\n",
    "\n",
    "data = response.json()\n",
    "results = data.get('results')\n",
    "title_array = []\n",
    "genre_id_array = []\n",
    "for result in results:\n",
    "    if result.get('original_language') == 'en':\n",
    "        title_array.append(result.get('title'))\n",
    "        genre_id_array.append(result.get('genre_ids'))\n",
    "\n",
    "# To get the genre name corresponding to genre_id\n",
    "\n",
    "response2 = requests.get(api_link + \"/genre/movie/list\", headers = header, params = params)\n",
    "data2 = response2.json()\n",
    "genres = data2.get('genres')\n",
    "mapping = {}\n",
    "for genre in genres:\n",
    "    mapping[genre.get('id')] = genre.get('name')\n",
    "\n",
    "for i in range(10):\n",
    "    print(title_array[i], \"-\", end=\" \")\n",
    "    for id in genre_id_array[i]:\n",
    "        print(mapping.get(id), end = \", \")\n",
    "    print()"
   ]
  },
  {
   "cell_type": "markdown",
   "metadata": {},
   "source": [
    "* Find the name and birthplace of the present most popular person according to TMDb API."
   ]
  },
  {
   "cell_type": "code",
   "execution_count": 35,
   "metadata": {},
   "outputs": [
    {
     "name": "stdout",
     "output_type": "stream",
     "text": [
      "1290466\n",
      "Barry Keoghan - Dublin, Ireland\n"
     ]
    }
   ],
   "source": [
    "import requests\n",
    "import pandas as pd\n",
    "api_key = \"91bfbe7458ba3f57e70cc77c30f41f97\"\n",
    "api_link = \"https://api.themoviedb.org/3/\"\n",
    "\n",
    "params = {'api_key':api_key}\n",
    "\n",
    "header = {'Accept': 'application/json'}\n",
    "\n",
    "response = requests.get(api_link + \"person/popular\", headers = header, params=params)\n",
    "response = response.json()\n",
    "data = response.get('results')\n",
    "Names = []\n",
    "Popularity = []\n",
    "id = []\n",
    "\n",
    "for i in data:\n",
    "    Names.append(i['name'])\n",
    "    Popularity.append(i['popularity'])\n",
    "    id.append(i['id'])\n",
    "dict = {\n",
    "    'Names':Names,\n",
    "    'Popularity':Popularity,\n",
    "    'Id':id\n",
    "}\n",
    "df = pd.DataFrame(dict)\n",
    "\n",
    "df.sort_values('Popularity',ascending=False)\n",
    "id = df['Id'][0]\n",
    "\n",
    "response2 = requests.get(api_link + f\"person/{id}\", headers = header, params=params)\n",
    "data = response2.json()\n",
    "print(id)\n",
    "print(data['name'],\"-\",data['place_of_birth'])"
   ]
  },
  {
   "cell_type": "markdown",
   "metadata": {},
   "source": [
    "* Fetch the Instagram and Twitter handle of Indian Actress \"Alia Bhatt\" from the TMDb API."
   ]
  },
  {
   "cell_type": "code",
   "execution_count": 37,
   "metadata": {},
   "outputs": [
    {
     "name": "stdout",
     "output_type": "stream",
     "text": [
      "aliaabhatt  Aliaa08\n"
     ]
    }
   ],
   "source": [
    "import requests\n",
    "api_key = \"91bfbe7458ba3f57e70cc77c30f41f97\"\n",
    "api_link = \"https://api.themoviedb.org/3\"\n",
    "params = {'api_key':api_key}\n",
    "header = {'Accept': 'application/json'}\n",
    "response2 = requests.get(api_link + \"/person/\"+str(1108120)+\"/external_ids\", headers = header, params=params)\n",
    "data=response2.json()\n",
    "print(data['instagram_id'],'',data['twitter_id'])"
   ]
  },
  {
   "cell_type": "markdown",
   "metadata": {},
   "source": [
    "Fetch the names of the character played by Tom Cruise in the movies:\n",
    "- Top Gun\n",
    "- Mission: Impossible - Fallout\n",
    "- Minority Report\n",
    "- Edge of Tomorrow"
   ]
  },
  {
   "cell_type": "code",
   "execution_count": 40,
   "metadata": {},
   "outputs": [
    {
     "name": "stdout",
     "output_type": "stream",
     "text": [
      "Lt. Pete 'Maverick' Mitchell\n",
      "Ethan Hunt\n",
      "Chief John Anderton [Pre-Crime]\n",
      "Maj. William 'Bill' Cage\n"
     ]
    }
   ],
   "source": [
    "import requests\n",
    "api_key = \"91bfbe7458ba3f57e70cc77c30f41f97\"\n",
    "api_link = \"https://api.themoviedb.org/3\"\n",
    "params = {'api_key':api_key,'query':'Tom Cruise'}\n",
    "header = {'Accept': 'application/json'}\n",
    "response2 = requests.get(api_link + \"/person/\"+str(500)+\"/movie_credits\", headers = header, params=params)\n",
    "data=response2.json()\n",
    "for result in data['cast']:\n",
    "    if result['title']=='Top Gun':\n",
    "        print(result['character'],)\n",
    "for result in data['cast']:\n",
    "    if result['title']=='Mission: Impossible - Fallout':\n",
    "        print(result['character'])\n",
    "for result in data['cast']:\n",
    "    if result['title']=='Minority Report':\n",
    "        print(result['character'])\n",
    "for result in data['cast']:\n",
    "    if result['title']=='Edge of Tomorrow':\n",
    "        print(result['character'])"
   ]
  },
  {
   "cell_type": "markdown",
   "metadata": {},
   "source": [
    "Did James McAvoy play a role in the movie Deadpool 2. Print Yes or No.\n"
   ]
  },
  {
   "cell_type": "code",
   "execution_count": 41,
   "metadata": {},
   "outputs": [
    {
     "name": "stdout",
     "output_type": "stream",
     "text": [
      "5530 James McAvoy\n",
      "2147941 Helen McAvoy-James\n"
     ]
    }
   ],
   "source": [
    "import requests\n",
    "api_key = \"91bfbe7458ba3f57e70cc77c30f41f97\"\n",
    "api_link = \"https://api.themoviedb.org/3\"\n",
    "params = {'api_key':api_key,'query':'James McAvoy'}\n",
    "header = {'Accept': 'application/json'}\n",
    "response2 = requests.get(api_link + \"/search/person\", headers = header, params=params)\n",
    "data=response2.json()\n",
    "result2=data.get('results')\n",
    "for result in result2:\n",
    "    print(result.get('id'),result.get('name'))"
   ]
  },
  {
   "cell_type": "code",
   "execution_count": 42,
   "metadata": {},
   "outputs": [
    {
     "name": "stdout",
     "output_type": "stream",
     "text": [
      "Yes\n"
     ]
    }
   ],
   "source": [
    "import requests\n",
    "api_key = \"91bfbe7458ba3f57e70cc77c30f41f97\"\n",
    "api_link = \"https://api.themoviedb.org/3\"\n",
    "params = {'api_key':api_key,'query':'Deadpool 2'}\n",
    "header = {'Accept': 'application/json'}\n",
    "response2 = requests.get(api_link + \"/person/\"+str(5530)+\"/movie_credits\", headers = header, params=params)\n",
    "data=response2.json()\n",
    "for result in data['cast']:\n",
    "    if result['title']=='Deadpool 2':\n",
    "        a=result['title']\n",
    "        if a=='Deadpool 2':\n",
    "            print('Yes')\n",
    "        else:\n",
    "            print('No')"
   ]
  },
  {
   "cell_type": "markdown",
   "metadata": {},
   "source": [
    "Using the result obtained in previous question, find out if James McAvoy was credited for his role in movie Deadpool 2. Print Yes or No."
   ]
  },
  {
   "cell_type": "code",
   "execution_count": 46,
   "metadata": {},
   "outputs": [
    {
     "name": "stdout",
     "output_type": "stream",
     "text": [
      "No\n"
     ]
    }
   ],
   "source": [
    "import requests\n",
    "api_key = \"91bfbe7458ba3f57e70cc77c30f41f97\"\n",
    "api_link = \"https://api.themoviedb.org/3\"\n",
    "params = {'api_key':api_key,}\n",
    "header = {'Accept': 'application/json'}\n",
    "response2 = requests.get(api_link + \"/person/\"+str(5530)+\"/movie_credits\", headers = header, params=params)\n",
    "data=response2.json()\n",
    "for result in data['cast']:\n",
    "    if result['title']=='Deadpool 2':\n",
    "        a=result['character']\n",
    "        print('No')"
   ]
  },
  {
   "cell_type": "code",
   "execution_count": 47,
   "metadata": {},
   "outputs": [
    {
     "name": "stdout",
     "output_type": "stream",
     "text": [
      "Six young people from New York City, on their own and struggling to survive in the real world, find the companionship, comfort and support they get from each other to be the perfect antidote to the pressures of life.\n",
      "Friends is a short-lived kids-oriented drama that aired in the spring of 1979. The series, which was produced by Aaron Spelling and aired on ABC, starred Charlie Aiken, Jill Whelan, and Jarrod Johnson as three Southern Californian 11-year-olds. Karen Morrow also appeared. Only five one-hour episodes were produced before the series was cancelled.\n",
      "\n"
     ]
    }
   ],
   "source": [
    "import requests\n",
    "api_key = \"91bfbe7458ba3f57e70cc77c30f41f97\"\n",
    "api_link = \"https://api.themoviedb.org/3\"\n",
    "params = {'api_key':api_key,'query':'Friends'}\n",
    "header = {'Accept': 'application/json'}\n",
    "response2 = requests.get(api_link + \"/search/tv\", headers = header, params=params)\n",
    "data=response2.json()\n",
    "results=data.get('results')\n",
    "for result in results:\n",
    "    if result.get('name')=='Friends':\n",
    "        print(result.get('overview'))"
   ]
  },
  {
   "cell_type": "markdown",
   "metadata": {},
   "source": [
    "Fetch the name and air date of S06E05 of the TV Show 'The Big Bang Theory' from TMDb API."
   ]
  },
  {
   "cell_type": "code",
   "execution_count": 48,
   "metadata": {},
   "outputs": [
    {
     "name": "stdout",
     "output_type": "stream",
     "text": [
      "The Holographic Excitation - 2012-10-25\n"
     ]
    }
   ],
   "source": [
    "import requests\n",
    "api_key = \"91bfbe7458ba3f57e70cc77c30f41f97\"\n",
    "api_link = \"https://api.themoviedb.org/3\"\n",
    "params = {'api_key':api_key,'query':'The Big Bang Theory'}\n",
    "header = {'Accept': 'application/json'}\n",
    "response2 = requests.get(api_link + \"/tv/\"+str(1418)+\"/season/\"+str(6)+\"/episode/\"+str(5), headers = header, params=params)\n",
    "data=response2.json()\n",
    "print(data['name'],\"-\",data['air_date'])"
   ]
  },
  {
   "cell_type": "markdown",
   "metadata": {},
   "source": [
    "Fetch the trending TV Shows for the week from the TMDb API and print the taglines of the top 5 shows. If there is no tagline, print 'Empty' instead"
   ]
  },
  {
   "cell_type": "code",
   "execution_count": 50,
   "metadata": {},
   "outputs": [
    {
     "name": "stdout",
     "output_type": "stream",
     "text": [
      "No bad deed goes unpunished.\n",
      "Only two things can brighten a dark day: The first is love. The second is stealing a fortune.\n",
      "The gods are waiting.\n",
      "Empty\n",
      "One question changes everything.\n"
     ]
    }
   ],
   "source": [
    "import requests\n",
    "api_key = \"91bfbe7458ba3f57e70cc77c30f41f97\"\n",
    "api_link = \"https://api.themoviedb.org/3\"\n",
    "params = {'api_key':api_key}\n",
    "header = {'Accept': 'application/json'}\n",
    "response = requests.get(api_link + \"/trending/tv/week\", headers = header, params = params)\n",
    "data = response.json()\n",
    "results = data.get(\"results\")\n",
    "ids=[]\n",
    "for result in results[:5]:\n",
    "    ids.append(result.get(\"id\"))\n",
    "for id in ids:\n",
    "    response2 = requests.get(api_link + \"/tv/\" + str(id) , headers = header, params = params)\n",
    "    data2 = response2.json()\n",
    "    if (data2.get(\"tagline\")) != \"\":\n",
    "        print(data2.get(\"tagline\"))\n",
    "    else:\n",
    "        print('Empty')"
   ]
  },
  {
   "cell_type": "markdown",
   "metadata": {},
   "source": [
    "Print the names of all the TV shows to be aired today whose original language is english."
   ]
  },
  {
   "cell_type": "code",
   "execution_count": 79,
   "metadata": {},
   "outputs": [
    {
     "name": "stdout",
     "output_type": "stream",
     "text": [
      "Late Night with Seth Meyers\n",
      "Reacher\n",
      "The Late Show with Stephen Colbert\n",
      "For All Mankind\n",
      "PAW Patrol\n",
      "Monarch: Legacy of Monsters\n",
      "The Kelly Clarkson Show\n",
      "Junior Bake Off\n",
      "Hell's Kitchen\n",
      "Question Time\n",
      "The Tonight Show Starring Jimmy Fallon\n",
      "EastEnders\n",
      "This Old House\n",
      "Marvel's Spidey and His Amazing Friends\n",
      "House Hunters International\n",
      "Watch What Happens Live with Andy Cohen\n",
      "Ask This Old House\n",
      "The Price Is Right\n",
      "The Jennifer Hudson Show\n",
      "WWE Main Event\n",
      "Neighbours\n",
      "Canada's Drag Race\n",
      "Ridiculousness\n",
      "Emmerdale\n",
      "Sonic Prime\n",
      "Home and Away\n",
      "Days of Our Lives\n",
      "Dimension 20's Adventuring Party\n",
      "The Chase\n",
      "Let's Make a Deal\n",
      "The Nature of Things\n",
      "The Nature of Things\n",
      "Swamp People\n",
      "Jimmy Kimmel Live!\n",
      "Sherri\n",
      "Richard Osman's House of Games\n",
      "The ReidOut\n",
      "Doctors\n",
      "Digging for Britain\n",
      "Press Your Luck\n",
      "Variety Studio: Actors on Actors\n",
      "Dragons' Den\n",
      "Jeopardy!\n",
      "General Hospital\n",
      "TNA iMPACT!\n",
      "Before the Impact\n",
      "The Bold and the Beautiful\n",
      "Pointless\n",
      "The Traitors\n",
      "House Hunters\n",
      "Southern Charm\n",
      "Sanctuary: A Witch's Tale\n",
      "The Madame Blanc Mysteries\n",
      "ted\n",
      "Reyka\n",
      "The Black Hamptons\n",
      "The Travelling Auctioneers\n",
      "My Little Pony: Tell Your Tale\n",
      "Dragons' Den\n",
      "Uninterrupted's Top Class\n",
      "Truelove\n",
      "Hush\n",
      "Faster, Purple Worm! Kill! Kill!\n",
      "World's Most Evil Killers\n",
      "The Traitors: Uncloaked\n",
      "Married to Real Estate\n",
      "Divorce Court\n",
      "Crime Patrol 2.0\n",
      "Naked News\n",
      "General Hospital Jacklyn Zeman as Bobbie Spencer Final Memorial Episodes\n",
      "Southern Hospitality\n",
      "ROH On HonorClub\n",
      "The Power of Film\n",
      "Swamp Mysteries with Troy Landry\n",
      "Grand Designs Transformations\n",
      "ရပ်ကွက်အထာ\n",
      "Malta: The Jewel of the Mediterranean\n",
      "Martin Clunes: Islands of the Pacific\n",
      "Person Place or Thing\n",
      "Newsday\n",
      "Makiling\n",
      "Planet Lulin\n",
      "Yoga With Adriene\n",
      "TMZ Presents: UFO Revolution\n",
      "Style It Out\n",
      "Undercover: Caught on Tape\n",
      "Married at First Sight: Afterparty\n"
     ]
    }
   ],
   "source": [
    "import requests\n",
    "page_num = 1\n",
    "api_key = \"91bfbe7458ba3f57e70cc77c30f41f97\"\n",
    "api_link = 'https://api.themoviedb.org/3/tv/airing_today'\n",
    "header = {'Accept':'application/json'}\n",
    "params = {'api_key':api_key}\n",
    "r = requests.get(api_link,headers = header,params = params)\n",
    "data = r.json()\n",
    "res = data['results']\n",
    "T_Pages = data['total_pages']\n",
    "for i in range(1,T_Pages + 1):\n",
    "    param = {'api_key':api_key,'page':i}\n",
    "    r = requests.get(api_link,headers = header,params = param)\n",
    "    data = r.json()\n",
    "    results = data.get('results')\n",
    "    for i in results:\n",
    "        if i['original_language'] == 'en':\n",
    "            print(i['name'])"
   ]
  },
  {
   "cell_type": "code",
   "execution_count": 32,
   "metadata": {},
   "outputs": [
    {
     "name": "stdout",
     "output_type": "stream",
     "text": [
      "10 5\n"
     ]
    }
   ],
   "source": [
    "import requests\n",
    "\n",
    "api_key = \"91bfbe7458ba3f57e70cc77c30f41f97\"\n",
    "api_link = \"https://api.themoviedb.org/3\"\n",
    "params = {'query':'Money Heist','api_key':api_key}\n",
    "header = {'Accept': 'application/json'}\n",
    "\n",
    "response = requests.get(api_link+\"/search/tv\",headers=header,params=params)\n",
    "data = response.json()\n",
    "data = data.get('results')\n",
    "series_id = 0\n",
    "for i in range(0,len(data)):\n",
    "    if data[i]['name'] == 'Money Heist':\n",
    "        series_id = data[i]['id']\n",
    "series_id\n",
    "params1 = {'id' : series_id, 'api_key': api_key}\n",
    "response1 = requests.get(api_link + f\"/tv/{series_id}/credits\",headers= header, params= params1)\n",
    "data = response1.json().get('cast')\n",
    "Male = 0\n",
    "Female = 0\n",
    "for i in range(0,len(data)):\n",
    "    if data[i]['gender'] == 1:\n",
    "        Female += 1\n",
    "    else:\n",
    "        Male += 1\n",
    "print(Male,Female)"
   ]
  }
 ],
 "metadata": {
  "kernelspec": {
   "display_name": "Python 3",
   "language": "python",
   "name": "python3"
  },
  "language_info": {
   "codemirror_mode": {
    "name": "ipython",
    "version": 3
   },
   "file_extension": ".py",
   "mimetype": "text/x-python",
   "name": "python",
   "nbconvert_exporter": "python",
   "pygments_lexer": "ipython3",
   "version": "3.11.7"
  }
 },
 "nbformat": 4,
 "nbformat_minor": 2
}
