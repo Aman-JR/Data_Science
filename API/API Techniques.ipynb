{
 "cells": [
  {
   "cell_type": "markdown",
   "metadata": {},
   "source": [
    "#### Asynchronous programming\n",
    "\n",
    "- Asynchronous programming allows concurrent execution of tasks,\n",
    "improving performance and responsiveness in applications.\n",
    "\n",
    "- Traditional synchronous programming blocks execution until a task\n",
    "completes, while asynchronous programming allows tasks to run concurrently.\n",
    "\n",
    "\n",
    "#### Asynchronous programming\n",
    "\n",
    "- Improved Performance: Asynchronous programming enables parallel\n",
    "execution of API requests, reducing overall response times.\n",
    "\n",
    "- Responsiveness: Asynchronous programming allows non-blocking\n",
    "execution, enabling the application to perform other tasks while\n",
    "waiting for API responses.\n",
    "\n",
    "- Scalability: Asynchronous programming is well-suited for handling a\n",
    "large number of API requests, making it easier to scale the application.\n"
   ]
  },
  {
   "cell_type": "code",
   "execution_count": 1,
   "metadata": {},
   "outputs": [
    {
     "name": "stdout",
     "output_type": "stream",
     "text": [
      "Hello Aman\n",
      "Thanks Aman\n",
      "Hello Viren\n",
      "Thanks Viren\n"
     ]
    }
   ],
   "source": [
    "# Time function\n",
    "# Total Time taken = 6sec\n",
    "# Working in a series connection\n",
    "# Single Thread\n",
    "import time\n",
    "\n",
    "def Meet(Name):\n",
    "    print(\"Hello {0}\".format(Name))\n",
    "    time.sleep(3)\n",
    "    print(\"Thanks {0}\".format(Name))\n",
    "\n",
    "Meet(\"Aman\")\n",
    "Meet(\"Viren\")"
   ]
  },
  {
   "cell_type": "code",
   "execution_count": 2,
   "metadata": {},
   "outputs": [
    {
     "name": "stdout",
     "output_type": "stream",
     "text": [
      "Hello Aman\n",
      "Hello Viren\n",
      "Thanks Aman\n",
      "Thanks Viren\n"
     ]
    }
   ],
   "source": [
    "# Parallel Programming\n",
    "# Both the function are working Parallel\n",
    "\n",
    "import asyncio\n",
    "\n",
    "async def Greet(Name):\n",
    "    print(f\"Hello {Name}\")\n",
    "    await asyncio.sleep(3)\n",
    "    print(f\"Thanks {Name}\")\n",
    "    # pass\n",
    "\n",
    "async def main():\n",
    "    task1 = asyncio.create_task(Greet(\"Aman\"))\n",
    "    task2 = asyncio.create_task(Greet(\"Viren\"))\n",
    "    await asyncio.gather(task1,task2)\n",
    "\n",
    "await main()\n"
   ]
  },
  {
   "cell_type": "markdown",
   "metadata": {},
   "source": [
    "#### Rate Limiting\n",
    "\n",
    "- Rate limiting is a technique used to control the number of API requests\n",
    "made within a specific time frame.\n",
    "\n",
    "- It helps protect API resources, ensure fair usage, and maintain system\n",
    "stability. When you have reached the error limit you will get the status\n",
    "code 429 as error message."
   ]
  },
  {
   "cell_type": "markdown",
   "metadata": {},
   "source": [
    "#### Multiple API Interaction\n",
    "\n",
    "- Multiple API interactions involve integrating and coordinating the\n",
    "usage of multiple APIs in a single application or system.\n",
    "\n",
    "- It allows developers to leverage the capabilities of different APIs to\n",
    "enhance functionality, access diverse data sources, and create\n",
    "comprehensive solutions.\n",
    "\n",
    "#### Multiple API Interaction\n",
    "\n",
    "- Data Integration: Combining data from multiple APIs enables the\n",
    "creation of rich, integrated datasets for analysis or display.\n",
    "\n",
    "- Functionality Expansion: By using multiple APIs, developers can access\n",
    "a wide range of services, such as geolocation, payment processing,\n",
    "social media integration, and more.\n",
    "\n",
    "- Customization: Multiple APIs can be combined to create tailored\n",
    "solutions that meet specific business requirements and deliver unique\n",
    "user experiences."
   ]
  },
  {
   "cell_type": "markdown",
   "metadata": {},
   "source": [
    "#### Multiple API interactions\n",
    "\n",
    "Lets think of an e-commeruse use case, where users add things in their carts, after adding the items they want to buy they view the cart, the app should show\n",
    "the user information and also the product information. So we now break down this tasks into multiple api\n",
    "\n",
    "1. First API will geive us a list of carts\n",
    "2. For every cart we will identify the user-id\n",
    "3. from the user-id we will extract all the relveant user information\n",
    "4. from the cart we will also get the list of all the products that user wants to buy\n",
    "5. using the product api we will aggregate this information too.\n",
    "\n"
   ]
  },
  {
   "cell_type": "code",
   "execution_count": 3,
   "metadata": {},
   "outputs": [],
   "source": [
    "import requests"
   ]
  },
  {
   "cell_type": "code",
   "execution_count": 4,
   "metadata": {},
   "outputs": [],
   "source": [
    "cart_url = \"https://dummyjson.com/carts/1\"\n",
    "\n",
    "response_cart_url = requests.get(cart_url)"
   ]
  },
  {
   "cell_type": "code",
   "execution_count": 10,
   "metadata": {},
   "outputs": [
    {
     "data": {
      "text/plain": [
       "{'id': 1,\n",
       " 'products': [{'id': 59,\n",
       "   'title': 'Spring and summershoes',\n",
       "   'price': 20,\n",
       "   'quantity': 3,\n",
       "   'total': 60,\n",
       "   'discountPercentage': 8.71,\n",
       "   'discountedPrice': 55,\n",
       "   'thumbnail': 'https://i.dummyjson.com/data/products/59/thumbnail.jpg'},\n",
       "  {'id': 88,\n",
       "   'title': 'TC Reusable Silicone Magic Washing Gloves',\n",
       "   'price': 29,\n",
       "   'quantity': 2,\n",
       "   'total': 58,\n",
       "   'discountPercentage': 3.19,\n",
       "   'discountedPrice': 56,\n",
       "   'thumbnail': 'https://i.dummyjson.com/data/products/88/thumbnail.jpg'},\n",
       "  {'id': 18,\n",
       "   'title': 'Oil Free Moisturizer 100ml',\n",
       "   'price': 40,\n",
       "   'quantity': 2,\n",
       "   'total': 80,\n",
       "   'discountPercentage': 13.1,\n",
       "   'discountedPrice': 70,\n",
       "   'thumbnail': 'https://i.dummyjson.com/data/products/18/thumbnail.jpg'},\n",
       "  {'id': 95,\n",
       "   'title': 'Wholesale cargo lashing Belt',\n",
       "   'price': 930,\n",
       "   'quantity': 1,\n",
       "   'total': 930,\n",
       "   'discountPercentage': 17.67,\n",
       "   'discountedPrice': 766,\n",
       "   'thumbnail': 'https://i.dummyjson.com/data/products/95/thumbnail.jpg'},\n",
       "  {'id': 39,\n",
       "   'title': 'Women Sweaters Wool',\n",
       "   'price': 600,\n",
       "   'quantity': 2,\n",
       "   'total': 1200,\n",
       "   'discountPercentage': 17.2,\n",
       "   'discountedPrice': 994,\n",
       "   'thumbnail': 'https://i.dummyjson.com/data/products/39/thumbnail.jpg'}],\n",
       " 'total': 2328,\n",
       " 'discountedTotal': 1941,\n",
       " 'userId': 97,\n",
       " 'totalProducts': 5,\n",
       " 'totalQuantity': 10}"
      ]
     },
     "execution_count": 10,
     "metadata": {},
     "output_type": "execute_result"
    }
   ],
   "source": [
    "response_cart_url.json()"
   ]
  },
  {
   "cell_type": "code",
   "execution_count": 12,
   "metadata": {},
   "outputs": [],
   "source": [
    "products_from_cart = response_cart_url.json()[\"products\"]\n",
    "user_from_cart = response_cart_url.json()[\"userId\"]"
   ]
  },
  {
   "cell_type": "code",
   "execution_count": 13,
   "metadata": {},
   "outputs": [],
   "source": [
    "user_info_api = \"https://dummyjson.com/users/{user_from_cart}\""
   ]
  },
  {
   "cell_type": "markdown",
   "metadata": {},
   "source": [
    "#### Organized Data Fetch\n",
    "\n",
    "- Organized Data Fetch using APIs enables efficient data retrieval and\n",
    "processing.\n",
    "\n",
    "- Understanding API documentation, handling parameters, and\n",
    "managing errors are essential for effective data fetching.\n",
    "\n",
    "- Organized data fetch empowers developers to leverage the rich data\n",
    "available through APIs for various applications."
   ]
  },
  {
   "cell_type": "code",
   "execution_count": null,
   "metadata": {},
   "outputs": [],
   "source": []
  },
  {
   "cell_type": "code",
   "execution_count": null,
   "metadata": {},
   "outputs": [],
   "source": []
  }
 ],
 "metadata": {
  "kernelspec": {
   "display_name": "Python 3",
   "language": "python",
   "name": "python3"
  },
  "language_info": {
   "codemirror_mode": {
    "name": "ipython",
    "version": 3
   },
   "file_extension": ".py",
   "mimetype": "text/x-python",
   "name": "python",
   "nbconvert_exporter": "python",
   "pygments_lexer": "ipython3",
   "version": "3.11.7"
  }
 },
 "nbformat": 4,
 "nbformat_minor": 2
}
