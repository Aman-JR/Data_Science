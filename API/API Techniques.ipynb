{
 "cells": [
  {
   "cell_type": "markdown",
   "metadata": {},
   "source": [
    "#### Asynchronous programming\n",
    "\n",
    "- Asynchronous programming allows concurrent execution of tasks,\n",
    "improving performance and responsiveness in applications.\n",
    "\n",
    "- Traditional synchronous programming blocks execution until a task\n",
    "completes, while asynchronous programming allows tasks to run concurrently.\n",
    "\n",
    "\n",
    "#### Asynchronous programming\n",
    "\n",
    "- Improved Performance: Asynchronous programming enables parallel\n",
    "execution of API requests, reducing overall response times.\n",
    "\n",
    "- Responsiveness: Asynchronous programming allows non-blocking\n",
    "execution, enabling the application to perform other tasks while\n",
    "waiting for API responses.\n",
    "\n",
    "- Scalability: Asynchronous programming is well-suited for handling a\n",
    "large number of API requests, making it easier to scale the application.\n"
   ]
  },
  {
   "cell_type": "code",
   "execution_count": 1,
   "metadata": {},
   "outputs": [
    {
     "name": "stdout",
     "output_type": "stream",
     "text": [
      "Hello Aman\n",
      "Thanks Aman\n",
      "Hello Viren\n",
      "Thanks Viren\n"
     ]
    }
   ],
   "source": [
    "# Time function\n",
    "# Total Time taken = 6sec\n",
    "# Working in a series connection\n",
    "# Single Thread\n",
    "import time\n",
    "\n",
    "def Meet(Name):\n",
    "    print(\"Hello {0}\".format(Name))\n",
    "    time.sleep(3)\n",
    "    print(\"Thanks {0}\".format(Name))\n",
    "\n",
    "Meet(\"Aman\")\n",
    "Meet(\"Viren\")"
   ]
  },
  {
   "cell_type": "code",
   "execution_count": 2,
   "metadata": {},
   "outputs": [
    {
     "name": "stdout",
     "output_type": "stream",
     "text": [
      "Hello Aman\n",
      "Hello Viren\n",
      "Thanks Aman\n",
      "Thanks Viren\n"
     ]
    }
   ],
   "source": [
    "# Parallel Programming\n",
    "# Both the function are working Parallel\n",
    "\n",
    "import asyncio\n",
    "\n",
    "async def Greet(Name):\n",
    "    print(f\"Hello {Name}\")\n",
    "    await asyncio.sleep(3)\n",
    "    print(f\"Thanks {Name}\")\n",
    "    # pass\n",
    "\n",
    "async def main():\n",
    "    task1 = asyncio.create_task(Greet(\"Aman\"))\n",
    "    task2 = asyncio.create_task(Greet(\"Viren\"))\n",
    "    await asyncio.gather(task1,task2)\n",
    "\n",
    "await main()\n"
   ]
  },
  {
   "cell_type": "markdown",
   "metadata": {},
   "source": [
    "#### Rate Limiting\n",
    "\n",
    "- Rate limiting is a technique used to control the number of API requests\n",
    "made within a specific time frame.\n",
    "\n",
    "- It helps protect API resources, ensure fair usage, and maintain system\n",
    "stability. When you have reached the error limit you will get the status\n",
    "code 429 as error message."
   ]
  },
  {
   "cell_type": "markdown",
   "metadata": {},
   "source": [
    "#### Multiple API Interaction\n",
    "\n",
    "- Multiple API interactions involve integrating and coordinating the\n",
    "usage of multiple APIs in a single application or system.\n",
    "\n",
    "- It allows developers to leverage the capabilities of different APIs to\n",
    "enhance functionality, access diverse data sources, and create\n",
    "comprehensive solutions.\n",
    "\n",
    "#### Multiple API Interaction\n",
    "\n",
    "- Data Integration: Combining data from multiple APIs enables the\n",
    "creation of rich, integrated datasets for analysis or display.\n",
    "\n",
    "- Functionality Expansion: By using multiple APIs, developers can access\n",
    "a wide range of services, such as geolocation, payment processing,\n",
    "social media integration, and more.\n",
    "\n",
    "- Customization: Multiple APIs can be combined to create tailored\n",
    "solutions that meet specific business requirements and deliver unique\n",
    "user experiences."
   ]
  },
  {
   "cell_type": "code",
   "execution_count": null,
   "metadata": {},
   "outputs": [],
   "source": []
  },
  {
   "cell_type": "code",
   "execution_count": null,
   "metadata": {},
   "outputs": [],
   "source": []
  }
 ],
 "metadata": {
  "kernelspec": {
   "display_name": "Python 3",
   "language": "python",
   "name": "python3"
  },
  "language_info": {
   "codemirror_mode": {
    "name": "ipython",
    "version": 3
   },
   "file_extension": ".py",
   "mimetype": "text/x-python",
   "name": "python",
   "nbconvert_exporter": "python",
   "pygments_lexer": "ipython3",
   "version": "3.11.7"
  }
 },
 "nbformat": 4,
 "nbformat_minor": 2
}
