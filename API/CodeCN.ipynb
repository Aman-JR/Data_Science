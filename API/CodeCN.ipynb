{
 "cells": [
  {
   "cell_type": "markdown",
   "metadata": {},
   "source": [
    "GUEST BOOKING DETAILS"
   ]
  },
  {
   "cell_type": "code",
   "execution_count": 1,
   "metadata": {},
   "outputs": [],
   "source": [
    "import requests\n",
    "import json"
   ]
  },
  {
   "cell_type": "code",
   "execution_count": 4,
   "metadata": {},
   "outputs": [
    {
     "name": "stdout",
     "output_type": "stream",
     "text": [
      "{'firstname': 'Jim', 'lastname': 'Jackson', 'totalprice': 786, 'depositpaid': False, 'bookingdates': {'checkin': '2016-05-10', 'checkout': '2018-05-29'}, 'additionalneeds': 'Breakfast'}\n",
      "{'firstname': 'Sally', 'lastname': 'Brown', 'totalprice': 265, 'depositpaid': False, 'bookingdates': {'checkin': '2021-09-07', 'checkout': '2023-06-24'}}\n",
      "{'firstname': 'Mark', 'lastname': 'Ericsson', 'totalprice': 223, 'depositpaid': True, 'bookingdates': {'checkin': '2021-01-29', 'checkout': '2022-09-16'}, 'additionalneeds': 'Breakfast'}\n",
      "{'firstname': 'Jim', 'lastname': 'Brown', 'totalprice': 763, 'depositpaid': True, 'bookingdates': {'checkin': '2023-06-30', 'checkout': '2023-12-09'}}\n",
      "{'firstname': 'Mary', 'lastname': 'Ericsson', 'totalprice': 958, 'depositpaid': True, 'bookingdates': {'checkin': '2017-02-09', 'checkout': '2019-08-09'}}\n",
      "{'firstname': 'Jim', 'lastname': 'Smith', 'totalprice': 429, 'depositpaid': False, 'bookingdates': {'checkin': '2023-01-11', 'checkout': '2023-12-05'}}\n",
      "{'firstname': 'Jim', 'lastname': 'Jackson', 'totalprice': 580, 'depositpaid': False, 'bookingdates': {'checkin': '2022-03-18', 'checkout': '2023-08-03'}, 'additionalneeds': 'Breakfast'}\n",
      "{'firstname': 'Sally', 'lastname': 'Ericsson', 'totalprice': 143, 'depositpaid': False, 'bookingdates': {'checkin': '2023-05-10', 'checkout': '2023-06-06'}, 'additionalneeds': 'Breakfast'}\n",
      "{'firstname': 'Susan', 'lastname': 'Smith', 'totalprice': 176, 'depositpaid': False, 'bookingdates': {'checkin': '2015-07-20', 'checkout': '2022-04-19'}, 'additionalneeds': 'Breakfast'}\n"
     ]
    }
   ],
   "source": [
    "# url = f\"https://restful-booker.herokuapp.com/booking/{str(i)}\"\n",
    "# For 1 to 10\n",
    "\n",
    "\n",
    "def get_guest_details(starting_index, closing_index):\n",
    "    ans = []\n",
    "    for i in range(starting_index,closing_index):\n",
    "        values = requests.get(f'https://restful-booker.herokuapp.com/booking/{i}')\n",
    "        ans.append(values.json())\n",
    "    return ans\n",
    "\n",
    "details = get_guest_details(1,10)\n",
    "for row in details:\n",
    "    print(row)"
   ]
  },
  {
   "cell_type": "markdown",
   "metadata": {},
   "source": [
    "ADD PRODUCTS"
   ]
  },
  {
   "cell_type": "code",
   "execution_count": null,
   "metadata": {},
   "outputs": [],
   "source": [
    "# API Endpoint : https://dummyjson.com/products/add\n",
    "data = {\n",
    "        'title': 'BMW Pencil',\n",
    "        'price': 50.0,\n",
    "        'brand': 'BMW',\n",
    "        'category': 'Stationery'\n",
    "}\n",
    "\n",
    "def Add_data(data):\n",
    "    string_data = json.dumps(data)\n",
    "    # Get header from the given url\n",
    "    header =  { 'Content-Type': 'application/json' }\n",
    "    return requests.post('https://dummyjson.com/products/add',headers=header, data = string_data)\n",
    "\n",
    "    pass\n",
    "\n",
    "ans = Add_data(data)\n",
    "print(ans.json())\n"
   ]
  }
 ],
 "metadata": {
  "kernelspec": {
   "display_name": "Python 3",
   "language": "python",
   "name": "python3"
  },
  "language_info": {
   "codemirror_mode": {
    "name": "ipython",
    "version": 3
   },
   "file_extension": ".py",
   "mimetype": "text/x-python",
   "name": "python",
   "nbconvert_exporter": "python",
   "pygments_lexer": "ipython3",
   "version": "3.11.7"
  }
 },
 "nbformat": 4,
 "nbformat_minor": 2
}
