{
 "cells": [
  {
   "cell_type": "code",
   "execution_count": 3,
   "metadata": {},
   "outputs": [],
   "source": [
    "import json\n",
    "\n",
    "import requests"
   ]
  },
  {
   "cell_type": "markdown",
   "metadata": {},
   "source": [
    "#### GET REQUEST FORM THE SERVER"
   ]
  },
  {
   "cell_type": "code",
   "execution_count": 35,
   "metadata": {},
   "outputs": [],
   "source": [
    "# Requesting the with the get command\n",
    "Data = requests.get(f'https://dummyjson.com/products/{1}')"
   ]
  },
  {
   "cell_type": "code",
   "execution_count": 36,
   "metadata": {},
   "outputs": [
    {
     "data": {
      "text/plain": [
       "200"
      ]
     },
     "execution_count": 36,
     "metadata": {},
     "output_type": "execute_result"
    }
   ],
   "source": [
    "# Status code 200 means working fine\n",
    "Data.status_code"
   ]
  },
  {
   "cell_type": "code",
   "execution_count": 37,
   "metadata": {},
   "outputs": [
    {
     "data": {
      "text/plain": [
       "'{\"id\":1,\"title\":\"iPhone 9\",\"description\":\"An apple mobile which is nothing like apple\",\"price\":549,\"discountPercentage\":12.96,\"rating\":4.69,\"stock\":94,\"brand\":\"Apple\",\"category\":\"smartphones\",\"thumbnail\":\"https://i.dummyjson.com/data/products/1/thumbnail.jpg\",\"images\":[\"https://i.dummyjson.com/data/products/1/1.jpg\",\"https://i.dummyjson.com/data/products/1/2.jpg\",\"https://i.dummyjson.com/data/products/1/3.jpg\",\"https://i.dummyjson.com/data/products/1/4.jpg\",\"https://i.dummyjson.com/data/products/1/thumbnail.jpg\"]}'"
      ]
     },
     "execution_count": 37,
     "metadata": {},
     "output_type": "execute_result"
    }
   ],
   "source": [
    "# Checking the data we got\n",
    "Data.text"
   ]
  },
  {
   "cell_type": "code",
   "execution_count": 38,
   "metadata": {},
   "outputs": [
    {
     "data": {
      "text/plain": [
       "{'id': 1,\n",
       " 'title': 'iPhone 9',\n",
       " 'description': 'An apple mobile which is nothing like apple',\n",
       " 'price': 549,\n",
       " 'discountPercentage': 12.96,\n",
       " 'rating': 4.69,\n",
       " 'stock': 94,\n",
       " 'brand': 'Apple',\n",
       " 'category': 'smartphones',\n",
       " 'thumbnail': 'https://i.dummyjson.com/data/products/1/thumbnail.jpg',\n",
       " 'images': ['https://i.dummyjson.com/data/products/1/1.jpg',\n",
       "  'https://i.dummyjson.com/data/products/1/2.jpg',\n",
       "  'https://i.dummyjson.com/data/products/1/3.jpg',\n",
       "  'https://i.dummyjson.com/data/products/1/4.jpg',\n",
       "  'https://i.dummyjson.com/data/products/1/thumbnail.jpg']}"
      ]
     },
     "execution_count": 38,
     "metadata": {},
     "output_type": "execute_result"
    }
   ],
   "source": [
    "# Get the data from the data after get statement\n",
    "Data.json()"
   ]
  },
  {
   "cell_type": "markdown",
   "metadata": {},
   "source": [
    "#### POST REQUEST to add the product"
   ]
  },
  {
   "cell_type": "code",
   "execution_count": 12,
   "metadata": {},
   "outputs": [],
   "source": [
    "header =  { 'Content-Type': 'application/json' }\n",
    "data = {'title' : 'BMW Pencil'}\n",
    "\n",
    "\n",
    "# json.dumps() function will convert a subset of Python objects into a json string. \n",
    "# Not all objects are convertible and you may need to create a dictionary of data you\n",
    "# wish to expose before serializing to JSON.\n",
    "string_data = json.dumps(data)\n",
    "\n",
    "post_response = requests.post('https://dummyjson.com/products/add',headers=header,data = string_data)"
   ]
  },
  {
   "cell_type": "code",
   "execution_count": 33,
   "metadata": {},
   "outputs": [
    {
     "data": {
      "text/plain": [
       "{'id': 101, 'title': 'BMW Pencil'}"
      ]
     },
     "execution_count": 33,
     "metadata": {},
     "output_type": "execute_result"
    }
   ],
   "source": [
    "post_response.json()"
   ]
  },
  {
   "cell_type": "markdown",
   "metadata": {},
   "source": [
    "#### PUT METHOD FOR UPDATING THE VALUE\n",
    "- The put method is used to update existing data on the server.\n",
    "- It replace the entire resource with the updated data provided in the request.\n",
    "- PUT requests are often used to update specific resources, such as modifying user information or updating a blog post."
   ]
  },
  {
   "cell_type": "code",
   "execution_count": 2,
   "metadata": {},
   "outputs": [],
   "source": [
    "# Importing libraries\n",
    "import requests\n",
    "import json"
   ]
  },
  {
   "cell_type": "code",
   "execution_count": 3,
   "metadata": {},
   "outputs": [],
   "source": [
    "url = \"https://dummyjson.com/products/1\"\n",
    "header = { 'Content-Type': 'application/json' }\n",
    "data = {\"title\" : \"iPhone\"}\n",
    "new_data = json.dumps(data)"
   ]
  },
  {
   "cell_type": "code",
   "execution_count": 4,
   "metadata": {},
   "outputs": [],
   "source": [
    "put_response = requests.put(url,headers = header, data = new_data)"
   ]
  },
  {
   "cell_type": "code",
   "execution_count": 5,
   "metadata": {},
   "outputs": [
    {
     "data": {
      "text/plain": [
       "200"
      ]
     },
     "execution_count": 5,
     "metadata": {},
     "output_type": "execute_result"
    }
   ],
   "source": [
    "put_response.status_code"
   ]
  },
  {
   "cell_type": "code",
   "execution_count": 6,
   "metadata": {},
   "outputs": [
    {
     "data": {
      "text/plain": [
       "{'id': 1,\n",
       " 'title': 'iPhone',\n",
       " 'price': 549,\n",
       " 'stock': 94,\n",
       " 'rating': 4.69,\n",
       " 'images': ['https://i.dummyjson.com/data/products/1/1.jpg',\n",
       "  'https://i.dummyjson.com/data/products/1/2.jpg',\n",
       "  'https://i.dummyjson.com/data/products/1/3.jpg',\n",
       "  'https://i.dummyjson.com/data/products/1/4.jpg',\n",
       "  'https://i.dummyjson.com/data/products/1/thumbnail.jpg'],\n",
       " 'thumbnail': 'https://i.dummyjson.com/data/products/1/thumbnail.jpg',\n",
       " 'description': 'An apple mobile which is nothing like apple',\n",
       " 'brand': 'Apple',\n",
       " 'category': 'smartphones'}"
      ]
     },
     "execution_count": 6,
     "metadata": {},
     "output_type": "execute_result"
    }
   ],
   "source": [
    "put_response.json()"
   ]
  },
  {
   "cell_type": "markdown",
   "metadata": {},
   "source": [
    "#### DELETE method \n",
    "- DELETE method is used to delete the specific resources from the server.\n",
    "- It deletes the data from the server forever.\n",
    "- Used when specific data used to remove from the database."
   ]
  },
  {
   "cell_type": "code",
   "execution_count": 7,
   "metadata": {},
   "outputs": [
    {
     "data": {
      "text/plain": [
       "200"
      ]
     },
     "execution_count": 7,
     "metadata": {},
     "output_type": "execute_result"
    }
   ],
   "source": [
    "delete_response = requests.delete(\"https://dummyjson.com/products/1\")\n",
    "delete_response.status_code"
   ]
  },
  {
   "cell_type": "code",
   "execution_count": 8,
   "metadata": {},
   "outputs": [
    {
     "data": {
      "text/plain": [
       "{'id': 1,\n",
       " 'title': 'iPhone 9',\n",
       " 'description': 'An apple mobile which is nothing like apple',\n",
       " 'price': 549,\n",
       " 'discountPercentage': 12.96,\n",
       " 'rating': 4.69,\n",
       " 'stock': 94,\n",
       " 'brand': 'Apple',\n",
       " 'category': 'smartphones',\n",
       " 'thumbnail': 'https://i.dummyjson.com/data/products/1/thumbnail.jpg',\n",
       " 'images': ['https://i.dummyjson.com/data/products/1/1.jpg',\n",
       "  'https://i.dummyjson.com/data/products/1/2.jpg',\n",
       "  'https://i.dummyjson.com/data/products/1/3.jpg',\n",
       "  'https://i.dummyjson.com/data/products/1/4.jpg',\n",
       "  'https://i.dummyjson.com/data/products/1/thumbnail.jpg'],\n",
       " 'isDeleted': True,\n",
       " 'deletedOn': '2024-01-04T15:50:49.382Z'}"
      ]
     },
     "execution_count": 8,
     "metadata": {},
     "output_type": "execute_result"
    }
   ],
   "source": [
    "delete_response.json()"
   ]
  },
  {
   "cell_type": "markdown",
   "metadata": {},
   "source": [
    "#### STATUS codes\n",
    "- 1** : indicates the request has been received and the server is continuing to process it.\n",
    "- 2** : Indicates the request was successful and the server has fulfilled it.\n",
    "- 3** : Indicate that further action needs to be taken to complete the request.\n",
    "- 4** : Indicates that the client's request was invalid or cannot be processed by the server.\n",
    "- 5** : Indicate that the server failed to fulfill a valid request."
   ]
  },
  {
   "cell_type": "markdown",
   "metadata": {},
   "source": [
    "#### HANDLING error codes\n",
    "* Inspect Response : check the response status code to understand the result of the request.\n",
    "* Error Message : Extract and present detailed error messages to users.\n",
    "* Conditional Logic : Implement logic based on status codes for appropriate user feedback.\n",
    "* Retrying Mechanism : Create a mechanism to retry requests after a short delay for transient errors.\n",
    "* Logging : Maintain logs to track error response and improve your application."
   ]
  },
  {
   "cell_type": "code",
   "execution_count": 11,
   "metadata": {},
   "outputs": [],
   "source": [
    "# Access the details present on the server\n",
    "status_200 = requests.get(\"https://dummyjson.com/products/1\")"
   ]
  },
  {
   "cell_type": "code",
   "execution_count": 12,
   "metadata": {},
   "outputs": [
    {
     "data": {
      "text/plain": [
       "200"
      ]
     },
     "execution_count": 12,
     "metadata": {},
     "output_type": "execute_result"
    }
   ],
   "source": [
    "status_200.status_code"
   ]
  },
  {
   "cell_type": "code",
   "execution_count": 13,
   "metadata": {},
   "outputs": [],
   "source": [
    "# Accessed anything which is not present\n",
    "status_400 = requests.get(\"https://dummyjson.com/Aman\")"
   ]
  },
  {
   "cell_type": "code",
   "execution_count": 14,
   "metadata": {},
   "outputs": [
    {
     "data": {
      "text/plain": [
       "404"
      ]
     },
     "execution_count": 14,
     "metadata": {},
     "output_type": "execute_result"
    }
   ],
   "source": [
    "status_400.status_code"
   ]
  },
  {
   "cell_type": "code",
   "execution_count": 15,
   "metadata": {},
   "outputs": [],
   "source": [
    "status_500 = requests.get(\"http://the-internet.herokuapp.com/status_codes/500\")"
   ]
  },
  {
   "cell_type": "code",
   "execution_count": 16,
   "metadata": {},
   "outputs": [
    {
     "data": {
      "text/plain": [
       "500"
      ]
     },
     "execution_count": 16,
     "metadata": {},
     "output_type": "execute_result"
    }
   ],
   "source": [
    "status_500.status_code"
   ]
  },
  {
   "cell_type": "code",
   "execution_count": 17,
   "metadata": {},
   "outputs": [],
   "source": [
    "# Authentication error\n",
    "request_auth = requests.get(\"https://api.twitter.com/2/tweets/search/recent?query=from:twitterdev\")"
   ]
  },
  {
   "cell_type": "code",
   "execution_count": 18,
   "metadata": {},
   "outputs": [
    {
     "data": {
      "text/plain": [
       "401"
      ]
     },
     "execution_count": 18,
     "metadata": {},
     "output_type": "execute_result"
    }
   ],
   "source": [
    "request_auth.status_code"
   ]
  },
  {
   "cell_type": "code",
   "execution_count": 19,
   "metadata": {},
   "outputs": [
    {
     "data": {
      "text/plain": [
       "{'title': 'Unauthorized',\n",
       " 'type': 'about:blank',\n",
       " 'status': 401,\n",
       " 'detail': 'Unauthorized'}"
      ]
     },
     "execution_count": 19,
     "metadata": {},
     "output_type": "execute_result"
    }
   ],
   "source": [
    "request_auth.json()"
   ]
  },
  {
   "cell_type": "markdown",
   "metadata": {},
   "source": [
    "#### HTTP Headers\n",
    "\n",
    "- HTTP headers are additional pieces of information sent along with the\n",
    "request or response in an HTTP transaction.\n",
    "\n",
    "- They provide instructions, metadata which is additional context about\n",
    "the data being sent or received.\n",
    "\n",
    "#### JSON Format\n",
    "\n",
    "- JSON (JavaScript Object Notation) is a lightweight data\n",
    "interchange format that is easy for humans to read and write and\n",
    "easy for machines to parse and generate.\n",
    "\n",
    "- JSON is based on key-value pairs, similar to Python dictionaries. It\n",
    "consists of objects enclosed in curly braces {} and list enclosed in\n",
    "square brackets [].\n",
    "\n",
    "* How do you convert a JSON string into a Python object?\n",
    "* json.loads()\n",
    "\n",
    "#### API: Parameters and Data Retrieval\n",
    "\n",
    "##### API Parameters\n",
    "- API parameters are used to customize the API request and filter the\n",
    "data returned by the API.\n",
    "* Parameters are added to the API endpoint URL and allow users to\n",
    "specify criteria such as search keywords, date ranges, sorting\n",
    "preferences, and more.\n",
    "\n",
    "##### Retrieving Data:\n",
    "- By making HTTP requests to specific API endpoints, users can retrieve\n",
    "data from the API.\n",
    "- The API response typically includes the requested data in a structured\n",
    "format, such as JSON or XML.\n",
    "\n",
    "##### Accessing Data:\n",
    "- Once the data is retrieved from the API, users can access it\n",
    "programmatically using the appropriate programming language.\n",
    "- Data can be accessed using methods provided by the programming\n",
    "language or libraries specifically designed for working with APIs.\n",
    "\n",
    "##### Parsing Data:\n",
    "- APIs often return data in a structured format, such as JSON or XML.\n",
    "- Users can parse the structured data to extract specific information of\n",
    "interest using parsing techniques and libraries available in their\n",
    "programming language."
   ]
  },
  {
   "cell_type": "markdown",
   "metadata": {},
   "source": [
    "- NEWS API : https://markets.sh/\n",
    "- TWITTER API : https://developer.twitter.com/en/portal/dashboard"
   ]
  }
 ],
 "metadata": {
  "kernelspec": {
   "display_name": "Python 3",
   "language": "python",
   "name": "python3"
  },
  "language_info": {
   "codemirror_mode": {
    "name": "ipython",
    "version": 3
   },
   "file_extension": ".py",
   "mimetype": "text/x-python",
   "name": "python",
   "nbconvert_exporter": "python",
   "pygments_lexer": "ipython3",
   "version": "3.11.7"
  }
 },
 "nbformat": 4,
 "nbformat_minor": 2
}
