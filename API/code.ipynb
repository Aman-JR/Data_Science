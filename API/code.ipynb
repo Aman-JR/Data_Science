{
 "cells": [
  {
   "cell_type": "code",
   "execution_count": 3,
   "metadata": {},
   "outputs": [],
   "source": [
    "import json\n",
    "\n",
    "import requests"
   ]
  },
  {
   "cell_type": "markdown",
   "metadata": {},
   "source": [
    "#### GET REQUEST FORM THE SERVER"
   ]
  },
  {
   "cell_type": "code",
   "execution_count": 35,
   "metadata": {},
   "outputs": [],
   "source": [
    "# Requesting the with the get command\n",
    "Data = requests.get(f'https://dummyjson.com/products/{1}')"
   ]
  },
  {
   "cell_type": "code",
   "execution_count": 36,
   "metadata": {},
   "outputs": [
    {
     "data": {
      "text/plain": [
       "200"
      ]
     },
     "execution_count": 36,
     "metadata": {},
     "output_type": "execute_result"
    }
   ],
   "source": [
    "# Status code 200 means working fine\n",
    "Data.status_code"
   ]
  },
  {
   "cell_type": "code",
   "execution_count": 37,
   "metadata": {},
   "outputs": [
    {
     "data": {
      "text/plain": [
       "'{\"id\":1,\"title\":\"iPhone 9\",\"description\":\"An apple mobile which is nothing like apple\",\"price\":549,\"discountPercentage\":12.96,\"rating\":4.69,\"stock\":94,\"brand\":\"Apple\",\"category\":\"smartphones\",\"thumbnail\":\"https://i.dummyjson.com/data/products/1/thumbnail.jpg\",\"images\":[\"https://i.dummyjson.com/data/products/1/1.jpg\",\"https://i.dummyjson.com/data/products/1/2.jpg\",\"https://i.dummyjson.com/data/products/1/3.jpg\",\"https://i.dummyjson.com/data/products/1/4.jpg\",\"https://i.dummyjson.com/data/products/1/thumbnail.jpg\"]}'"
      ]
     },
     "execution_count": 37,
     "metadata": {},
     "output_type": "execute_result"
    }
   ],
   "source": [
    "# Checking the data we got\n",
    "Data.text"
   ]
  },
  {
   "cell_type": "code",
   "execution_count": 38,
   "metadata": {},
   "outputs": [
    {
     "data": {
      "text/plain": [
       "{'id': 1,\n",
       " 'title': 'iPhone 9',\n",
       " 'description': 'An apple mobile which is nothing like apple',\n",
       " 'price': 549,\n",
       " 'discountPercentage': 12.96,\n",
       " 'rating': 4.69,\n",
       " 'stock': 94,\n",
       " 'brand': 'Apple',\n",
       " 'category': 'smartphones',\n",
       " 'thumbnail': 'https://i.dummyjson.com/data/products/1/thumbnail.jpg',\n",
       " 'images': ['https://i.dummyjson.com/data/products/1/1.jpg',\n",
       "  'https://i.dummyjson.com/data/products/1/2.jpg',\n",
       "  'https://i.dummyjson.com/data/products/1/3.jpg',\n",
       "  'https://i.dummyjson.com/data/products/1/4.jpg',\n",
       "  'https://i.dummyjson.com/data/products/1/thumbnail.jpg']}"
      ]
     },
     "execution_count": 38,
     "metadata": {},
     "output_type": "execute_result"
    }
   ],
   "source": [
    "# Get the data from the data after get statement\n",
    "Data.json()"
   ]
  },
  {
   "cell_type": "markdown",
   "metadata": {},
   "source": [
    "#### POST REQUEST FROM THE SERVER"
   ]
  },
  {
   "cell_type": "markdown",
   "metadata": {},
   "source": [
    "fetch('https://dummyjson.com/products/add', {\n",
    "  method: 'POST',\n",
    "  headers: { 'Content-Type': 'application/json' },\n",
    "  body: JSON.stringify({\n",
    "    title: 'BMW Pencil',\n",
    "    /* other product data */\n",
    "  })\n",
    "})\n",
    ".then(res => res.json())\n",
    ".then(console.log);\n"
   ]
  },
  {
   "cell_type": "code",
   "execution_count": 12,
   "metadata": {},
   "outputs": [],
   "source": [
    "header =  { 'Content-Type': 'application/json' }\n",
    "data = {'title' : 'BMW Pencil'}\n",
    "\n",
    "\n",
    "# json.dumps() function will convert a subset of Python objects into a json string. \n",
    "# Not all objects are convertible and you may need to create a dictionary of data you\n",
    "# wish to expose before serializing to JSON.\n",
    "string_data = json.dumps(data)\n",
    "\n",
    "post_response = requests.post('https://dummyjson.com/products/add',headers=header,data = string_data)"
   ]
  },
  {
   "cell_type": "code",
   "execution_count": 33,
   "metadata": {},
   "outputs": [
    {
     "data": {
      "text/plain": [
       "{'id': 101, 'title': 'BMW Pencil'}"
      ]
     },
     "execution_count": 33,
     "metadata": {},
     "output_type": "execute_result"
    }
   ],
   "source": [
    "post_response.json()"
   ]
  },
  {
   "cell_type": "code",
   "execution_count": 1,
   "metadata": {},
   "outputs": [],
   "source": [
    "# Importing libraries\n",
    "import requests\n",
    "import json"
   ]
  },
  {
   "cell_type": "code",
   "execution_count": null,
   "metadata": {},
   "outputs": [],
   "source": []
  }
 ],
 "metadata": {
  "kernelspec": {
   "display_name": "Python 3",
   "language": "python",
   "name": "python3"
  },
  "language_info": {
   "codemirror_mode": {
    "name": "ipython",
    "version": 3
   },
   "file_extension": ".py",
   "mimetype": "text/x-python",
   "name": "python",
   "nbconvert_exporter": "python",
   "pygments_lexer": "ipython3",
   "version": "3.11.7"
  }
 },
 "nbformat": 4,
 "nbformat_minor": 2
}
