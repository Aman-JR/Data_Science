{
 "cells": [
  {
   "cell_type": "markdown",
   "metadata": {},
   "source": [
    "#### Feature Details :\n",
    "###### SNo - Serial number.\n",
    "###### Date - Date of funding in format DD/MM/YYYY.\n",
    "###### StartupName - Name of the startup which got funded.\n",
    "###### IndustryVertical - Industry to which the startup belongs.\n",
    "###### SubVertical - Sub-category of the industry type.\n",
    "###### CityLocation - City which the startup is based out of.\n",
    "###### InvestorsName - Name of the investors involved in the funding round.\n",
    "###### InvestmentType - Either Private Equity or Seed Funding.\n",
    "###### AmountInUSD - Funding Amount in USD.\n",
    "###### Remarks - Other information, if any.\n",
    "\n",
    "#### Insights -\n",
    "###### Find out what type of startups are getting funded in the last few years?\n",
    "###### Who are the important investors?\n",
    "###### What are the hot fields that get a lot of funding these days?"
   ]
  },
  {
   "cell_type": "code",
   "execution_count": 1,
   "metadata": {},
   "outputs": [],
   "source": [
    "import numpy as np\n",
    "import pandas as pd\n",
    "import csv\n",
    "import matplotlib.pyplot as plt"
   ]
  },
  {
   "cell_type": "markdown",
   "metadata": {},
   "source": [
    "Problem Statement :\n",
    "Check the trend of investments over the years. To check\n",
    "the trend, find -\n",
    "\n",
    "Total number of fundings done in each year.\n",
    "\n",
    "Plot a line graph between year and number of fundings.\n",
    "Take year on x-axis and number of fundings on y-axis.\n",
    "\n",
    "Print year-wise total number of fundings also. Print years\n",
    "in ascending order.\n",
    "\n",
    "Note :\n",
    "There is some error in the 'Date' feature. Make sure to\n",
    "handle that."
   ]
  },
  {
   "cell_type": "code",
   "execution_count": 37,
   "metadata": {},
   "outputs": [
    {
     "data": {
      "text/html": [
       "<div>\n",
       "<style scoped>\n",
       "    .dataframe tbody tr th:only-of-type {\n",
       "        vertical-align: middle;\n",
       "    }\n",
       "\n",
       "    .dataframe tbody tr th {\n",
       "        vertical-align: top;\n",
       "    }\n",
       "\n",
       "    .dataframe thead th {\n",
       "        text-align: right;\n",
       "    }\n",
       "</style>\n",
       "<table border=\"1\" class=\"dataframe\">\n",
       "  <thead>\n",
       "    <tr style=\"text-align: right;\">\n",
       "      <th></th>\n",
       "      <th>Sr No</th>\n",
       "      <th>Date dd/mm/yyyy</th>\n",
       "      <th>Startup Name</th>\n",
       "      <th>Industry Vertical</th>\n",
       "      <th>SubVertical</th>\n",
       "      <th>City  Location</th>\n",
       "      <th>Investors Name</th>\n",
       "      <th>InvestmentnType</th>\n",
       "      <th>Amount in USD</th>\n",
       "      <th>Remarks</th>\n",
       "    </tr>\n",
       "  </thead>\n",
       "  <tbody>\n",
       "    <tr>\n",
       "      <th>0</th>\n",
       "      <td>1</td>\n",
       "      <td>09/01/2020</td>\n",
       "      <td>BYJU’S</td>\n",
       "      <td>E-Tech</td>\n",
       "      <td>E-learning</td>\n",
       "      <td>Bengaluru</td>\n",
       "      <td>Tiger Global Management</td>\n",
       "      <td>Private Equity Round</td>\n",
       "      <td>20,00,00,000</td>\n",
       "      <td>NaN</td>\n",
       "    </tr>\n",
       "    <tr>\n",
       "      <th>1</th>\n",
       "      <td>2</td>\n",
       "      <td>13/01/2020</td>\n",
       "      <td>Shuttl</td>\n",
       "      <td>Transportation</td>\n",
       "      <td>App based shuttle service</td>\n",
       "      <td>Gurgaon</td>\n",
       "      <td>Susquehanna Growth Equity</td>\n",
       "      <td>Series C</td>\n",
       "      <td>80,48,394</td>\n",
       "      <td>NaN</td>\n",
       "    </tr>\n",
       "  </tbody>\n",
       "</table>\n",
       "</div>"
      ],
      "text/plain": [
       "   Sr No Date dd/mm/yyyy Startup Name Industry Vertical  \\\n",
       "0      1      09/01/2020       BYJU’S            E-Tech   \n",
       "1      2      13/01/2020       Shuttl    Transportation   \n",
       "\n",
       "                 SubVertical City  Location             Investors Name  \\\n",
       "0                 E-learning      Bengaluru    Tiger Global Management   \n",
       "1  App based shuttle service        Gurgaon  Susquehanna Growth Equity   \n",
       "\n",
       "        InvestmentnType Amount in USD Remarks  \n",
       "0  Private Equity Round  20,00,00,000     NaN  \n",
       "1              Series C     80,48,394     NaN  "
      ]
     },
     "execution_count": 37,
     "metadata": {},
     "output_type": "execute_result"
    }
   ],
   "source": [
    "df = pd.read_csv('StartUp_Funding.csv',encoding='utf-8')\n",
    "df.head(2)"
   ]
  },
  {
   "cell_type": "code",
   "execution_count": 54,
   "metadata": {},
   "outputs": [
    {
     "name": "stdout",
     "output_type": "stream",
     "text": [
      "{2020: 7, 2019: 111, 2018: 309, 2017: 693, 2016: 993, 2015: 930, 15: 1}\n"
     ]
    },
    {
     "data": {
      "image/png": "[encoded data removed]",
      "text/plain": [
       "<Figure size 640x480 with 1 Axes>"
      ]
     },
     "metadata": {},
     "output_type": "display_data"
    }
   ],
   "source": [
    "year = df['Date dd/mm/yyyy'].str.split('/').str[2]\n",
    "year = year.replace(\"\",2017)\n",
    "year = year.astype(float).fillna('2017')\n",
    "year = year.astype('int64')\n",
    "\n",
    "dict = {}\n",
    "for i in range(0,len(year)):\n",
    "    if year[i] in dict:\n",
    "        dict[year[i]] += 1\n",
    "    else:\n",
    "        dict[year[i]] = 1\n",
    "print(dict)\n",
    "\n",
    "yr = dict.keys()\n",
    "gain = dict.values()\n",
    "\n",
    "plt.plot(yr,gain)\n",
    "plt.axis([2015,2018,0,1000])\n",
    "plt.show()"
   ]
  },
  {
   "cell_type": "markdown",
   "metadata": {},
   "source": [
    "Problem Statement :\n",
    "Find out which cities are generally chosen for starting a\n",
    "startup.\n",
    "\n",
    "Find top 10 Indian cities which have most number of\n",
    "startups ?\n",
    "\n",
    "Plot a pie chart and visualise it.\n",
    "\n",
    "Print the city name and number of startups in that city\n",
    "also.\n",
    "\n",
    "Note :\n",
    "Take city name \"Delhi\" as \"New Delhi\".\n",
    "\n",
    "Check the case-sensitiveness of cities also. That means -\n",
    "at some place, instead of \"Bangalore\", \"bangalore\" is\n",
    "given. Take city name as \"Bangalore\".\n",
    "\n",
    "For few startups multiple locations are given, one Indian\n",
    "and one Foreign. Count those startups in Indian startup\n",
    "also. Indian city name is first.\n",
    "\n",
    "Print the city in descending order with respect to the\n",
    "number of startups."
   ]
  },
  {
   "cell_type": "code",
   "execution_count": 2,
   "metadata": {},
   "outputs": [
    {
     "data": {
      "text/html": [
       "<div>\n",
       "<style scoped>\n",
       "    .dataframe tbody tr th:only-of-type {\n",
       "        vertical-align: middle;\n",
       "    }\n",
       "\n",
       "    .dataframe tbody tr th {\n",
       "        vertical-align: top;\n",
       "    }\n",
       "\n",
       "    .dataframe thead th {\n",
       "        text-align: right;\n",
       "    }\n",
       "</style>\n",
       "<table border=\"1\" class=\"dataframe\">\n",
       "  <thead>\n",
       "    <tr style=\"text-align: right;\">\n",
       "      <th></th>\n",
       "      <th>Sr No</th>\n",
       "      <th>Date dd/mm/yyyy</th>\n",
       "      <th>Startup Name</th>\n",
       "      <th>Industry Vertical</th>\n",
       "      <th>SubVertical</th>\n",
       "      <th>City  Location</th>\n",
       "      <th>Investors Name</th>\n",
       "      <th>InvestmentnType</th>\n",
       "      <th>Amount in USD</th>\n",
       "      <th>Remarks</th>\n",
       "    </tr>\n",
       "  </thead>\n",
       "  <tbody>\n",
       "    <tr>\n",
       "      <th>0</th>\n",
       "      <td>1</td>\n",
       "      <td>09/01/2020</td>\n",
       "      <td>BYJU’S</td>\n",
       "      <td>E-Tech</td>\n",
       "      <td>E-learning</td>\n",
       "      <td>Bengaluru</td>\n",
       "      <td>Tiger Global Management</td>\n",
       "      <td>Private Equity Round</td>\n",
       "      <td>20,00,00,000</td>\n",
       "      <td>NaN</td>\n",
       "    </tr>\n",
       "  </tbody>\n",
       "</table>\n",
       "</div>"
      ],
      "text/plain": [
       "   Sr No Date dd/mm/yyyy Startup Name Industry Vertical SubVertical  \\\n",
       "0      1      09/01/2020       BYJU’S            E-Tech  E-learning   \n",
       "\n",
       "  City  Location           Investors Name       InvestmentnType Amount in USD  \\\n",
       "0      Bengaluru  Tiger Global Management  Private Equity Round  20,00,00,000   \n",
       "\n",
       "  Remarks  \n",
       "0     NaN  "
      ]
     },
     "execution_count": 2,
     "metadata": {},
     "output_type": "execute_result"
    }
   ],
   "source": [
    "df1 = pd.read_csv('StartUp_Funding.csv',encoding='utf-8')\n",
    "df1.head(1)"
   ]
  },
  {
   "cell_type": "code",
   "execution_count": 10,
   "metadata": {},
   "outputs": [
    {
     "data": {
      "image/png": "[encoded data removed]",
      "text/plain": [
       "<Figure size 640x480 with 1 Axes>"
      ]
     },
     "metadata": {},
     "output_type": "display_data"
    }
   ],
   "source": [
    "df1['City  Location'].replace('Delhi','New Delhi')\n",
    "df1.head(1)\n",
    "city = df1['City  Location'].value_counts()\n",
    "city.head(10)\n",
    "Location = []\n",
    "Count = []\n",
    "for i in range(0,10):\n",
    "    Location.append(city.index[i])\n",
    "    Count.append(city.values[i])\n",
    "Location = np.array(Location)\n",
    "Count = np.array(Count)\n",
    "# plt.pie(no_of_str, labels=city_name, autopct='%.2f%%',counterclock=False)\n",
    "plt.title('Number of startup in city')\n",
    "plt.axis(\"equal\")\n",
    "plt.pie(Count,labels=Location,autopct=\"%.2f%%\",counterclock=False)\n",
    "plt.show()"
   ]
  },
  {
   "cell_type": "markdown",
   "metadata": {},
   "source": [
    "Problem Statement :\n",
    "Find out if cities play any role in receiving funding.\n",
    "\n",
    "Find top 10 Indian cities with most amount of fundings\n",
    "received. Find out percentage of funding each city has got\n",
    "(among top 10 Indian cities only).\n",
    "\n",
    "Print the city and percentage with 2 decimal place after\n",
    "rounding off.\n",
    "\n",
    "Note:\n",
    "Take city name \"Delhi\" as \"New Delhi\".\n",
    "\n",
    "Check the case-sensitiveness of cities also. That means -\n",
    "at some place, instead of \"Bangalore\", \"bangalore\" is\n",
    "given. Take city name as \"Bangalore\".\n",
    "\n",
    "For few startups multiple locations are given, one Indian\n",
    "and one Foreign. Count those startups in Indian startup\n",
    "also. Indian city name is first.\n",
    "\n",
    "Print the city in descending order with respect to the\n",
    "percentage of funding."
   ]
  },
  {
   "cell_type": "code",
   "execution_count": 76,
   "metadata": {},
   "outputs": [
    {
     "data": {
      "text/html": [
       "<div>\n",
       "<style scoped>\n",
       "    .dataframe tbody tr th:only-of-type {\n",
       "        vertical-align: middle;\n",
       "    }\n",
       "\n",
       "    .dataframe tbody tr th {\n",
       "        vertical-align: top;\n",
       "    }\n",
       "\n",
       "    .dataframe thead th {\n",
       "        text-align: right;\n",
       "    }\n",
       "</style>\n",
       "<table border=\"1\" class=\"dataframe\">\n",
       "  <thead>\n",
       "    <tr style=\"text-align: right;\">\n",
       "      <th></th>\n",
       "      <th>SNo</th>\n",
       "      <th>Date</th>\n",
       "      <th>StartupName</th>\n",
       "      <th>IndustryVertical</th>\n",
       "      <th>SubVertical</th>\n",
       "      <th>CityLocation</th>\n",
       "      <th>InvestorsName</th>\n",
       "      <th>InvestmentType</th>\n",
       "      <th>AmountInUSD</th>\n",
       "      <th>Remarks</th>\n",
       "    </tr>\n",
       "  </thead>\n",
       "  <tbody>\n",
       "    <tr>\n",
       "      <th>0</th>\n",
       "      <td>0</td>\n",
       "      <td>01-08-2017</td>\n",
       "      <td>TouchKin</td>\n",
       "      <td>Technology</td>\n",
       "      <td>Predictive Care Platform</td>\n",
       "      <td>Bangalore</td>\n",
       "      <td>Kae Capital</td>\n",
       "      <td>Private Equity</td>\n",
       "      <td>13,00,000</td>\n",
       "      <td>NaN</td>\n",
       "    </tr>\n",
       "  </tbody>\n",
       "</table>\n",
       "</div>"
      ],
      "text/plain": [
       "   SNo        Date StartupName IndustryVertical               SubVertical  \\\n",
       "0    0  01-08-2017    TouchKin       Technology  Predictive Care Platform   \n",
       "\n",
       "  CityLocation InvestorsName  InvestmentType AmountInUSD Remarks  \n",
       "0    Bangalore   Kae Capital  Private Equity   13,00,000     NaN  "
      ]
     },
     "execution_count": 76,
     "metadata": {},
     "output_type": "execute_result"
    }
   ],
   "source": [
    "df2 = pd.read_csv('startup_funding_.csv',encoding='utf-8')\n",
    "# df2.sort_values(by='Amount in USD',ascending=False)\n",
    "df2.head(1)\n"
   ]
  },
  {
   "cell_type": "code",
   "execution_count": 82,
   "metadata": {},
   "outputs": [
    {
     "name": "stdout",
     "output_type": "stream",
     "text": [
      "0       1300000\n",
      "1             0\n",
      "2             0\n",
      "3        500000\n",
      "4        850000\n",
      "         ...   \n",
      "2367    4500000\n",
      "2368     825000\n",
      "2369    1500000\n",
      "2370          0\n",
      "2371     140000\n",
      "Name: AmountInUSD, Length: 2372, dtype: int32\n"
     ]
    }
   ],
   "source": [
    "# Use replace with regex = True Determines if the passed-in pattern is a regular expression:\n",
    "# If True, assumes the passed-in pattern is a regular expression.\n",
    "# If False, treats the pattern as a literal string\n",
    "# Cannot be set to False if pat is a compiled regex or repl is a callable.\n",
    "\n",
    "df2['AmountInUSD'] = df2['AmountInUSD'].replace(\",\",\"\",regex=True)\n",
    "df2['AmountInUSD'] = df2['AmountInUSD'].replace(np.nan,0)\n",
    "df2['AmountInUSD'] = df2['AmountInUSD'].astype(float).astype(int)\n",
    "print(df2['AmountInUSD'])\n",
    "\n",
    "\n",
    "df2['CityLocation'].replace('bengaluru',\"Bengaluru\", inplace=True)\n",
    "df2['CityLocation'].replace('Delhi',\"New Delhi\",inplace=True)\n",
    "\n",
    "ans = df2.groupby('CityLocation')['AmountInUSD'].sum()\n"
   ]
  },
  {
   "cell_type": "code",
   "execution_count": 86,
   "metadata": {},
   "outputs": [
    {
     "name": "stdout",
     "output_type": "stream",
     "text": [
      "CityLocation\n",
      "Bangalore    8383774108\n",
      "New Delhi    2751247500\n",
      "Mumbai       2343694500\n",
      "Gurgaon      2067821500\n",
      "Chennai       411105000\n",
      "Pune          282153000\n",
      "Hyderabad     194762000\n",
      "Noida         170338000\n",
      "Ahmedabad      98186000\n",
      "Pune / US      68500000\n",
      "Name: AmountInUSD, dtype: int64\n"
     ]
    }
   ],
   "source": [
    "ans = ans.sort_values(ascending=False)[0:10]\n",
    "city = ans.index\n",
    "amount = ans.values\n",
    "\n",
    "# print(ans.values[0])"
   ]
  },
  {
   "cell_type": "code",
   "execution_count": 89,
   "metadata": {},
   "outputs": [
    {
     "data": {
      "image/png": "[encoded data removed]",
      "text/plain": [
       "<Figure size 640x480 with 1 Axes>"
      ]
     },
     "metadata": {},
     "output_type": "display_data"
    },
    {
     "name": "stdout",
     "output_type": "stream",
     "text": [
      "Bangalore 49.99\n",
      "New Delhi 16.40\n",
      "Mumbai 13.97\n",
      "Gurgaon 12.33\n",
      "Chennai 2.45\n",
      "Pune 1.68\n",
      "Hyderabad 1.16\n",
      "Noida 1.02\n",
      "Ahmedabad 0.59\n",
      "Pune / US 0.41\n"
     ]
    }
   ],
   "source": [
    "explode = [0.2,0.2,0.2,0.2,0.1,0.1,0.2,0.2,0.2,0.2]\n",
    "plt.pie(amount,labels = city,autopct='%0.2f',counterclock=False,startangle=90,explode =explode,radius=1.5)\n",
    "plt.xticks(rotation=90)\n",
    "plt.show()\n",
    "\n",
    "percent = np.true_divide(amount,amount.sum())*100\n",
    "for i in range(len(city)):\n",
    "    print(city[i],format(percent[i],'0.2f'))  "
   ]
  },
  {
   "cell_type": "markdown",
   "metadata": {},
   "source": [
    "Problem Statement :\n",
    "There are 4 different type of investments. Find out\n",
    "percentage of amount funded for each investment type.\n",
    "\n",
    "Plot a pie chart to visualise.\n",
    "\n",
    "Print the investment type and percentage of amount\n",
    "funded with 2 decimal places after rounding off.\n",
    "\n",
    "Note :\n",
    "Correct spelling of investment types are - \"Private Equity\",\n",
    "\"Seed Funding\", \"Debt Funding\", and \"Crowd Funding\".\n",
    "Keep an eye for any spelling mistake. You can find this by\n",
    "printing unique values from this column.\n",
    "\n",
    "Print the investment type in descending order with respect\n",
    "to the percentage of the amount funded."
   ]
  },
  {
   "cell_type": "code",
   "execution_count": 91,
   "metadata": {},
   "outputs": [
    {
     "data": {
      "text/html": [
       "<div>\n",
       "<style scoped>\n",
       "    .dataframe tbody tr th:only-of-type {\n",
       "        vertical-align: middle;\n",
       "    }\n",
       "\n",
       "    .dataframe tbody tr th {\n",
       "        vertical-align: top;\n",
       "    }\n",
       "\n",
       "    .dataframe thead th {\n",
       "        text-align: right;\n",
       "    }\n",
       "</style>\n",
       "<table border=\"1\" class=\"dataframe\">\n",
       "  <thead>\n",
       "    <tr style=\"text-align: right;\">\n",
       "      <th></th>\n",
       "      <th>SNo</th>\n",
       "      <th>Date</th>\n",
       "      <th>StartupName</th>\n",
       "      <th>IndustryVertical</th>\n",
       "      <th>SubVertical</th>\n",
       "      <th>CityLocation</th>\n",
       "      <th>InvestorsName</th>\n",
       "      <th>InvestmentType</th>\n",
       "      <th>AmountInUSD</th>\n",
       "      <th>Remarks</th>\n",
       "    </tr>\n",
       "  </thead>\n",
       "  <tbody>\n",
       "    <tr>\n",
       "      <th>0</th>\n",
       "      <td>0</td>\n",
       "      <td>01-08-2017</td>\n",
       "      <td>TouchKin</td>\n",
       "      <td>Technology</td>\n",
       "      <td>Predictive Care Platform</td>\n",
       "      <td>Bangalore</td>\n",
       "      <td>Kae Capital</td>\n",
       "      <td>Private Equity</td>\n",
       "      <td>13,00,000</td>\n",
       "      <td>NaN</td>\n",
       "    </tr>\n",
       "    <tr>\n",
       "      <th>1</th>\n",
       "      <td>1</td>\n",
       "      <td>02-08-2017</td>\n",
       "      <td>Ethinos</td>\n",
       "      <td>Technology</td>\n",
       "      <td>Digital Marketing Agency</td>\n",
       "      <td>Mumbai</td>\n",
       "      <td>Triton Investment Advisors</td>\n",
       "      <td>Private Equity</td>\n",
       "      <td>NaN</td>\n",
       "      <td>NaN</td>\n",
       "    </tr>\n",
       "    <tr>\n",
       "      <th>2</th>\n",
       "      <td>2</td>\n",
       "      <td>02-08-2017</td>\n",
       "      <td>Leverage Edu</td>\n",
       "      <td>Consumer Internet</td>\n",
       "      <td>Online platform for Higher Education Services</td>\n",
       "      <td>New Delhi</td>\n",
       "      <td>Kashyap Deorah, Anand Sankeshwar, Deepak Jain,...</td>\n",
       "      <td>Seed Funding</td>\n",
       "      <td>NaN</td>\n",
       "      <td>NaN</td>\n",
       "    </tr>\n",
       "  </tbody>\n",
       "</table>\n",
       "</div>"
      ],
      "text/plain": [
       "   SNo        Date   StartupName   IndustryVertical  \\\n",
       "0    0  01-08-2017      TouchKin         Technology   \n",
       "1    1  02-08-2017       Ethinos         Technology   \n",
       "2    2  02-08-2017  Leverage Edu  Consumer Internet   \n",
       "\n",
       "                                     SubVertical CityLocation  \\\n",
       "0                       Predictive Care Platform    Bangalore   \n",
       "1                       Digital Marketing Agency       Mumbai   \n",
       "2  Online platform for Higher Education Services    New Delhi   \n",
       "\n",
       "                                       InvestorsName  InvestmentType  \\\n",
       "0                                        Kae Capital  Private Equity   \n",
       "1                         Triton Investment Advisors  Private Equity   \n",
       "2  Kashyap Deorah, Anand Sankeshwar, Deepak Jain,...    Seed Funding   \n",
       "\n",
       "  AmountInUSD Remarks  \n",
       "0   13,00,000     NaN  \n",
       "1         NaN     NaN  \n",
       "2         NaN     NaN  "
      ]
     },
     "execution_count": 91,
     "metadata": {},
     "output_type": "execute_result"
    }
   ],
   "source": [
    "df3 = pd.read_csv('startup_funding_.csv',encoding='utf-8')\n",
    "df3.head(3)"
   ]
  },
  {
   "cell_type": "code",
   "execution_count": 92,
   "metadata": {},
   "outputs": [
    {
     "data": {
      "text/plain": [
       "array(['Private Equity', 'Seed Funding', 'Debt Funding', nan,\n",
       "       'SeedFunding', 'PrivateEquity', 'Crowd funding', 'Crowd Funding'],\n",
       "      dtype=object)"
      ]
     },
     "execution_count": 92,
     "metadata": {},
     "output_type": "execute_result"
    }
   ],
   "source": [
    "df3['InvestmentType'].unique()"
   ]
  },
  {
   "cell_type": "code",
   "execution_count": 119,
   "metadata": {},
   "outputs": [
    {
     "name": "stdout",
     "output_type": "stream",
     "text": [
      "0       1300000.0\n",
      "1             0.0\n",
      "2             0.0\n",
      "3        500000.0\n",
      "4        850000.0\n",
      "          ...    \n",
      "2367    4500000.0\n",
      "2368     825000.0\n",
      "2369    1500000.0\n",
      "2370          0.0\n",
      "2371     140000.0\n",
      "Name: AmountInUSD, Length: 2372, dtype: float64\n"
     ]
    }
   ],
   "source": [
    "df3['InvestmentType']  = df3['InvestmentType'].replace('PrivateEquity','Private Equity')\n",
    "df3['InvestmentType']  = df3['InvestmentType'].replace('SeedFunding','Seed Funding')\n",
    "df3['InvestmentType']  = df3['InvestmentType'].replace('Crowd funding','Crowd Funding')\n",
    "\n",
    "# print(df3['InvestmentType'].unique())\n",
    "\n",
    "\n",
    "df3['AmountInUSD'] = df3['AmountInUSD'].replace(\",\",\"\",regex=True)\n",
    "df3['AmountInUSD'] = df3['AmountInUSD'].replace(np.nan,0)\n",
    "df3['AmountInUSD'] = df3['AmountInUSD'].astype(float)\n",
    "\n",
    "print(df2['AmountInUSD'])"
   ]
  },
  {
   "cell_type": "code",
   "execution_count": 131,
   "metadata": {},
   "outputs": [
    {
     "data": {
      "image/png": "[encoded data removed]",
      "text/plain": [
       "<Figure size 640x480 with 1 Axes>"
      ]
     },
     "metadata": {},
     "output_type": "display_data"
    },
    {
     "name": "stdout",
     "output_type": "stream",
     "text": [
      "Crowd Funding 155768.0\n",
      "Debt Funding 7800000.0\n",
      "Private Equity 18007085000.0\n",
      "Seed Funding 332345708.0\n"
     ]
    }
   ],
   "source": [
    "ans1 = df3.groupby('InvestmentType')['AmountInUSD'].sum()\n",
    "# ans1 = ans1.sort_values(ascending = False)[:10]\n",
    "FundType = ans1.index\n",
    "FundValue = ans1.values\n",
    "\n",
    "plt.pie(FundValue,labels=FundType,autopct=\"%.2f%%\",startangle=110,counterclock=False)\n",
    "plt.show()\n",
    "\n",
    "for i in range(0,len(FundType)):\n",
    "    print(FundType[i],FundValue[i])"
   ]
  },
  {
   "cell_type": "markdown",
   "metadata": {},
   "source": [
    "Problem Statement :\n",
    "Which type of companies got more easily funding. To\n",
    "answer this question, find -\n",
    "\n",
    "Top 5 industries and percentage of the total amount\n",
    "funded to that industry. (among top 5 only)\n",
    "\n",
    "Print the industry name and percentage of the amount\n",
    "funded with 2 decimal place after rounding off.\n",
    "\n",
    "Note :\n",
    "Ecommerce is the right word in IndustryVertical, so correct\n",
    "it.\n",
    "\n",
    "Print the industry in descending order with respect to the\n",
    "percentage of the amount funded."
   ]
  },
  {
   "cell_type": "code",
   "execution_count": 3,
   "metadata": {},
   "outputs": [
    {
     "data": {
      "text/html": [
       "<div>\n",
       "<style scoped>\n",
       "    .dataframe tbody tr th:only-of-type {\n",
       "        vertical-align: middle;\n",
       "    }\n",
       "\n",
       "    .dataframe tbody tr th {\n",
       "        vertical-align: top;\n",
       "    }\n",
       "\n",
       "    .dataframe thead th {\n",
       "        text-align: right;\n",
       "    }\n",
       "</style>\n",
       "<table border=\"1\" class=\"dataframe\">\n",
       "  <thead>\n",
       "    <tr style=\"text-align: right;\">\n",
       "      <th></th>\n",
       "      <th>SNo</th>\n",
       "      <th>Date</th>\n",
       "      <th>StartupName</th>\n",
       "      <th>IndustryVertical</th>\n",
       "      <th>SubVertical</th>\n",
       "      <th>CityLocation</th>\n",
       "      <th>InvestorsName</th>\n",
       "      <th>InvestmentType</th>\n",
       "      <th>AmountInUSD</th>\n",
       "      <th>Remarks</th>\n",
       "    </tr>\n",
       "  </thead>\n",
       "  <tbody>\n",
       "    <tr>\n",
       "      <th>0</th>\n",
       "      <td>0</td>\n",
       "      <td>01-08-2017</td>\n",
       "      <td>TouchKin</td>\n",
       "      <td>Technology</td>\n",
       "      <td>Predictive Care Platform</td>\n",
       "      <td>Bangalore</td>\n",
       "      <td>Kae Capital</td>\n",
       "      <td>Private Equity</td>\n",
       "      <td>13,00,000</td>\n",
       "      <td>NaN</td>\n",
       "    </tr>\n",
       "    <tr>\n",
       "      <th>1</th>\n",
       "      <td>1</td>\n",
       "      <td>02-08-2017</td>\n",
       "      <td>Ethinos</td>\n",
       "      <td>Technology</td>\n",
       "      <td>Digital Marketing Agency</td>\n",
       "      <td>Mumbai</td>\n",
       "      <td>Triton Investment Advisors</td>\n",
       "      <td>Private Equity</td>\n",
       "      <td>NaN</td>\n",
       "      <td>NaN</td>\n",
       "    </tr>\n",
       "  </tbody>\n",
       "</table>\n",
       "</div>"
      ],
      "text/plain": [
       "   SNo        Date StartupName IndustryVertical               SubVertical  \\\n",
       "0    0  01-08-2017    TouchKin       Technology  Predictive Care Platform   \n",
       "1    1  02-08-2017     Ethinos       Technology  Digital Marketing Agency   \n",
       "\n",
       "  CityLocation               InvestorsName  InvestmentType AmountInUSD Remarks  \n",
       "0    Bangalore                 Kae Capital  Private Equity   13,00,000     NaN  \n",
       "1       Mumbai  Triton Investment Advisors  Private Equity         NaN     NaN  "
      ]
     },
     "execution_count": 3,
     "metadata": {},
     "output_type": "execute_result"
    }
   ],
   "source": [
    "data = pd.read_csv('startup_funding_.csv',encoding='utf-8')\n",
    "data.head(2)"
   ]
  },
  {
   "cell_type": "code",
   "execution_count": 17,
   "metadata": {},
   "outputs": [],
   "source": [
    "data['AmountInUSD'] = data['AmountInUSD'].replace(',','',regex=True)\n",
    "data['AmountInUSD'] = data['AmountInUSD'].fillna(0)\n",
    "data['AmountInUSD'] = data['AmountInUSD'].astype(float).astype(int)\n",
    "\n",
    "data['IndustryVertical'].replace('ECommerce','Ecommerce',inplace = True)\n",
    "data['IndustryVertical'].replace('eCommerce','Ecommerce',inplace = True)\n",
    "data['IndustryVertical'].replace('ecommerce','Ecommerce',inplace = True)\n",
    "\n",
    "check = data.groupby('IndustryVertical')['AmountInUSD'].sum()\n",
    "check = check.sort_values(ascending=False)[:5]"
   ]
  },
  {
   "cell_type": "code",
   "execution_count": 18,
   "metadata": {},
   "outputs": [
    {
     "data": {
      "image/png": "[encoded data removed]",
      "text/plain": [
       "<Figure size 640x480 with 1 Axes>"
      ]
     },
     "metadata": {},
     "output_type": "display_data"
    },
    {
     "name": "stdout",
     "output_type": "stream",
     "text": [
      "Ecommerce 40.53\n",
      "Consumer Internet 35.95\n",
      "Technology 10.45\n",
      "Online Marketplace 6.63\n",
      "E-Commerce & M-Commerce platform 6.44\n"
     ]
    }
   ],
   "source": [
    "industry = check.index\n",
    "amount = check.values\n",
    "\n",
    "plt.pie(amount,labels = industry,autopct='%0.2f',counterclock=False,startangle=100)\n",
    "plt.show()\n",
    "percent = np.true_divide(amount,amount.sum())*100\n",
    "for i in range(len(industry)):\n",
    "    print(industry[i],format(percent[i],'0.2f'))"
   ]
  },
  {
   "cell_type": "markdown",
   "metadata": {},
   "source": [
    "Problem Statement :\n",
    "Find top 5 startups with most amount of total funding.\n",
    "\n",
    "Print the startup name in descending order with respect to\n",
    "amount of funding.\n",
    "\n",
    "Note:\n",
    "Ola, Flipkart, Oyo, Paytm are important startups, so correct\n",
    "their names. There are many errors in startup names,\n",
    "ignore correcting all, just handle important ones."
   ]
  },
  {
   "cell_type": "code",
   "execution_count": 45,
   "metadata": {},
   "outputs": [],
   "source": [
    "df = pd.read_csv('startup_funding_.csv',encoding = 'utf-8')"
   ]
  },
  {
   "cell_type": "code",
   "execution_count": 46,
   "metadata": {},
   "outputs": [
    {
     "data": {
      "text/plain": [
       "array(['TouchKin', 'Ethinos', 'Leverage Edu', ..., 'Graphene',\n",
       "       'Simplotel', 'couponmachine.in'], dtype=object)"
      ]
     },
     "execution_count": 46,
     "metadata": {},
     "output_type": "execute_result"
    }
   ],
   "source": [
    "df['StartupName'].unique()"
   ]
  },
  {
   "cell_type": "code",
   "execution_count": 47,
   "metadata": {},
   "outputs": [],
   "source": [
    "df['StartupName'].replace('Flipkart.com','Flipkart',inplace = True)\n",
    "\n",
    "df['StartupName'].replace('Ola Cabs','Ola',inplace = True)\n",
    "df['StartupName'].replace('Olacabs','Ola',inplace = True)\n",
    "df['StartupName'].replace('Ola Cabs','Ola',inplace = True)\n",
    "\n",
    "df['StartupName'].replace('Oyo Rooms','Oyo',inplace = True)\n",
    "df['StartupName'].replace('Oyorooms','Oyo',inplace = True)\n",
    "df['StartupName'].replace('OyoRooms','Oyo',inplace = True)\n",
    "\n",
    "df['StartupName'].replace('Paytm Marketplace','Paytm',inplace = True)\n",
    "\n",
    "\n",
    "\n",
    "df['AmountInUSD'] = df['AmountInUSD'].apply(lambda x: float(str(x).replace(\",\",\"\")))\n",
    "df = df.groupby('StartupName')['AmountInUSD'].sum()"
   ]
  },
  {
   "cell_type": "code",
   "execution_count": 48,
   "metadata": {},
   "outputs": [
    {
     "data": {
      "text/plain": [
       "StartupName\n",
       "#Fame                   10000000.0\n",
       "121Policy                      0.0\n",
       "1Crowd                         0.0\n",
       "1mg                     30000000.0\n",
       "1mg (Healthkartplus)     6000000.0\n",
       "                           ...    \n",
       "underDOGS                      0.0\n",
       "vImmune                        0.0\n",
       "vPhrase Analytics              0.0\n",
       "wWhere                    200000.0\n",
       "wayForward               1000000.0\n",
       "Name: AmountInUSD, Length: 1994, dtype: float64"
      ]
     },
     "execution_count": 48,
     "metadata": {},
     "output_type": "execute_result"
    }
   ],
   "source": [
    "df"
   ]
  },
  {
   "cell_type": "code",
   "execution_count": 49,
   "metadata": {},
   "outputs": [
    {
     "data": {
      "image/png": "[encoded data removed]",
      "text/plain": [
       "<Figure size 640x480 with 1 Axes>"
      ]
     },
     "metadata": {},
     "output_type": "display_data"
    },
    {
     "name": "stdout",
     "output_type": "stream",
     "text": [
      "Paytm 29.96\n",
      "Flipkart 28.93\n",
      "Ola 24.32\n",
      "Snapdeal 8.96\n",
      "Oyo 7.83\n"
     ]
    }
   ],
   "source": [
    "df = df.sort_values(ascending = False)[:5]\n",
    "industry = df.index\n",
    "amount = df.values\n",
    "\n",
    "plt.pie(amount,labels = industry,autopct='%0.2f',counterclock=False,startangle=100)\n",
    "plt.show()\n",
    "percent = np.true_divide(amount,amount.sum())*100\n",
    "for i in range(len(industry)):\n",
    "    print(industry[i],format(percent[i],'0.2f'))\n",
    "    "
   ]
  },
  {
   "cell_type": "markdown",
   "metadata": {},
   "source": [
    "#### PROBLEM STATEMENT\n",
    "Find the top 5 startups who received the most number of\n",
    "funding rounds. That means, startups which got fundings\n",
    "maximum number of times.\n",
    "\n",
    "Print the startup name in descending order with respect to\n",
    "the number of funding round as integer value.\n",
    "\n",
    "Note:\n",
    "Ola, Flipkart, Oyo, Paytm are important startups, so correct\n",
    "their names. There are many errors in startup names,\n",
    "ignore correcting all, just handle important ones."
   ]
  },
  {
   "cell_type": "code",
   "execution_count": 59,
   "metadata": {},
   "outputs": [
    {
     "data": {
      "text/html": [
       "<div>\n",
       "<style scoped>\n",
       "    .dataframe tbody tr th:only-of-type {\n",
       "        vertical-align: middle;\n",
       "    }\n",
       "\n",
       "    .dataframe tbody tr th {\n",
       "        vertical-align: top;\n",
       "    }\n",
       "\n",
       "    .dataframe thead th {\n",
       "        text-align: right;\n",
       "    }\n",
       "</style>\n",
       "<table border=\"1\" class=\"dataframe\">\n",
       "  <thead>\n",
       "    <tr style=\"text-align: right;\">\n",
       "      <th></th>\n",
       "      <th>SNo</th>\n",
       "      <th>Date</th>\n",
       "      <th>StartupName</th>\n",
       "      <th>IndustryVertical</th>\n",
       "      <th>SubVertical</th>\n",
       "      <th>CityLocation</th>\n",
       "      <th>InvestorsName</th>\n",
       "      <th>InvestmentType</th>\n",
       "      <th>AmountInUSD</th>\n",
       "      <th>Remarks</th>\n",
       "    </tr>\n",
       "  </thead>\n",
       "  <tbody>\n",
       "    <tr>\n",
       "      <th>0</th>\n",
       "      <td>0</td>\n",
       "      <td>01-08-2017</td>\n",
       "      <td>TouchKin</td>\n",
       "      <td>Technology</td>\n",
       "      <td>Predictive Care Platform</td>\n",
       "      <td>Bangalore</td>\n",
       "      <td>Kae Capital</td>\n",
       "      <td>Private Equity</td>\n",
       "      <td>13,00,000</td>\n",
       "      <td>NaN</td>\n",
       "    </tr>\n",
       "    <tr>\n",
       "      <th>1</th>\n",
       "      <td>1</td>\n",
       "      <td>02-08-2017</td>\n",
       "      <td>Ethinos</td>\n",
       "      <td>Technology</td>\n",
       "      <td>Digital Marketing Agency</td>\n",
       "      <td>Mumbai</td>\n",
       "      <td>Triton Investment Advisors</td>\n",
       "      <td>Private Equity</td>\n",
       "      <td>NaN</td>\n",
       "      <td>NaN</td>\n",
       "    </tr>\n",
       "  </tbody>\n",
       "</table>\n",
       "</div>"
      ],
      "text/plain": [
       "   SNo        Date StartupName IndustryVertical               SubVertical  \\\n",
       "0    0  01-08-2017    TouchKin       Technology  Predictive Care Platform   \n",
       "1    1  02-08-2017     Ethinos       Technology  Digital Marketing Agency   \n",
       "\n",
       "  CityLocation               InvestorsName  InvestmentType AmountInUSD Remarks  \n",
       "0    Bangalore                 Kae Capital  Private Equity   13,00,000     NaN  \n",
       "1       Mumbai  Triton Investment Advisors  Private Equity         NaN     NaN  "
      ]
     },
     "execution_count": 59,
     "metadata": {},
     "output_type": "execute_result"
    }
   ],
   "source": [
    "ndf = pd.read_csv('startup_funding_.csv',encoding='utf-8')\n",
    "ndf.head(2)"
   ]
  },
  {
   "cell_type": "code",
   "execution_count": 60,
   "metadata": {},
   "outputs": [],
   "source": [
    "# Correction of the data\n",
    "ndf['StartupName'].replace('Flipkart.com','Flipkart',inplace = True)\n",
    "\n",
    "ndf['StartupName'].replace('Ola Cabs','Ola',inplace = True)\n",
    "ndf['StartupName'].replace('Olacabs','Ola',inplace = True)\n",
    "ndf['StartupName'].replace('Ola Cabs','Ola',inplace = True)\n",
    "\n",
    "ndf['StartupName'].replace('Oyo Rooms','Oyo',inplace = True)\n",
    "ndf['StartupName'].replace('Oyorooms','Oyo',inplace = True)\n",
    "ndf['StartupName'].replace('OyoRooms','Oyo',inplace = True)\n",
    "\n",
    "ndf['StartupName'].replace('Paytm Marketplace','Paytm',inplace = True)\n",
    "\n",
    "ndf['AmountInUSD'] = ndf['AmountInUSD'].replace(',','',regex=True)\n",
    "ndf['AmountInUSD'] = ndf['AmountInUSD'].fillna(0)\n",
    "ndf['AmountInUSD'] = ndf['AmountInUSD'].astype(float).astype(int)"
   ]
  },
  {
   "cell_type": "code",
   "execution_count": 74,
   "metadata": {},
   "outputs": [],
   "source": [
    "# .iloc[] is primarily integer position based (from 0 to length-1 of the axis), but may also be used with a boolean array.\n",
    "# faster way to change all the data values.\n",
    "for i in range(len(ndf['StartupName'])):\n",
    "    if 'Paytm' in ndf['StartupName'].iloc[i]:\n",
    "        ndf['StartupName'].replace(ndf['StartupName'].iloc[i],'Paytm',inplace=True)\n",
    "    elif 'Flipkart' in ndf['StartupName'].iloc[i]:\n",
    "        ndf['StartupName'].replace(ndf['StartupName'].iloc[i],'Flipkart',inplace=True)\n",
    "    elif 'Ola' in ndf['StartupName'].iloc[i]:\n",
    "        ndf['StartupName'].replace(ndf['StartupName'].iloc[i],'Ola',inplace=True)\n",
    "    elif 'Oyo' in ndf['StartupName'].iloc[i]:\n",
    "        ndf['StartupName'].replace(ndf['StartupName'].iloc[i],'Oyo',inplace=True)"
   ]
  },
  {
   "cell_type": "code",
   "execution_count": 75,
   "metadata": {},
   "outputs": [
    {
     "data": {
      "text/html": [
       "<div>\n",
       "<style scoped>\n",
       "    .dataframe tbody tr th:only-of-type {\n",
       "        vertical-align: middle;\n",
       "    }\n",
       "\n",
       "    .dataframe tbody tr th {\n",
       "        vertical-align: top;\n",
       "    }\n",
       "\n",
       "    .dataframe thead th {\n",
       "        text-align: right;\n",
       "    }\n",
       "</style>\n",
       "<table border=\"1\" class=\"dataframe\">\n",
       "  <thead>\n",
       "    <tr style=\"text-align: right;\">\n",
       "      <th></th>\n",
       "      <th>SNo</th>\n",
       "      <th>Date</th>\n",
       "      <th>StartupName</th>\n",
       "      <th>IndustryVertical</th>\n",
       "      <th>SubVertical</th>\n",
       "      <th>CityLocation</th>\n",
       "      <th>InvestorsName</th>\n",
       "      <th>InvestmentType</th>\n",
       "      <th>AmountInUSD</th>\n",
       "      <th>Remarks</th>\n",
       "    </tr>\n",
       "  </thead>\n",
       "  <tbody>\n",
       "    <tr>\n",
       "      <th>0</th>\n",
       "      <td>0</td>\n",
       "      <td>01-08-2017</td>\n",
       "      <td>TouchKin</td>\n",
       "      <td>Technology</td>\n",
       "      <td>Predictive Care Platform</td>\n",
       "      <td>Bangalore</td>\n",
       "      <td>Kae Capital</td>\n",
       "      <td>Private Equity</td>\n",
       "      <td>1300000</td>\n",
       "      <td>NaN</td>\n",
       "    </tr>\n",
       "    <tr>\n",
       "      <th>1</th>\n",
       "      <td>1</td>\n",
       "      <td>02-08-2017</td>\n",
       "      <td>Ethinos</td>\n",
       "      <td>Technology</td>\n",
       "      <td>Digital Marketing Agency</td>\n",
       "      <td>Mumbai</td>\n",
       "      <td>Triton Investment Advisors</td>\n",
       "      <td>Private Equity</td>\n",
       "      <td>0</td>\n",
       "      <td>NaN</td>\n",
       "    </tr>\n",
       "  </tbody>\n",
       "</table>\n",
       "</div>"
      ],
      "text/plain": [
       "   SNo        Date StartupName IndustryVertical               SubVertical  \\\n",
       "0    0  01-08-2017    TouchKin       Technology  Predictive Care Platform   \n",
       "1    1  02-08-2017     Ethinos       Technology  Digital Marketing Agency   \n",
       "\n",
       "  CityLocation               InvestorsName  InvestmentType  AmountInUSD  \\\n",
       "0    Bangalore                 Kae Capital  Private Equity      1300000   \n",
       "1       Mumbai  Triton Investment Advisors  Private Equity            0   \n",
       "\n",
       "  Remarks  \n",
       "0     NaN  \n",
       "1     NaN  "
      ]
     },
     "execution_count": 75,
     "metadata": {},
     "output_type": "execute_result"
    }
   ],
   "source": [
    "ndf.head(2)"
   ]
  },
  {
   "cell_type": "code",
   "execution_count": 76,
   "metadata": {},
   "outputs": [
    {
     "data": {
      "text/plain": [
       "StartupName\n",
       "Ola          9\n",
       "Swiggy       7\n",
       "Paytm        6\n",
       "UrbanClap    6\n",
       "NoBroker     5\n",
       "Name: count, dtype: int64"
      ]
     },
     "execution_count": 76,
     "metadata": {},
     "output_type": "execute_result"
    }
   ],
   "source": [
    "ans3 = ndf['StartupName'].value_counts()\n",
    "ans3[:5]"
   ]
  },
  {
   "cell_type": "code",
   "execution_count": 79,
   "metadata": {},
   "outputs": [
    {
     "data": {
      "text/plain": [
       "StartupName\n",
       "Ola          9\n",
       "Swiggy       7\n",
       "Paytm        6\n",
       "UrbanClap    6\n",
       "Flipkart     5\n",
       "Name: AmountInUSD, dtype: int64"
      ]
     },
     "execution_count": 79,
     "metadata": {},
     "output_type": "execute_result"
    }
   ],
   "source": [
    "ans2 = ndf.groupby('StartupName')['AmountInUSD'].count()\n",
    "ans2.sort_values(ascending=False)[:5]"
   ]
  },
  {
   "cell_type": "code",
   "execution_count": null,
   "metadata": {},
   "outputs": [],
   "source": []
  }
 ],
 "metadata": {
  "kernelspec": {
   "display_name": "Python 3",
   "language": "python",
   "name": "python3"
  },
  "language_info": {
   "codemirror_mode": {
    "name": "ipython",
    "version": 3
   },
   "file_extension": ".py",
   "mimetype": "text/x-python",
   "name": "python",
   "nbconvert_exporter": "python",
   "pygments_lexer": "ipython3",
   "version": "3.11.7"
  }
 },
 "nbformat": 4,
 "nbformat_minor": 2
}
