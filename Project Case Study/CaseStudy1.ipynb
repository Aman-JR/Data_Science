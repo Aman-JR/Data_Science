{
 "cells": [
  {
   "cell_type": "markdown",
   "metadata": {},
   "source": [
    "#### Feature Details :\n",
    "###### SNo - Serial number.\n",
    "###### Date - Date of funding in format DD/MM/YYYY.\n",
    "###### StartupName - Name of the startup which got funded.\n",
    "###### IndustryVertical - Industry to which the startup belongs.\n",
    "###### SubVertical - Sub-category of the industry type.\n",
    "###### CityLocation - City which the startup is based out of.\n",
    "###### InvestorsName - Name of the investors involved in the funding round.\n",
    "###### InvestmentType - Either Private Equity or Seed Funding.\n",
    "###### AmountInUSD - Funding Amount in USD.\n",
    "###### Remarks - Other information, if any.\n",
    "\n",
    "#### Insights -\n",
    "###### Find out what type of startups are getting funded in the last few years?\n",
    "###### Who are the important investors?\n",
    "###### What are the hot fields that get a lot of funding these days?"
   ]
  },
  {
   "cell_type": "code",
   "execution_count": 2,
   "metadata": {},
   "outputs": [],
   "source": [
    "import numpy as np\n",
    "import pandas as pd\n",
    "import csv\n",
    "import matplotlib.pyplot as plt"
   ]
  },
  {
   "cell_type": "markdown",
   "metadata": {},
   "source": [
    "Problem Statement :\n",
    "Check the trend of investments over the years. To check\n",
    "the trend, find -\n",
    "\n",
    "Total number of fundings done in each year.\n",
    "\n",
    "Plot a line graph between year and number of fundings.\n",
    "Take year on x-axis and number of fundings on y-axis.\n",
    "\n",
    "Print year-wise total number of fundings also. Print years\n",
    "in ascending order.\n",
    "\n",
    "Note :\n",
    "There is some error in the 'Date' feature. Make sure to\n",
    "handle that."
   ]
  },
  {
   "cell_type": "code",
   "execution_count": 37,
   "metadata": {},
   "outputs": [
    {
     "data": {
      "text/html": [
       "<div>\n",
       "<style scoped>\n",
       "    .dataframe tbody tr th:only-of-type {\n",
       "        vertical-align: middle;\n",
       "    }\n",
       "\n",
       "    .dataframe tbody tr th {\n",
       "        vertical-align: top;\n",
       "    }\n",
       "\n",
       "    .dataframe thead th {\n",
       "        text-align: right;\n",
       "    }\n",
       "</style>\n",
       "<table border=\"1\" class=\"dataframe\">\n",
       "  <thead>\n",
       "    <tr style=\"text-align: right;\">\n",
       "      <th></th>\n",
       "      <th>Sr No</th>\n",
       "      <th>Date dd/mm/yyyy</th>\n",
       "      <th>Startup Name</th>\n",
       "      <th>Industry Vertical</th>\n",
       "      <th>SubVertical</th>\n",
       "      <th>City  Location</th>\n",
       "      <th>Investors Name</th>\n",
       "      <th>InvestmentnType</th>\n",
       "      <th>Amount in USD</th>\n",
       "      <th>Remarks</th>\n",
       "    </tr>\n",
       "  </thead>\n",
       "  <tbody>\n",
       "    <tr>\n",
       "      <th>0</th>\n",
       "      <td>1</td>\n",
       "      <td>09/01/2020</td>\n",
       "      <td>BYJU’S</td>\n",
       "      <td>E-Tech</td>\n",
       "      <td>E-learning</td>\n",
       "      <td>Bengaluru</td>\n",
       "      <td>Tiger Global Management</td>\n",
       "      <td>Private Equity Round</td>\n",
       "      <td>20,00,00,000</td>\n",
       "      <td>NaN</td>\n",
       "    </tr>\n",
       "    <tr>\n",
       "      <th>1</th>\n",
       "      <td>2</td>\n",
       "      <td>13/01/2020</td>\n",
       "      <td>Shuttl</td>\n",
       "      <td>Transportation</td>\n",
       "      <td>App based shuttle service</td>\n",
       "      <td>Gurgaon</td>\n",
       "      <td>Susquehanna Growth Equity</td>\n",
       "      <td>Series C</td>\n",
       "      <td>80,48,394</td>\n",
       "      <td>NaN</td>\n",
       "    </tr>\n",
       "  </tbody>\n",
       "</table>\n",
       "</div>"
      ],
      "text/plain": [
       "   Sr No Date dd/mm/yyyy Startup Name Industry Vertical  \\\n",
       "0      1      09/01/2020       BYJU’S            E-Tech   \n",
       "1      2      13/01/2020       Shuttl    Transportation   \n",
       "\n",
       "                 SubVertical City  Location             Investors Name  \\\n",
       "0                 E-learning      Bengaluru    Tiger Global Management   \n",
       "1  App based shuttle service        Gurgaon  Susquehanna Growth Equity   \n",
       "\n",
       "        InvestmentnType Amount in USD Remarks  \n",
       "0  Private Equity Round  20,00,00,000     NaN  \n",
       "1              Series C     80,48,394     NaN  "
      ]
     },
     "execution_count": 37,
     "metadata": {},
     "output_type": "execute_result"
    }
   ],
   "source": [
    "df = pd.read_csv('StartUp_Funding.csv',encoding='utf-8')\n",
    "df.head(2)"
   ]
  },
  {
   "cell_type": "code",
   "execution_count": 54,
   "metadata": {},
   "outputs": [
    {
     "name": "stdout",
     "output_type": "stream",
     "text": [
      "{2020: 7, 2019: 111, 2018: 309, 2017: 693, 2016: 993, 2015: 930, 15: 1}\n"
     ]
    },
    {
     "data": {
      "image/png": "[encoded data removed]",
      "text/plain": [
       "<Figure size 640x480 with 1 Axes>"
      ]
     },
     "metadata": {},
     "output_type": "display_data"
    }
   ],
   "source": [
    "year = df['Date dd/mm/yyyy'].str.split('/').str[2]\n",
    "year = year.replace(\"\",2017)\n",
    "year = year.astype(float).fillna('2017')\n",
    "year = year.astype('int64')\n",
    "\n",
    "dict = {}\n",
    "for i in range(0,len(year)):\n",
    "    if year[i] in dict:\n",
    "        dict[year[i]] += 1\n",
    "    else:\n",
    "        dict[year[i]] = 1\n",
    "print(dict)\n",
    "\n",
    "yr = dict.keys()\n",
    "gain = dict.values()\n",
    "\n",
    "plt.plot(yr,gain)\n",
    "plt.axis([2015,2018,0,1000])\n",
    "plt.show()"
   ]
  },
  {
   "cell_type": "markdown",
   "metadata": {},
   "source": [
    "Problem Statement :\n",
    "Find out which cities are generally chosen for starting a\n",
    "startup.\n",
    "\n",
    "Find top 10 Indian cities which have most number of\n",
    "startups ?\n",
    "\n",
    "Plot a pie chart and visualise it.\n",
    "\n",
    "Print the city name and number of startups in that city\n",
    "also.\n",
    "\n",
    "Note :\n",
    "Take city name \"Delhi\" as \"New Delhi\".\n",
    "\n",
    "Check the case-sensitiveness of cities also. That means -\n",
    "at some place, instead of \"Bangalore\", \"bangalore\" is\n",
    "given. Take city name as \"Bangalore\".\n",
    "\n",
    "For few startups multiple locations are given, one Indian\n",
    "and one Foreign. Count those startups in Indian startup\n",
    "also. Indian city name is first.\n",
    "\n",
    "Print the city in descending order with respect to the\n",
    "number of startups."
   ]
  },
  {
   "cell_type": "code",
   "execution_count": 2,
   "metadata": {},
   "outputs": [
    {
     "data": {
      "text/html": [
       "<div>\n",
       "<style scoped>\n",
       "    .dataframe tbody tr th:only-of-type {\n",
       "        vertical-align: middle;\n",
       "    }\n",
       "\n",
       "    .dataframe tbody tr th {\n",
       "        vertical-align: top;\n",
       "    }\n",
       "\n",
       "    .dataframe thead th {\n",
       "        text-align: right;\n",
       "    }\n",
       "</style>\n",
       "<table border=\"1\" class=\"dataframe\">\n",
       "  <thead>\n",
       "    <tr style=\"text-align: right;\">\n",
       "      <th></th>\n",
       "      <th>Sr No</th>\n",
       "      <th>Date dd/mm/yyyy</th>\n",
       "      <th>Startup Name</th>\n",
       "      <th>Industry Vertical</th>\n",
       "      <th>SubVertical</th>\n",
       "      <th>City  Location</th>\n",
       "      <th>Investors Name</th>\n",
       "      <th>InvestmentnType</th>\n",
       "      <th>Amount in USD</th>\n",
       "      <th>Remarks</th>\n",
       "    </tr>\n",
       "  </thead>\n",
       "  <tbody>\n",
       "    <tr>\n",
       "      <th>0</th>\n",
       "      <td>1</td>\n",
       "      <td>09/01/2020</td>\n",
       "      <td>BYJU’S</td>\n",
       "      <td>E-Tech</td>\n",
       "      <td>E-learning</td>\n",
       "      <td>Bengaluru</td>\n",
       "      <td>Tiger Global Management</td>\n",
       "      <td>Private Equity Round</td>\n",
       "      <td>20,00,00,000</td>\n",
       "      <td>NaN</td>\n",
       "    </tr>\n",
       "  </tbody>\n",
       "</table>\n",
       "</div>"
      ],
      "text/plain": [
       "   Sr No Date dd/mm/yyyy Startup Name Industry Vertical SubVertical  \\\n",
       "0      1      09/01/2020       BYJU’S            E-Tech  E-learning   \n",
       "\n",
       "  City  Location           Investors Name       InvestmentnType Amount in USD  \\\n",
       "0      Bengaluru  Tiger Global Management  Private Equity Round  20,00,00,000   \n",
       "\n",
       "  Remarks  \n",
       "0     NaN  "
      ]
     },
     "execution_count": 2,
     "metadata": {},
     "output_type": "execute_result"
    }
   ],
   "source": [
    "df1 = pd.read_csv('StartUp_Funding.csv',encoding='utf-8')\n",
    "df1.head(1)"
   ]
  },
  {
   "cell_type": "code",
   "execution_count": 10,
   "metadata": {},
   "outputs": [
    {
     "data": {
      "image/png": "[encoded data removed]",
      "text/plain": [
       "<Figure size 640x480 with 1 Axes>"
      ]
     },
     "metadata": {},
     "output_type": "display_data"
    }
   ],
   "source": [
    "df1['City  Location'].replace('Delhi','New Delhi')\n",
    "df1.head(1)\n",
    "city = df1['City  Location'].value_counts()\n",
    "city.head(10)\n",
    "Location = []\n",
    "Count = []\n",
    "for i in range(0,10):\n",
    "    Location.append(city.index[i])\n",
    "    Count.append(city.values[i])\n",
    "Location = np.array(Location)\n",
    "Count = np.array(Count)\n",
    "# plt.pie(no_of_str, labels=city_name, autopct='%.2f%%',counterclock=False)\n",
    "plt.title('Number of startup in city')\n",
    "plt.axis(\"equal\")\n",
    "plt.pie(Count,labels=Location,autopct=\"%.2f%%\",counterclock=False)\n",
    "plt.show()"
   ]
  },
  {
   "cell_type": "markdown",
   "metadata": {},
   "source": [
    "Problem Statement :\n",
    "Find out if cities play any role in receiving funding.\n",
    "\n",
    "Find top 10 Indian cities with most amount of fundings\n",
    "received. Find out percentage of funding each city has got\n",
    "(among top 10 Indian cities only).\n",
    "\n",
    "Print the city and percentage with 2 decimal place after\n",
    "rounding off.\n",
    "\n",
    "Note:\n",
    "Take city name \"Delhi\" as \"New Delhi\".\n",
    "\n",
    "Check the case-sensitiveness of cities also. That means -\n",
    "at some place, instead of \"Bangalore\", \"bangalore\" is\n",
    "given. Take city name as \"Bangalore\".\n",
    "\n",
    "For few startups multiple locations are given, one Indian\n",
    "and one Foreign. Count those startups in Indian startup\n",
    "also. Indian city name is first.\n",
    "\n",
    "Print the city in descending order with respect to the\n",
    "percentage of funding."
   ]
  },
  {
   "cell_type": "code",
   "execution_count": 89,
   "metadata": {},
   "outputs": [
    {
     "data": {
      "text/html": [
       "<div>\n",
       "<style scoped>\n",
       "    .dataframe tbody tr th:only-of-type {\n",
       "        vertical-align: middle;\n",
       "    }\n",
       "\n",
       "    .dataframe tbody tr th {\n",
       "        vertical-align: top;\n",
       "    }\n",
       "\n",
       "    .dataframe thead th {\n",
       "        text-align: right;\n",
       "    }\n",
       "</style>\n",
       "<table border=\"1\" class=\"dataframe\">\n",
       "  <thead>\n",
       "    <tr style=\"text-align: right;\">\n",
       "      <th></th>\n",
       "      <th>Sr No</th>\n",
       "      <th>Date dd/mm/yyyy</th>\n",
       "      <th>Startup Name</th>\n",
       "      <th>Industry Vertical</th>\n",
       "      <th>SubVertical</th>\n",
       "      <th>City  Location</th>\n",
       "      <th>Investors Name</th>\n",
       "      <th>InvestmentnType</th>\n",
       "      <th>Amount in USD</th>\n",
       "      <th>Remarks</th>\n",
       "    </tr>\n",
       "  </thead>\n",
       "  <tbody>\n",
       "    <tr>\n",
       "      <th>0</th>\n",
       "      <td>1</td>\n",
       "      <td>09/01/2020</td>\n",
       "      <td>BYJU’S</td>\n",
       "      <td>E-Tech</td>\n",
       "      <td>E-learning</td>\n",
       "      <td>Bengaluru</td>\n",
       "      <td>Tiger Global Management</td>\n",
       "      <td>Private Equity Round</td>\n",
       "      <td>20,00,00,000</td>\n",
       "      <td>NaN</td>\n",
       "    </tr>\n",
       "  </tbody>\n",
       "</table>\n",
       "</div>"
      ],
      "text/plain": [
       "   Sr No Date dd/mm/yyyy Startup Name Industry Vertical SubVertical  \\\n",
       "0      1      09/01/2020       BYJU’S            E-Tech  E-learning   \n",
       "\n",
       "  City  Location           Investors Name       InvestmentnType Amount in USD  \\\n",
       "0      Bengaluru  Tiger Global Management  Private Equity Round  20,00,00,000   \n",
       "\n",
       "  Remarks  \n",
       "0     NaN  "
      ]
     },
     "execution_count": 89,
     "metadata": {},
     "output_type": "execute_result"
    }
   ],
   "source": [
    "df2 = pd.read_csv('StartUp_Funding.csv',encoding='utf-8')\n",
    "# df2.sort_values(by='Amount in USD',ascending=False)\n",
    "df2.head(1)"
   ]
  },
  {
   "cell_type": "code",
   "execution_count": 91,
   "metadata": {},
   "outputs": [
    {
     "name": "stdout",
     "output_type": "stream",
     "text": [
      "0       200000000\n",
      "1         8048394\n",
      "2        18358860\n",
      "3         3000000\n",
      "4         1800000\n",
      "          ...    \n",
      "3039      4500000\n",
      "3040       825000\n",
      "3041      1500000\n",
      "3042            0\n",
      "3043       140000\n",
      "Name: Amount in USD, Length: 3044, dtype: object\n",
      "0       200000000\n",
      "1         8048394\n",
      "2        18358860\n",
      "3         3000000\n",
      "4         1800000\n",
      "          ...    \n",
      "3039      4500000\n",
      "3040       825000\n",
      "3041      1500000\n",
      "3042            0\n",
      "3043       140000\n",
      "Name: Amount in USD, Length: 3044, dtype: int32\n"
     ]
    }
   ],
   "source": [
    "# Use replace with regex = True Determines if the passed-in pattern is a regular expression:\n",
    "# If True, assumes the passed-in pattern is a regular expression.\n",
    "# If False, treats the pattern as a literal string\n",
    "# Cannot be set to False if pat is a compiled regex or repl is a callable.\n",
    "\n",
    "df2['Amount in USD'] = df2['Amount in USD'].replace(\",\",\"\",regex=True)\n",
    "print(df2['Amount in USD'])\n",
    "\n",
    "df2['Amount in USD'] = df2['Amount in USD'].replace(np.nan, '0')\n",
    "df2['Amount in USD'] = df2['Amount in USD'].replace('undisclosed', '0')\n",
    "df2['Amount in USD'] = df2['Amount in USD'].replace('Undisclosed', '0')\n",
    "df2['Amount in USD'] = df2['Amount in USD'].str.extract('(\\d+)', expand=False)\n",
    "\n",
    "df2['Amount in USD'] = df2['Amount in USD'].astype(float).astype(int)\n",
    "print(df2['Amount in USD'])\n",
    "\n",
    "\n",
    "# df2['City  Location'] = df2['City  Location'].replace('bengaluru',\"Bengaluru\")\n",
    "# df2['City  Location'] = df2['City  Location'].replace('Delhi',\"New Delhi\")\n",
    "# Amount = df2['Amount in USD']\n",
    "# Amount"
   ]
  },
  {
   "cell_type": "code",
   "execution_count": null,
   "metadata": {},
   "outputs": [],
   "source": []
  }
 ],
 "metadata": {
  "kernelspec": {
   "display_name": "Python 3",
   "language": "python",
   "name": "python3"
  },
  "language_info": {
   "codemirror_mode": {
    "name": "ipython",
    "version": 3
   },
   "file_extension": ".py",
   "mimetype": "text/x-python",
   "name": "python",
   "nbconvert_exporter": "python",
   "pygments_lexer": "ipython3",
   "version": "3.11.7"
  }
 },
 "nbformat": 4,
 "nbformat_minor": 2
}
