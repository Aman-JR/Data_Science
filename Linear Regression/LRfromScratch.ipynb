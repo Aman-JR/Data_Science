{
 "cells": [
  {
   "cell_type": "markdown",
   "id": "a8d22229",
   "metadata": {},
   "source": [
    "#### LINEAR REGRESSION FROM SCRATCH\n",
    "- LINEAR : predicts a continues value using a straight line\n",
    "- REGRESSION : Regression is the type of machine learning technique used to predict a value based on the relationship between variables such as finding the pattern in the past data.\n",
    "\n",
    "Linear Regression is useful when we are trying to predict some continuous output\n"
   ]
  },
  {
   "cell_type": "code",
   "execution_count": 1,
   "id": "bd464540",
   "metadata": {},
   "outputs": [],
   "source": [
    "# Importing the libraries\n",
    "import numpy as np\n",
    "import pickle"
   ]
  },
  {
   "cell_type": "code",
   "execution_count": 4,
   "id": "4353813f",
   "metadata": {},
   "outputs": [],
   "source": [
    "class LinearRegression:\n",
    "    def __init__(self, learning_rate=0.01, n_iters=1000, normalize=True, early_stopping=False, patience=20, tolerance=1e-4):\n",
    "        self.learning_rate = learning_rate\n",
    "        self.n_iters = n_iters\n",
    "        self.normalize = normalize\n",
    "        self.early_stopping = early_stopping\n",
    "        self.patience = patience\n",
    "        self.tolerance = tolerance\n",
    "\n",
    "        self.weights = None\n",
    "        self.bias = None\n",
    "        self.loss_history = []\n",
    "        self.X_mean = None\n",
    "        self.X_std = None\n",
    "\n",
    "    def _normalize_features(self, X):\n",
    "        self.X_mean = np.mean(X, axis=0)\n",
    "        self.X_std = np.std(X, axis=0)\n",
    "        return (X - self.X_mean) / self.X_std\n",
    "\n",
    "    def _mean_squared_error(self, y_true, y_pred):\n",
    "        return np.mean((y_true - y_pred) ** 2)\n",
    "\n",
    "    def _mean_absolute_error(self, y_true, y_pred):\n",
    "        return np.mean(np.abs(y_true - y_pred))\n",
    "\n",
    "    def fit(self, X, y):\n",
    "        if self.normalize:\n",
    "            X = self._normalize_features(X)\n",
    "\n",
    "        n_samples, n_features = X.shape\n",
    "        self.weights = np.zeros(n_features)\n",
    "        self.bias = 0\n",
    "\n",
    "        best_loss = float('inf')\n",
    "        epochs_without_improvement = 0\n",
    "\n",
    "        for _ in range(self.n_iters):\n",
    "            y_pred = np.dot(X, self.weights) + self.bias\n",
    "\n",
    "            loss = self._mean_squared_error(y, y_pred)\n",
    "            self.loss_history.append(loss)\n",
    "\n",
    "            dw = (1 / n_samples) * np.dot(X.T, (y_pred - y))\n",
    "            db = (1 / n_samples) * np.sum(y_pred - y)\n",
    "\n",
    "            self.weights -= self.learning_rate * dw\n",
    "            self.bias -= self.learning_rate * db\n",
    "\n",
    "            if self.early_stopping:\n",
    "                if best_loss - loss < self.tolerance:\n",
    "                    epochs_without_improvement += 1\n",
    "                    if epochs_without_improvement >= self.patience:\n",
    "                        print(\"Early stopping triggered.\")\n",
    "                        break\n",
    "                else:\n",
    "                    best_loss = loss\n",
    "                    epochs_without_improvement = 0\n",
    "\n",
    "    def predict(self, X):\n",
    "        if self.normalize:\n",
    "            X = (X - self.X_mean) / self.X_std\n",
    "        return np.dot(X, self.weights) + self.bias\n",
    "\n",
    "    def r2_score(self, y_true, y_pred):\n",
    "        ss_res = np.sum((y_true - y_pred) ** 2)\n",
    "        ss_tot = np.sum((y_true - np.mean(y_true)) ** 2)\n",
    "        return 1 - (ss_res / ss_tot)\n",
    "\n",
    "    def summary(self):\n",
    "        print(\"Model Summary:\")\n",
    "        print(\"Weights:\", self.weights)\n",
    "        print(\"Bias:\", self.bias)\n",
    "        print(\"Final MSE Loss:\", self.loss_history[-1] if self.loss_history else \"Not trained\")\n",
    "\n",
    "    def get_loss_history(self):\n",
    "        return self.loss_history\n",
    "\n",
    "    def save_model(self, filename):\n",
    "        with open(filename, 'wb') as f:\n",
    "            pickle.dump(self, f)\n",
    "\n",
    "    @staticmethod\n",
    "    def load_model(filename):\n",
    "        with open(filename, 'rb') as f:\n",
    "            return pickle.load(f)"
   ]
  },
  {
   "cell_type": "code",
   "execution_count": null,
   "id": "b8882ecc",
   "metadata": {},
   "outputs": [
    {
     "name": "stdout",
     "output_type": "stream",
     "text": [
      "Early stopping triggered.\n",
      "Model Summary:\n",
      "Weights: [1.11802976 1.11802976]\n",
      "Bias: 5.987957919899912\n",
      "Final MSE Loss: 0.00014795609235717267\n"
     ]
    },
    {
     "data": {
      "image/png": "[encoded data removed]",
      "text/plain": [
       "<Figure size 640x480 with 1 Axes>"
      ]
     },
     "metadata": {},
     "output_type": "display_data"
    },
    {
     "data": {
      "text/plain": [
       "(0.9999709976470695,\n",
       " array([1.11802976, 1.11802976]),\n",
       " 5.987957919899912,\n",
       " array([2.98796927, 4.9879617 , 6.98795414, 8.98794657]))"
      ]
     },
     "execution_count": 3,
     "metadata": {},
     "output_type": "execute_result"
    }
   ],
   "source": [
    "# Let's test this class briefly and visualize the loss curve\n",
    "import matplotlib.pyplot as plt\n",
    "\n",
    "# Sample multivariable data\n",
    "X = np.array([[1, 2], [2, 3], [3, 4], [4, 5]])\n",
    "y = np.array([3, 5, 7, 9])\n",
    "\n",
    "model = LinearRegression(learning_rate=0.01, n_iters=1000, early_stopping=True)\n",
    "model.fit(X, y)\n",
    "predictions = model.predict(X)\n",
    "r2 = model.r2_score(y, predictions)\n",
    "model.summary()\n",
    "\n",
    "# Plotting the loss curve\n",
    "plt.plot(model.get_loss_history())\n",
    "plt.xlabel('Iterations')\n",
    "plt.ylabel('Mean Squared Error')\n",
    "plt.title('Training Loss Curve')\n",
    "plt.grid(True)\n",
    "plt.show()\n",
    "\n",
    "r2, model.weights, model.bias, predictions\n"
   ]
  },
  {
   "cell_type": "code",
   "execution_count": null,
   "id": "9708a451",
   "metadata": {},
   "outputs": [],
   "source": []
  }
 ],
 "metadata": {
  "kernelspec": {
   "display_name": "Python 3",
   "language": "python",
   "name": "python3"
  },
  "language_info": {
   "codemirror_mode": {
    "name": "ipython",
    "version": 3
   },
   "file_extension": ".py",
   "mimetype": "text/x-python",
   "name": "python",
   "nbconvert_exporter": "python",
   "pygments_lexer": "ipython3",
   "version": "3.10.6"
  }
 },
 "nbformat": 4,
 "nbformat_minor": 5
}
