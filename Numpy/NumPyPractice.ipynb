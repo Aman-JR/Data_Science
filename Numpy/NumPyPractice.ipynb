{
 "cells": [
  {
   "cell_type": "markdown",
   "metadata": {},
   "source": [
    "### 1. NumPy Basics\n",
    "\n",
    "✅ Q1: Create a 1D NumPy array from a list [10, 20, 30, 40, 50].\n",
    "\n",
    "✅ Q2: Generate a 1D array of numbers from 10 to 50.\n",
    "\n",
    "✅ Q3: Create a 1D array of 20 zeros, ones, and a constant value (e.g., 7).\n",
    "\n",
    "✅ Q4: Generate an array of even numbers from 2 to 20.\n",
    "\n",
    "✅ Q5: Create a 3x3 identity matrix (diagonal of ones).\n",
    "\n",
    "✅ Q6: Generate a random integer matrix of shape (4,4) with values between 1 and 100."
   ]
  },
  {
   "cell_type": "code",
   "execution_count": 1,
   "metadata": {},
   "outputs": [],
   "source": [
    "import numpy as np"
   ]
  },
  {
   "cell_type": "code",
   "execution_count": 2,
   "metadata": {},
   "outputs": [
    {
     "name": "stdout",
     "output_type": "stream",
     "text": [
      "[10, 20, 30, 40, 50]\n",
      "[10 20 30 40 50]\n"
     ]
    }
   ],
   "source": [
    "# Solution Q1\n",
    "li = [10,20,30,40,50]\n",
    "arr = np.array(li)\n",
    "print(li)\n",
    "print(arr)"
   ]
  },
  {
   "cell_type": "code",
   "execution_count": 3,
   "metadata": {},
   "outputs": [
    {
     "name": "stdout",
     "output_type": "stream",
     "text": [
      "[10 11 12 13 14 15 16 17 18 19 20 21 22 23 24 25 26 27 28 29 30 31 32 33\n",
      " 34 35 36 37 38 39 40 41 42 43 44 45 46 47 48 49 50]\n"
     ]
    }
   ],
   "source": [
    "# Solution Q2\n",
    "arr = np.arange(10,51)\n",
    "print(arr)"
   ]
  },
  {
   "cell_type": "code",
   "execution_count": 4,
   "metadata": {},
   "outputs": [
    {
     "name": "stdout",
     "output_type": "stream",
     "text": [
      "[1 1 1 1 1 1 1 1 1 1 1 1 1 1 1 1 1 1 1 1]\n",
      "[0 0 0 0 0 0 0 0 0 0 0 0 0 0 0 0 0 0 0 0]\n",
      "[7 7 7 7 7 7 7 7 7 7 7 7 7 7 7 7 7 7 7 7]\n"
     ]
    }
   ],
   "source": [
    "# Solution Q3\n",
    "arr = np.ones(20,dtype = int)\n",
    "print(arr)\n",
    "arr1 = np.zeros(20,dtype = int)\n",
    "print(arr1)\n",
    "arr2 = np.full(20,7,dtype = int)\n",
    "print(arr2)"
   ]
  },
  {
   "cell_type": "code",
   "execution_count": 5,
   "metadata": {},
   "outputs": [
    {
     "name": "stdout",
     "output_type": "stream",
     "text": [
      "[ 2  4  6  8 10 12 14 16 18]\n"
     ]
    }
   ],
   "source": [
    "# Solution Q4\n",
    "arr = np.arange(2,20,2)\n",
    "print(arr)"
   ]
  },
  {
   "cell_type": "code",
   "execution_count": 6,
   "metadata": {},
   "outputs": [
    {
     "name": "stdout",
     "output_type": "stream",
     "text": [
      "[[1. 0. 0.]\n",
      " [0. 1. 0.]\n",
      " [0. 0. 1.]]\n"
     ]
    }
   ],
   "source": [
    "# Solution Q5\n",
    "arr = np.eye((3))\n",
    "print(arr)"
   ]
  },
  {
   "cell_type": "code",
   "execution_count": 7,
   "metadata": {},
   "outputs": [
    {
     "name": "stdout",
     "output_type": "stream",
     "text": [
      "[[26 98 27 72]\n",
      " [76 57 23 35]\n",
      " [49 86 65 18]\n",
      " [34 71 89 74]]\n"
     ]
    }
   ],
   "source": [
    "# Solution for Q6\n",
    "arr = np.random.randint(1,100,size = (4,4))\n",
    "print(arr)"
   ]
  },
  {
   "cell_type": "markdown",
   "metadata": {},
   "source": [
    "### 2. Indexing & Slicing\n",
    "\n",
    "✅ Q7: Extract the first three elements from arr = np.array([5, 10, 15, 20, 25]).\n",
    "\n",
    "✅ Q8: Reverse a NumPy array [1, 2, 3, 4, 5].\n",
    "\n",
    "✅ Q9: Extract all even numbers from arr = np.array([1, 2, 3, 4, 5, 6, 7, 8, 9]).\n",
    "\n",
    "✅ Q10: Extract the first two rows and last two columns from a (4,4) matrix.\n",
    "\n",
    "✅ Q11: Replace all values less than 10 in an array with 0."
   ]
  },
  {
   "cell_type": "code",
   "execution_count": 8,
   "metadata": {},
   "outputs": [
    {
     "name": "stdout",
     "output_type": "stream",
     "text": [
      "[ 5 10 15]\n"
     ]
    }
   ],
   "source": [
    "# Solution Q7\n",
    "li = [5,10,15,20,25]\n",
    "arr = np.array(li)\n",
    "print(arr[:3])"
   ]
  },
  {
   "cell_type": "code",
   "execution_count": 9,
   "metadata": {},
   "outputs": [
    {
     "name": "stdout",
     "output_type": "stream",
     "text": [
      "[ 2 14 19  7  5]\n",
      "After reversing array\n",
      "[ 5  7 19 14  2]\n"
     ]
    }
   ],
   "source": [
    "# Solution Q8\n",
    "arr = np.random.randint(20,size = 5)\n",
    "print(arr)\n",
    "print(\"After reversing array\")\n",
    "print(arr[::-1])"
   ]
  },
  {
   "cell_type": "code",
   "execution_count": 10,
   "metadata": {},
   "outputs": [
    {
     "name": "stdout",
     "output_type": "stream",
     "text": [
      "[2 4 6 8]\n"
     ]
    }
   ],
   "source": [
    "# Solution Q9\n",
    "arr = np.array([1, 2, 3, 4, 5, 6, 7, 8, 9])\n",
    "bool_even = arr %2 == 0\n",
    "new_arr = arr[bool_even] # Only the true value will be taken as per the numpy array.\n",
    "print(new_arr)"
   ]
  },
  {
   "cell_type": "code",
   "execution_count": 11,
   "metadata": {},
   "outputs": [
    {
     "name": "stdout",
     "output_type": "stream",
     "text": [
      "[[10  7 19  8]\n",
      " [10 12  1 11]\n",
      " [ 1 12 14  1]\n",
      " [ 4  3 12  4]]\n",
      "First two row of the array are : \n",
      "[[10  7 19  8]\n",
      " [10 12  1 11]]\n",
      "First two column of the array are : \n",
      "[[10  7]\n",
      " [10 12]\n",
      " [ 1 12]\n",
      " [ 4  3]]\n"
     ]
    }
   ],
   "source": [
    "# Solution Q10\n",
    "arr = np.random.randint(1,20,size = (4,4))\n",
    "print(arr)\n",
    "print(\"First two row of the array are : \")\n",
    "print(arr[:][:2])\n",
    "print(\"First two column of the array are : \")\n",
    "print(arr[:,:2])\n"
   ]
  },
  {
   "cell_type": "code",
   "execution_count": 12,
   "metadata": {},
   "outputs": [
    {
     "name": "stdout",
     "output_type": "stream",
     "text": [
      "[19 10  2 18  9 17 15 17 15 14]\n",
      "[19 10  0 18  0 17 15 17 15 14]\n"
     ]
    }
   ],
   "source": [
    "#Solution Q11\n",
    "arr = np.random.randint(1,20,size = 10)\n",
    "print(arr)\n",
    "bool_arr = arr < 10\n",
    "new_arr = arr\n",
    "new_arr[bool_arr] = 0\n",
    "print(new_arr)"
   ]
  },
  {
   "cell_type": "markdown",
   "metadata": {},
   "source": [
    "### 3. Shape & Reshaping\n",
    "\n",
    "✅ Q12: Convert a 1D array of 9 elements into a 3x3 matrix.\n",
    "\n",
    "✅ Q13: Flatten a (3,3) matrix into a 1D array.\n",
    "\n",
    "✅ Q14: Reshape an array [1, 2, 3, ..., 16] into a 4x4 matrix.\n",
    "\n",
    "✅ Q15: Add an extra dimension to a (3,3) array to make it 3D."
   ]
  },
  {
   "cell_type": "code",
   "execution_count": 13,
   "metadata": {},
   "outputs": [
    {
     "name": "stdout",
     "output_type": "stream",
     "text": [
      "[11 11 10  3 19 17  5  5  1]\n",
      "[[11 11 10]\n",
      " [ 3 19 17]\n",
      " [ 5  5  1]]\n"
     ]
    }
   ],
   "source": [
    "# Solution 12\n",
    "arr = np.random.randint(1,20,size = 9)\n",
    "print(arr)\n",
    "new_arr = np.reshape(arr,(3,3))\n",
    "print(new_arr)"
   ]
  },
  {
   "cell_type": "code",
   "execution_count": 14,
   "metadata": {},
   "outputs": [
    {
     "name": "stdout",
     "output_type": "stream",
     "text": [
      "[11 11 10  3 19 17  5  5  1]\n"
     ]
    }
   ],
   "source": [
    "# Solution 13\n",
    "new_arr\n",
    "ans = new_arr.flatten()\n",
    "print(ans)"
   ]
  },
  {
   "cell_type": "code",
   "execution_count": 15,
   "metadata": {},
   "outputs": [
    {
     "name": "stdout",
     "output_type": "stream",
     "text": [
      "[[ 1  2  3  4]\n",
      " [ 5  6  7  8]\n",
      " [ 9 10 11 12]\n",
      " [13 14 15 16]]\n"
     ]
    }
   ],
   "source": [
    "# Solution 14\n",
    "li = [1,2,3,4,5,6,7,8,9,10,11,12,13,14,15,16]\n",
    "arr = np.array(li)\n",
    "new_arr = np.reshape(arr,(4,4))\n",
    "print(new_arr)"
   ]
  },
  {
   "cell_type": "code",
   "execution_count": 16,
   "metadata": {},
   "outputs": [
    {
     "name": "stdout",
     "output_type": "stream",
     "text": [
      "Original Shape: (3, 3)\n",
      "New Shape: (1, 3, 3)\n",
      "New 3D Array:\n",
      " [[[ 6  9  2]\n",
      "  [10 18  6]\n",
      "  [13 15  1]]]\n"
     ]
    }
   ],
   "source": [
    "# Solution 15\n",
    "arr = np.random.randint(1, 20, size=(3, 3))\n",
    "\n",
    "# Add an extra dimension along axis 0\n",
    "new_arr = arr[np.newaxis, :, :]\n",
    "\n",
    "print(\"Original Shape:\", arr.shape)\n",
    "print(\"New Shape:\", new_arr.shape)\n",
    "print(\"New 3D Array:\\n\", new_arr)"
   ]
  },
  {
   "cell_type": "markdown",
   "metadata": {},
   "source": [
    "### MATHEMATICAL OPERATIONS\n",
    "✅ Q16: Perform element-wise addition of A = [1, 2, 3] and B = [4, 5, 6].\n",
    "\n",
    "✅ Q17: Compute the dot product of two matrices:\n",
    "\n",
    "python\n",
    "\n",
    "A = np.array([[1, 2], [3, 4]])\n",
    "\n",
    "B = np.array([[5, 6], [7, 8]])\n",
    "\n",
    "✅ Q18: Multiply a (3,3) array by a scalar value 5.\n",
    "\n",
    "✅ Q19: Compute the sum, mean, and standard deviation of an array [4, 8, 15, 16, 23, 42].\n",
    "\n",
    "✅ Q20: Replace all negative values in an array with 0."
   ]
  },
  {
   "cell_type": "code",
   "execution_count": 17,
   "metadata": {},
   "outputs": [
    {
     "name": "stdout",
     "output_type": "stream",
     "text": [
      "[5 7 9]\n"
     ]
    }
   ],
   "source": [
    "# Solution Q16\n",
    "A = [1,2,3]\n",
    "B = [4,5,6]\n",
    "A = np.array(A)\n",
    "B = np.array(B)\n",
    "print(A+B)"
   ]
  },
  {
   "cell_type": "code",
   "execution_count": 18,
   "metadata": {},
   "outputs": [
    {
     "name": "stdout",
     "output_type": "stream",
     "text": [
      "[[19 22]\n",
      " [43 50]]\n"
     ]
    }
   ],
   "source": [
    "# Solution 17\n",
    "A = np.array([[1, 2], [3, 4]])\n",
    "B = np.array([[5, 6], [7, 8]])\n",
    "print(np.dot(A,B))"
   ]
  },
  {
   "cell_type": "code",
   "execution_count": 19,
   "metadata": {},
   "outputs": [
    {
     "name": "stdout",
     "output_type": "stream",
     "text": [
      "[[60 95  5]\n",
      " [70  5 35]\n",
      " [50 20 55]]\n"
     ]
    }
   ],
   "source": [
    "# Solution 18\n",
    "arr = np.random.randint(1,20,size = (3,3))\n",
    "print(arr*5)"
   ]
  },
  {
   "cell_type": "code",
   "execution_count": 20,
   "metadata": {},
   "outputs": [
    {
     "name": "stdout",
     "output_type": "stream",
     "text": [
      "18.0\n",
      "108\n",
      "12.315302134607444\n"
     ]
    }
   ],
   "source": [
    "# Solution 19\n",
    "arr = [4, 8, 15, 16, 23, 42]\n",
    "arr = np.array(arr)\n",
    "print(np.mean(arr))\n",
    "print(np.sum(arr))\n",
    "print(np.std(arr))"
   ]
  },
  {
   "cell_type": "code",
   "execution_count": 21,
   "metadata": {},
   "outputs": [
    {
     "name": "stdout",
     "output_type": "stream",
     "text": [
      "[[14 -3 18]\n",
      " [11 -1 -4]\n",
      " [-6 -4 -3]]\n",
      "[[False  True False]\n",
      " [False  True  True]\n",
      " [ True  True  True]]\n",
      "[[14  0 18]\n",
      " [11  0  0]\n",
      " [ 0  0  0]]\n"
     ]
    }
   ],
   "source": [
    "# Solution 20\n",
    "arr = np.random.randint(-10,20,size = (3,3))\n",
    "print(arr)\n",
    "bool_arr = arr < 0 # setting the boolean array for the condition True or False\n",
    "print(bool_arr)\n",
    "new_arr = arr.copy() # Copy of original array\n",
    "new_arr[bool_arr] = 0 # setting the true conditions to 0 as np array will only go through the True values.\n",
    "print(new_arr)"
   ]
  },
  {
   "cell_type": "markdown",
   "metadata": {},
   "source": [
    "### 🎲 5. Random Numbers & Statistical Operations\n",
    "\n",
    "✅ Q21: Generate a (4,4) array of random integers between 1 and 50.\n",
    "\n",
    "✅ Q22: Create an array of 5 random numbers from a normal distribution (mean=0, std=1).\n",
    "\n",
    "✅ Q23: Find the minimum, maximum, and their indices in a (3,3) matrix.\n",
    "\n",
    "✅ Q24: Sort an array [5, 3, 8, 1, 9, 2] in ascending order."
   ]
  },
  {
   "cell_type": "code",
   "execution_count": 22,
   "metadata": {},
   "outputs": [
    {
     "name": "stdout",
     "output_type": "stream",
     "text": [
      "[[31 10 48 10]\n",
      " [30 10 17 43]\n",
      " [ 4 39  7 46]\n",
      " [47 49 42 11]]\n"
     ]
    }
   ],
   "source": [
    "# Solution 21\n",
    "arr = np.random.randint(1,50,size = (4,4))\n",
    "print(arr)"
   ]
  },
  {
   "cell_type": "code",
   "execution_count": 23,
   "metadata": {},
   "outputs": [
    {
     "name": "stdout",
     "output_type": "stream",
     "text": [
      "[ 0.38426898 -2.59884403  1.51467438  0.43489301  0.53839381]\n"
     ]
    }
   ],
   "source": [
    "# Solution 22\n",
    "arr = np.random.normal(loc=0,scale = 1,size = 5) # scale = standard deviation, loc = Mean of the distribution\n",
    "print(arr)"
   ]
  },
  {
   "cell_type": "code",
   "execution_count": 24,
   "metadata": {},
   "outputs": [
    {
     "name": "stdout",
     "output_type": "stream",
     "text": [
      "[[17 19 10]\n",
      " [ 3 17  1]\n",
      " [17 15 19]]\n",
      "1 5\n",
      "19 1\n"
     ]
    }
   ],
   "source": [
    "# Solution 23\n",
    "arr = np.random.randint(1,20,size = (3,3))\n",
    "print(arr)\n",
    "print(np.min(arr),np.argmin(arr))\n",
    "print(np.max(arr),np.argmax(arr))\n",
    "# print(np.)"
   ]
  },
  {
   "cell_type": "code",
   "execution_count": 25,
   "metadata": {},
   "outputs": [
    {
     "name": "stdout",
     "output_type": "stream",
     "text": [
      "[5 3 8 1 9 2]\n",
      "[1 2 3 5 8 9]\n"
     ]
    }
   ],
   "source": [
    "# Solution 24\n",
    "arr = [5, 3, 8, 1, 9, 2]\n",
    "arr = np.array(arr)\n",
    "print(arr)\n",
    "arr = np.sort(arr)\n",
    "print(arr)"
   ]
  },
  {
   "cell_type": "markdown",
   "metadata": {},
   "source": [
    "🔎 6. Boolean Indexing & Filtering\n",
    "\n",
    "✅ Q25: Given an array [10, 20, 30, 40, 50], find values greater than 25.\n",
    "\n",
    "✅ Q26: Find the indices where elements in [1, 2, 3, 4, 5] are even.\n",
    "\n",
    "✅ Q27: Find elements in arr = np.array([5, -3, 7, -1, 9]) that are negative."
   ]
  },
  {
   "cell_type": "code",
   "execution_count": 26,
   "metadata": {},
   "outputs": [
    {
     "name": "stdout",
     "output_type": "stream",
     "text": [
      "[30 40 50]\n"
     ]
    }
   ],
   "source": [
    "# Solution 25\n",
    "arr = [10,20,30,40,50]\n",
    "arr = np.array(arr)\n",
    "bool_arr = arr > 25\n",
    "new_arr = arr[bool_arr]\n",
    "print(new_arr)"
   ]
  },
  {
   "cell_type": "code",
   "execution_count": 27,
   "metadata": {},
   "outputs": [
    {
     "name": "stdout",
     "output_type": "stream",
     "text": [
      "(array([1, 3], dtype=int64),)\n"
     ]
    }
   ],
   "source": [
    "# Solution 26\n",
    "arr = np.array([1,2,3,4,5])\n",
    "bool_arr = arr %2 == 0\n",
    "index = np.where(bool_arr)\n",
    "print(index)"
   ]
  },
  {
   "cell_type": "code",
   "execution_count": 28,
   "metadata": {},
   "outputs": [
    {
     "data": {
      "text/plain": [
       "array([-3, -1])"
      ]
     },
     "execution_count": 28,
     "metadata": {},
     "output_type": "execute_result"
    }
   ],
   "source": [
    "# Solution 27\n",
    "arr = np.array([5, -3, 7, -1, 9])\n",
    "new_arr = arr[arr < 0]\n",
    "new_arr"
   ]
  },
  {
   "cell_type": "markdown",
   "metadata": {},
   "source": [
    "### 📐 7. Linear Algebra with NumPy\n",
    "\n",
    "✅ Q28: Compute the determinant of the following matrix:\n",
    "\n",
    "A = np.array([[3, 4], [2, 1]])\n",
    "\n",
    "✅ Q29: Compute the inverse of matrix A:\n",
    "\n",
    "A = np.array([[1, 2], [3, 4]])\n",
    "\n",
    "✅ Q30: Solve the system of equations using np.linalg.solve:\n",
    "\n",
    "3x + 2y = 8  \n",
    "\n",
    "4x - y = 10"
   ]
  },
  {
   "cell_type": "code",
   "execution_count": 29,
   "metadata": {},
   "outputs": [
    {
     "name": "stdout",
     "output_type": "stream",
     "text": [
      "-5.000000000000001\n"
     ]
    }
   ],
   "source": [
    "# Solution 28\n",
    "A = np.array([[3, 4], [2, 1]])\n",
    "print(np.linalg.det(A))"
   ]
  },
  {
   "cell_type": "code",
   "execution_count": 30,
   "metadata": {},
   "outputs": [
    {
     "data": {
      "text/plain": [
       "array([[-2. ,  1. ],\n",
       "       [ 1.5, -0.5]])"
      ]
     },
     "execution_count": 30,
     "metadata": {},
     "output_type": "execute_result"
    }
   ],
   "source": [
    "# Solution 29\n",
    "A = np.array([[1,2],[3,4]])\n",
    "ans = np.linalg.inv(A)\n",
    "ans"
   ]
  },
  {
   "cell_type": "code",
   "execution_count": 31,
   "metadata": {},
   "outputs": [
    {
     "data": {
      "text/plain": [
       "array([2.54545455, 0.18181818])"
      ]
     },
     "execution_count": 31,
     "metadata": {},
     "output_type": "execute_result"
    }
   ],
   "source": [
    "# 3x + 2y = 8\n",
    "# 4x - y = 10\n",
    "\n",
    "A = np.array([\n",
    "    [3,2],\n",
    "    [4,-1]\n",
    "])\n",
    "B = np.array([8,10])\n",
    "ans = np.linalg.solve(A,B)\n",
    "ans"
   ]
  },
  {
   "cell_type": "markdown",
   "metadata": {},
   "source": [
    "### 📁 8. File Handling (CSV & Binary Files)\n",
    "\n",
    "✅ Q31: Read a CSV file into a NumPy array.\n",
    "\n",
    "✅ Q32: Save an array [10, 20, 30] to a .txt file.\n",
    "\n",
    "✅ Q33: Load a .npy file into NumPy and print its contents."
   ]
  },
  {
   "cell_type": "code",
   "execution_count": null,
   "metadata": {},
   "outputs": [],
   "source": [
    "# Read CSV file (assuming it has numerical values)\n",
    "data = np.genfromtxt(\"data.csv\", delimiter = \",\", skip_header=1)"
   ]
  },
  {
   "cell_type": "code",
   "execution_count": 35,
   "metadata": {},
   "outputs": [],
   "source": [
    "# Create a NumPy array\n",
    "arr = np.array([[1, 2, 3], [4, 5, 6], [7, 8, 9]])\n",
    "\n",
    "# Save as a text file\n",
    "np.savetxt(\"output.txt\", arr)"
   ]
  },
  {
   "cell_type": "code",
   "execution_count": 38,
   "metadata": {},
   "outputs": [
    {
     "name": "stdout",
     "output_type": "stream",
     "text": [
      "Loaded Array:\n",
      " [[10 20 30]\n",
      " [40 50 60]]\n"
     ]
    }
   ],
   "source": [
    "# Create an array\n",
    "arr = np.array([[10, 20, 30], [40, 50, 60]])\n",
    "\n",
    "# Save it as 'data.npy'\n",
    "np.save(\"data.npy\", arr)\n",
    "\n",
    "# Load the saved .npy file\n",
    "loaded_arr = np.load(\"data.npy\")\n",
    "\n",
    "# Print the loaded array\n",
    "print(\"Loaded Array:\\n\", loaded_arr)"
   ]
  },
  {
   "cell_type": "markdown",
   "metadata": {},
   "source": [
    "### 🚀 9. Broadcasting & Advanced Operations\n",
    "\n",
    "✅ Q34: Add a 1D array [1, 2, 3] to a 2D array [[4, 5, 6], [7, 8, 9]] using broadcasting.\n",
    "\n",
    "✅ Q35: Subtract the mean of each row from the row itself in a (3,3) matrix.\n",
    "\n",
    "✅ Q36: Compute the cumulative sum of an array [1, 2, 3, 4]."
   ]
  },
  {
   "cell_type": "code",
   "execution_count": 39,
   "metadata": {},
   "outputs": [
    {
     "name": "stdout",
     "output_type": "stream",
     "text": [
      "Result of Broadcasting:\n",
      " [[ 5  7  9]\n",
      " [ 8 10 12]]\n"
     ]
    }
   ],
   "source": [
    "# Broadcasting allows NumPy to add the 1D array to each row of the 2D array without needing to explicitly repeat the 1D array.\n",
    "\n",
    "# How Broadcasting Works:\n",
    "# The 1D array is broadcasted across both rows of the 2D array. Essentially, it is added to each row element-wise.\n",
    "# For example, for the first row, [4, 5, 6] + [1, 2, 3] = [5, 7, 9].\n",
    "\n",
    "# Broadcasting Rules\n",
    "# If the dimensions of the arrays are not the same, NumPy tries to expand the smaller array to match the larger one.\n",
    "# The size of the dimensions must either be the same or one of them must be 1.\n",
    "\n",
    "import numpy as np\n",
    "\n",
    "# Define a 1D array\n",
    "arr_1d = np.array([1, 2, 3])\n",
    "\n",
    "# Define a 2D array\n",
    "arr_2d = np.array([[4, 5, 6], [7, 8, 9]])\n",
    "\n",
    "# Add 1D array to each row of 2D array using broadcasting\n",
    "result = arr_2d + arr_1d\n",
    "\n",
    "# Print the result\n",
    "print(\"Result of Broadcasting:\\n\", result)"
   ]
  },
  {
   "cell_type": "code",
   "execution_count": 40,
   "metadata": {},
   "outputs": [
    {
     "name": "stdout",
     "output_type": "stream",
     "text": [
      "[[ 5.]\n",
      " [ 8.]\n",
      " [11.]]\n",
      "Matrix after subtracting row means:\n",
      " [[-1.  0.  1.]\n",
      " [-1.  0.  1.]\n",
      " [-1.  0.  1.]]\n"
     ]
    }
   ],
   "source": [
    "# Explanation:\n",
    "# Step 1: Calculate Row Means\n",
    "\n",
    "# For the first row [4, 5, 6], the mean is (4+5+6)/ 3 = 5\n",
    "# For the second row [7, 8, 9], the mean is (7+8+9)/3 = 8\n",
    "# For the third row [10, 11, 12], the mean is (10+11+12)/3 = 11\n",
    "\n",
    "# Step 2: Subtract the Mean from Each Element\n",
    "\n",
    "# The first row after subtracting 5 becomes [(4-5), (5-5), (6-5)] = [-1, 0, 1].\n",
    "# The second row after subtracting 8 becomes [(7-8), (8-8), (9-8)] = [0, 1, 2].\n",
    "# The third row after subtracting 11 becomes [(10-11), (11-11), (12-11)] = [0, 1, 2].\n",
    "\n",
    "import numpy as np\n",
    "\n",
    "# Create a 3x3 matrix\n",
    "arr = np.array([[4, 5, 6], \n",
    "                [7, 8, 9], \n",
    "                [10, 11, 12]])\n",
    "\n",
    "# Calculate the mean of each row (axis=1 means row-wise operation)\n",
    "row_mean = np.mean(arr, axis=1, keepdims=True)\n",
    "print(row_mean)\n",
    "\n",
    "# Subtract the row mean from each element of the respective row\n",
    "result = arr - row_mean\n",
    "\n",
    "# Print the result\n",
    "print(\"Matrix after subtracting row means:\\n\", result)\n",
    "\n",
    "# NOTE: The np.mean() function computes the mean for each row and returns an array of shape (3, 1). \n",
    "# This result is broadcasted across the original array so that each element of a row is subtracted by the respective row's mean."
   ]
  },
  {
   "cell_type": "code",
   "execution_count": 41,
   "metadata": {},
   "outputs": [
    {
     "name": "stdout",
     "output_type": "stream",
     "text": [
      "Cumulative Sum: [ 1  3  6 10]\n"
     ]
    }
   ],
   "source": [
    "# Explanation:\n",
    "# For the array [1, 2, 3, 4]:\n",
    "# The first element is just 1, so the cumulative sum is [1].\n",
    "# The second element is 1 + 2 = 3, so the cumulative sum becomes [1, 3].\n",
    "# The third element is 1 + 2 + 3 = 6, so the cumulative sum becomes [1, 3, 6].\n",
    "# The fourth element is 1 + 2 + 3 + 4 = 10, so the cumulative sum becomes [1, 3, 6, 10].\n",
    "\n",
    "import numpy as np\n",
    "\n",
    "# Define the array\n",
    "arr = np.array([1, 2, 3, 4])\n",
    "\n",
    "# Compute the cumulative sum\n",
    "cumulative_sum = np.cumsum(arr)\n",
    "\n",
    "# Print the result\n",
    "print(\"Cumulative Sum:\", cumulative_sum)\n",
    "\n",
    "#  Additional Notes:\n",
    "# You can apply np.cumsum() on multi-dimensional arrays as well, and specify the axis to compute cumulative sums along different dimensions.\n",
    "# Example for a 2D array:\n",
    "# arr_2d = np.array([[1, 2, 3], [4, 5, 6]])\n",
    "# cumulative_sum_2d = np.cumsum(arr_2d, axis=0)  # Cumulative sum along columns\n",
    "# print(cumulative_sum_2d)"
   ]
  },
  {
   "cell_type": "markdown",
   "metadata": {},
   "source": [
    "### 💥 10. Challenge Questions (Advanced)\n",
    "\n",
    "✅ Q37: Find the most frequent value in an array [1, 3, 2, 4, 1, 3, 1, 2, 2].\n",
    "\n",
    "✅ Q38: Find the Euclidean distance between two vectors [1, 2, 3] and [4, 5, 6].\n",
    "\n",
    "✅ Q39: Count the number of unique values in an array [1, 2, 2, 3, 3, 3, 4, 5].\n",
    "\n",
    "✅ Q40: Implement a function that normalizes a NumPy array between 0 and 1."
   ]
  },
  {
   "cell_type": "code",
   "execution_count": 42,
   "metadata": {},
   "outputs": [
    {
     "name": "stdout",
     "output_type": "stream",
     "text": [
      "Most frequent value: 1\n"
     ]
    }
   ],
   "source": [
    "# To find the most frequent value in an array, \n",
    "# you can use NumPy along with np.bincount() (for integer arrays) \n",
    "# or scipy.stats.mode().\n",
    "\n",
    "import numpy as np\n",
    "\n",
    "# Define the array\n",
    "arr = np.array([1, 3, 2, 4, 1, 3, 1, 2, 2])\n",
    "\n",
    "# Use np.bincount() to find the frequency of each element\n",
    "counts = np.bincount(arr)\n",
    "\n",
    "# Find the index of the most frequent value\n",
    "most_frequent_value = np.argmax(counts)\n",
    "\n",
    "# Print the result\n",
    "print(\"Most frequent value:\", most_frequent_value)\n",
    "\n",
    "# Explanation:\n",
    "# np.bincount() counts the occurrences of each non-negative integer in the array.\n",
    "# The result for the array [1, 3, 2, 4, 1, 3, 1, 2, 2] is:\n",
    "# [0, 3, 3, 2, 1]\n",
    "# This means:\n",
    "# 0 occurs 0 times.\n",
    "# 1 occurs 3 times.\n",
    "# 2 occurs 3 times.\n",
    "# 3 occurs 2 times.\n",
    "# 4 occurs 1 time.\n",
    "# np.argmax() finds the index of the maximum value in the counts array. In this case, the most frequent value is 1 (index 1 has the maximum count of 3)."
   ]
  },
  {
   "cell_type": "code",
   "execution_count": 43,
   "metadata": {},
   "outputs": [
    {
     "name": "stdout",
     "output_type": "stream",
     "text": [
      "Euclidean distance: 5.196152422706632\n"
     ]
    }
   ],
   "source": [
    "import numpy as np\n",
    "\n",
    "# Define the two vectors\n",
    "A = np.array([1, 2, 3])\n",
    "B = np.array([4, 5, 6])\n",
    "\n",
    "# Compute the Euclidean distance\n",
    "distance = np.linalg.norm(A - B)\n",
    "\n",
    "# Print the result\n",
    "print(\"Euclidean distance:\", distance)\n"
   ]
  },
  {
   "cell_type": "code",
   "execution_count": 44,
   "metadata": {},
   "outputs": [
    {
     "name": "stdout",
     "output_type": "stream",
     "text": [
      "Unique values: [1 2 3 4 5]\n",
      "Counts of unique values: [1 2 3 1 1]\n"
     ]
    }
   ],
   "source": [
    "import numpy as np\n",
    "\n",
    "# Define the array\n",
    "arr = np.array([1, 2, 2, 3, 3, 3, 4, 5])\n",
    "\n",
    "# Use np.unique() to get unique values and their counts\n",
    "unique_values, counts = np.unique(arr, return_counts=True)\n",
    "\n",
    "# Print the unique values and their counts\n",
    "print(\"Unique values:\", unique_values)\n",
    "print(\"Counts of unique values:\", counts)\n"
   ]
  },
  {
   "cell_type": "code",
   "execution_count": 45,
   "metadata": {},
   "outputs": [
    {
     "name": "stdout",
     "output_type": "stream",
     "text": [
      "Normalized Array: [0.125 0.5   0.875 0.    1.   ]\n"
     ]
    }
   ],
   "source": [
    "import numpy as np\n",
    "\n",
    "# Function to normalize the array\n",
    "def normalize_array(arr):\n",
    "    # Min and max values of the array\n",
    "    arr_min = np.min(arr)\n",
    "    arr_max = np.max(arr)\n",
    "    \n",
    "    # Normalization formula\n",
    "    normalized_arr = (arr - arr_min) / (arr_max - arr_min)\n",
    "    \n",
    "    return normalized_arr\n",
    "\n",
    "# Example array\n",
    "arr = np.array([2, 5, 8, 1, 9])\n",
    "\n",
    "# Normalize the array\n",
    "normalized_arr = normalize_array(arr)\n",
    "\n",
    "# Print the result\n",
    "print(\"Normalized Array:\", normalized_arr)\n"
   ]
  },
  {
   "cell_type": "markdown",
   "metadata": {},
   "source": []
  }
 ],
 "metadata": {
  "kernelspec": {
   "display_name": "Python 3",
   "language": "python",
   "name": "python3"
  },
  "language_info": {
   "codemirror_mode": {
    "name": "ipython",
    "version": 3
   },
   "file_extension": ".py",
   "mimetype": "text/x-python",
   "name": "python",
   "nbconvert_exporter": "python",
   "pygments_lexer": "ipython3",
   "version": "3.10.6"
  }
 },
 "nbformat": 4,
 "nbformat_minor": 2
}
