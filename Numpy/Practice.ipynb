{
 "cells": [
  {
   "cell_type": "code",
   "execution_count": 1,
   "metadata": {},
   "outputs": [
    {
     "data": {
      "text/plain": [
       "array([10, 11, 12, 13, 14, 15, 16, 17, 18, 19, 20, 21, 22, 23, 24, 25, 26,\n",
       "       27, 28, 29, 30, 31, 32, 33, 34, 35, 36, 37, 38, 39, 40, 41, 42, 43,\n",
       "       44, 45, 46, 47, 48, 49])"
      ]
     },
     "execution_count": 1,
     "metadata": {},
     "output_type": "execute_result"
    }
   ],
   "source": [
    "import numpy as np\n",
    "\n",
    "arr = np.arange(10,50)\n",
    "arr"
   ]
  },
  {
   "cell_type": "code",
   "execution_count": 2,
   "metadata": {},
   "outputs": [
    {
     "name": "stdout",
     "output_type": "stream",
     "text": [
      "[10  6 10 18]\n"
     ]
    }
   ],
   "source": [
    "arr = np.random.randint(1,20,size = 10)\n",
    "new_arr = arr[arr %2 == 0]\n",
    "print(new_arr)"
   ]
  },
  {
   "cell_type": "code",
   "execution_count": 3,
   "metadata": {},
   "outputs": [
    {
     "name": "stdout",
     "output_type": "stream",
     "text": [
      "[[ 9  9 16  4]\n",
      " [ 4 11 14  5]\n",
      " [18 18  9  1]\n",
      " [18  3 18 12]]\n",
      "[[ 9  9 16  4]\n",
      " [ 4 11 14  5]]\n",
      "[[16  4]\n",
      " [14  5]\n",
      " [ 9  1]\n",
      " [18 12]]\n"
     ]
    }
   ],
   "source": [
    "arr = np.random.randint(1,20,size = (4,4))\n",
    "print(arr)\n",
    "print(arr[:2][:])\n",
    "print(arr[:,2:])\n"
   ]
  },
  {
   "cell_type": "code",
   "execution_count": 4,
   "metadata": {},
   "outputs": [
    {
     "name": "stdout",
     "output_type": "stream",
     "text": [
      "[15  3 15 13 19  8 13 14 10 17]\n",
      "(array([5, 7, 8], dtype=int64),)\n",
      "[ 8 14 10]\n",
      "\n"
     ]
    }
   ],
   "source": [
    "arr = np.random.randint(1,20,size = 10)\n",
    "print(arr)\n",
    "bool_arr = arr %2 == 0\n",
    "print(np.where(bool_arr))\n",
    "new_arr = arr[bool_arr]\n",
    "print(new_arr)\n",
    "print()"
   ]
  },
  {
   "cell_type": "code",
   "execution_count": 7,
   "metadata": {},
   "outputs": [
    {
     "name": "stdout",
     "output_type": "stream",
     "text": [
      "[ 14  -8 -14 -14  14 -13 -13  -3   1  19]\n",
      "[ -8 -14 -14 -13 -13  -3]\n"
     ]
    }
   ],
   "source": [
    "arr = np.random.randint(-20,20,size = 10)\n",
    "print(arr)\n",
    "new_arr = arr[arr < 0]\n",
    "print(new_arr)"
   ]
  }
 ],
 "metadata": {
  "kernelspec": {
   "display_name": "Python 3",
   "language": "python",
   "name": "python3"
  },
  "language_info": {
   "codemirror_mode": {
    "name": "ipython",
    "version": 3
   },
   "file_extension": ".py",
   "mimetype": "text/x-python",
   "name": "python",
   "nbconvert_exporter": "python",
   "pygments_lexer": "ipython3",
   "version": "3.10.6"
  }
 },
 "nbformat": 4,
 "nbformat_minor": 2
}
