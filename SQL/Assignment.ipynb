{
 "cells": [
  {
   "cell_type": "code",
   "execution_count": 80,
   "metadata": {},
   "outputs": [],
   "source": [
    "import sqlite3\n",
    "import pandas as pd"
   ]
  },
  {
   "cell_type": "code",
   "execution_count": 81,
   "metadata": {},
   "outputs": [],
   "source": [
    "db = sqlite3.connect('IMDB.sqlite')"
   ]
  },
  {
   "cell_type": "markdown",
   "metadata": {},
   "source": [
    "Question: IMDB.sqlite' database contains all details of movies and has three tables with name IMDB, genre and earning.\n",
    "\n",
    "Find the most voted movie in IMDB Movie Database.\n",
    "\n",
    "Print the movie name and the rating of that movie."
   ]
  },
  {
   "cell_type": "code",
   "execution_count": 82,
   "metadata": {},
   "outputs": [],
   "source": [
    "df = pd.read_sql_query('select * from IMDB',db)"
   ]
  },
  {
   "cell_type": "code",
   "execution_count": 83,
   "metadata": {},
   "outputs": [
    {
     "data": {
      "text/html": [
       "<div>\n",
       "<style scoped>\n",
       "    .dataframe tbody tr th:only-of-type {\n",
       "        vertical-align: middle;\n",
       "    }\n",
       "\n",
       "    .dataframe tbody tr th {\n",
       "        vertical-align: top;\n",
       "    }\n",
       "\n",
       "    .dataframe thead th {\n",
       "        text-align: right;\n",
       "    }\n",
       "</style>\n",
       "<table border=\"1\" class=\"dataframe\">\n",
       "  <thead>\n",
       "    <tr style=\"text-align: right;\">\n",
       "      <th></th>\n",
       "      <th>Movie_id</th>\n",
       "      <th>Title</th>\n",
       "      <th>Rating</th>\n",
       "      <th>TotalVotes</th>\n",
       "      <th>MetaCritic</th>\n",
       "      <th>Budget</th>\n",
       "      <th>Runtime</th>\n",
       "      <th>CVotes10</th>\n",
       "      <th>CVotes09</th>\n",
       "      <th>CVotes08</th>\n",
       "      <th>...</th>\n",
       "      <th>Votes3044</th>\n",
       "      <th>Votes3044M</th>\n",
       "      <th>Votes3044F</th>\n",
       "      <th>Votes45A</th>\n",
       "      <th>Votes45AM</th>\n",
       "      <th>Votes45AF</th>\n",
       "      <th>VotesIMDB</th>\n",
       "      <th>Votes1000</th>\n",
       "      <th>VotesUS</th>\n",
       "      <th>VotesnUS</th>\n",
       "    </tr>\n",
       "  </thead>\n",
       "  <tbody>\n",
       "    <tr>\n",
       "      <th>0</th>\n",
       "      <td>36809</td>\n",
       "      <td>12 Years a Slave (2013)</td>\n",
       "      <td>8.1</td>\n",
       "      <td>496092</td>\n",
       "      <td>96</td>\n",
       "      <td>20000000.0</td>\n",
       "      <td>134 min</td>\n",
       "      <td>75556</td>\n",
       "      <td>126223</td>\n",
       "      <td>161460</td>\n",
       "      <td>...</td>\n",
       "      <td>8.0</td>\n",
       "      <td>7.9</td>\n",
       "      <td>8.0</td>\n",
       "      <td>7.8</td>\n",
       "      <td>7.8</td>\n",
       "      <td>8.1</td>\n",
       "      <td>8.0</td>\n",
       "      <td>7.7</td>\n",
       "      <td>8.3</td>\n",
       "      <td>8.0</td>\n",
       "    </tr>\n",
       "    <tr>\n",
       "      <th>1</th>\n",
       "      <td>30114</td>\n",
       "      <td>127 Hours (2010)</td>\n",
       "      <td>7.6</td>\n",
       "      <td>297075</td>\n",
       "      <td>82</td>\n",
       "      <td>18000000.0</td>\n",
       "      <td>94 min</td>\n",
       "      <td>28939</td>\n",
       "      <td>44110</td>\n",
       "      <td>98845</td>\n",
       "      <td>...</td>\n",
       "      <td>7.5</td>\n",
       "      <td>7.5</td>\n",
       "      <td>7.5</td>\n",
       "      <td>7.3</td>\n",
       "      <td>7.3</td>\n",
       "      <td>7.5</td>\n",
       "      <td>7.6</td>\n",
       "      <td>7.0</td>\n",
       "      <td>7.7</td>\n",
       "      <td>7.6</td>\n",
       "    </tr>\n",
       "  </tbody>\n",
       "</table>\n",
       "<p>2 rows × 52 columns</p>\n",
       "</div>"
      ],
      "text/plain": [
       "  Movie_id                    Title  Rating  TotalVotes MetaCritic  \\\n",
       "0    36809  12 Years a Slave (2013)     8.1      496092         96   \n",
       "1    30114         127 Hours (2010)     7.6      297075         82   \n",
       "\n",
       "       Budget  Runtime CVotes10 CVotes09 CVotes08  ... Votes3044 Votes3044M  \\\n",
       "0  20000000.0  134 min    75556   126223   161460  ...       8.0        7.9   \n",
       "1  18000000.0   94 min    28939    44110    98845  ...       7.5        7.5   \n",
       "\n",
       "  Votes3044F Votes45A Votes45AM Votes45AF VotesIMDB Votes1000 VotesUS VotesnUS  \n",
       "0        8.0      7.8       7.8       8.1       8.0       7.7     8.3      8.0  \n",
       "1        7.5      7.3       7.3       7.5       7.6       7.0     7.7      7.6  \n",
       "\n",
       "[2 rows x 52 columns]"
      ]
     },
     "execution_count": 83,
     "metadata": {},
     "output_type": "execute_result"
    }
   ],
   "source": [
    "df.head(2)"
   ]
  },
  {
   "cell_type": "code",
   "execution_count": 84,
   "metadata": {},
   "outputs": [
    {
     "data": {
      "text/plain": [
       "Index(['Movie_id', 'Title', 'Rating', 'TotalVotes', 'MetaCritic', 'Budget',\n",
       "       'Runtime', 'CVotes10', 'CVotes09', 'CVotes08', 'CVotes07', 'CVotes06',\n",
       "       'CVotes05', 'CVotes04', 'CVotes03', 'CVotes02', 'CVotes01',\n",
       "       'CVotesMale', 'CVotesFemale', 'CVotesU18', 'CVotesU18M', 'CVotesU18F',\n",
       "       'CVotes1829', 'CVotes1829M', 'CVotes1829F', 'CVotes3044', 'CVotes3044M',\n",
       "       'CVotes3044F', 'CVotes45A', 'CVotes45AM', 'CVotes45AF', 'CVotes1000',\n",
       "       'CVotesUS', 'CVotesnUS', 'VotesM', 'VotesF', 'VotesU18', 'VotesU18M',\n",
       "       'VotesU18F', 'Votes1829', 'Votes1829M', 'Votes1829F', 'Votes3044',\n",
       "       'Votes3044M', 'Votes3044F', 'Votes45A', 'Votes45AM', 'Votes45AF',\n",
       "       'VotesIMDB', 'Votes1000', 'VotesUS', 'VotesnUS'],\n",
       "      dtype='object')"
      ]
     },
     "execution_count": 84,
     "metadata": {},
     "output_type": "execute_result"
    }
   ],
   "source": [
    "df.columns"
   ]
  },
  {
   "cell_type": "code",
   "execution_count": 85,
   "metadata": {},
   "outputs": [],
   "source": [
    "# We need TotalVotes column and Title\n",
    "max1 = max(df['TotalVotes'])\n",
    "\n",
    "# Take the row out where totalVotes = max1\n",
    "row = df[df['TotalVotes'] == max1]"
   ]
  },
  {
   "cell_type": "code",
   "execution_count": 86,
   "metadata": {},
   "outputs": [
    {
     "name": "stdout",
     "output_type": "stream",
     "text": [
      "Inception (2010) 8.8\n"
     ]
    }
   ],
   "source": [
    "# We have to print the movie name and the rating of the movie\n",
    "print(row['Title'].values[0],row['Rating'].values[0])"
   ]
  },
  {
   "cell_type": "markdown",
   "metadata": {},
   "source": [
    "IMDB.sqlite database contains all details of movies and has three tables with name IMDB, genre and earning.\n",
    "\n",
    "Find the Movie with Longest-Running Time from IMDB Movie database.\n",
    "\n",
    "Print the name of movie and running time as integer value.\n",
    "\n",
    "Note: Don't print 'min' in running time."
   ]
  },
  {
   "cell_type": "code",
   "execution_count": 87,
   "metadata": {},
   "outputs": [],
   "source": [
    "import numpy as np\n",
    "df1 = pd.read_sql_query('select * from IMDB',db)\n"
   ]
  },
  {
   "cell_type": "code",
   "execution_count": 88,
   "metadata": {},
   "outputs": [],
   "source": [
    "def trim(string):\n",
    "    return string.strip().split(\" \")[0]\n",
    "\n",
    "df1['Runtime'] = df1['Runtime'].apply(trim)\n",
    "df1['Runtime'] = df1['Runtime'].dropna()\n",
    "df1['Runtime'].replace('',np.nan,inplace=True)\n",
    "df1['Runtime'] = df1['Runtime'].astype(float).dropna()\n",
    "ans = df1['Runtime'].astype(float)"
   ]
  },
  {
   "cell_type": "code",
   "execution_count": 89,
   "metadata": {},
   "outputs": [],
   "source": [
    "df1.dropna(inplace=True)\n",
    "ans = ans.dropna()\n",
    "ans = ans.astype(int)\n",
    "max2 = max(ans)"
   ]
  },
  {
   "cell_type": "code",
   "execution_count": 90,
   "metadata": {},
   "outputs": [],
   "source": [
    "df1['Runtime'] = df1['Runtime'].astype(int)"
   ]
  },
  {
   "cell_type": "code",
   "execution_count": 91,
   "metadata": {},
   "outputs": [
    {
     "name": "stdout",
     "output_type": "stream",
     "text": [
      "180\n"
     ]
    }
   ],
   "source": [
    "print(max2)\n",
    "row = df1[df1['Runtime'] == max2]"
   ]
  },
  {
   "cell_type": "code",
   "execution_count": 92,
   "metadata": {},
   "outputs": [
    {
     "name": "stdout",
     "output_type": "stream",
     "text": [
      "The Wolf of Wall Street (2013) 180\n"
     ]
    }
   ],
   "source": [
    "print(row['Title'].values[0],(row['Runtime'].values[0]))"
   ]
  },
  {
   "cell_type": "markdown",
   "metadata": {},
   "source": [
    "IMDB.sqlite database contains all details of movies and has three tables with name IMDB, genre and earning.\n",
    "\n",
    "Find the movie which has maximum net profit in IMDB Movie Database.\n",
    "\n",
    "Print the movie name.\n",
    "\n",
    "Note: Net Profit= Total Earning(Domestic+WorldWide earning) - budget"
   ]
  },
  {
   "cell_type": "code",
   "execution_count": 93,
   "metadata": {},
   "outputs": [],
   "source": [
    "df2 = pd.read_sql_query('select * from earning inner join IMDB on earning.Movie_id = IMDB.Movie_id',db)"
   ]
  },
  {
   "cell_type": "code",
   "execution_count": 94,
   "metadata": {},
   "outputs": [],
   "source": [
    "df2 = df2.dropna()"
   ]
  },
  {
   "cell_type": "code",
   "execution_count": 95,
   "metadata": {},
   "outputs": [
    {
     "data": {
      "text/html": [
       "<div>\n",
       "<style scoped>\n",
       "    .dataframe tbody tr th:only-of-type {\n",
       "        vertical-align: middle;\n",
       "    }\n",
       "\n",
       "    .dataframe tbody tr th {\n",
       "        vertical-align: top;\n",
       "    }\n",
       "\n",
       "    .dataframe thead th {\n",
       "        text-align: right;\n",
       "    }\n",
       "</style>\n",
       "<table border=\"1\" class=\"dataframe\">\n",
       "  <thead>\n",
       "    <tr style=\"text-align: right;\">\n",
       "      <th></th>\n",
       "      <th>Movie_id</th>\n",
       "      <th>Domestic</th>\n",
       "      <th>Worldwide</th>\n",
       "      <th>Movie_id</th>\n",
       "      <th>Title</th>\n",
       "      <th>Rating</th>\n",
       "      <th>TotalVotes</th>\n",
       "      <th>MetaCritic</th>\n",
       "      <th>Budget</th>\n",
       "      <th>Runtime</th>\n",
       "      <th>...</th>\n",
       "      <th>Votes3044</th>\n",
       "      <th>Votes3044M</th>\n",
       "      <th>Votes3044F</th>\n",
       "      <th>Votes45A</th>\n",
       "      <th>Votes45AM</th>\n",
       "      <th>Votes45AF</th>\n",
       "      <th>VotesIMDB</th>\n",
       "      <th>Votes1000</th>\n",
       "      <th>VotesUS</th>\n",
       "      <th>VotesnUS</th>\n",
       "    </tr>\n",
       "  </thead>\n",
       "  <tbody>\n",
       "    <tr>\n",
       "      <th>0</th>\n",
       "      <td>36809</td>\n",
       "      <td>56671993</td>\n",
       "      <td>187733202.0</td>\n",
       "      <td>36809</td>\n",
       "      <td>12 Years a Slave (2013)</td>\n",
       "      <td>8.1</td>\n",
       "      <td>496092</td>\n",
       "      <td>96</td>\n",
       "      <td>20000000.0</td>\n",
       "      <td>134 min</td>\n",
       "      <td>...</td>\n",
       "      <td>8.0</td>\n",
       "      <td>7.9</td>\n",
       "      <td>8.0</td>\n",
       "      <td>7.8</td>\n",
       "      <td>7.8</td>\n",
       "      <td>8.1</td>\n",
       "      <td>8.0</td>\n",
       "      <td>7.7</td>\n",
       "      <td>8.3</td>\n",
       "      <td>8.0</td>\n",
       "    </tr>\n",
       "    <tr>\n",
       "      <th>1</th>\n",
       "      <td>30114</td>\n",
       "      <td>18335230</td>\n",
       "      <td>60738797.0</td>\n",
       "      <td>30114</td>\n",
       "      <td>127 Hours (2010)</td>\n",
       "      <td>7.6</td>\n",
       "      <td>297075</td>\n",
       "      <td>82</td>\n",
       "      <td>18000000.0</td>\n",
       "      <td>94 min</td>\n",
       "      <td>...</td>\n",
       "      <td>7.5</td>\n",
       "      <td>7.5</td>\n",
       "      <td>7.5</td>\n",
       "      <td>7.3</td>\n",
       "      <td>7.3</td>\n",
       "      <td>7.5</td>\n",
       "      <td>7.6</td>\n",
       "      <td>7.0</td>\n",
       "      <td>7.7</td>\n",
       "      <td>7.6</td>\n",
       "    </tr>\n",
       "    <tr>\n",
       "      <th>2</th>\n",
       "      <td>37367</td>\n",
       "      <td>35014192</td>\n",
       "      <td>39187783.0</td>\n",
       "      <td>37367</td>\n",
       "      <td>50/50 (2011)</td>\n",
       "      <td>7.7</td>\n",
       "      <td>283935</td>\n",
       "      <td>72</td>\n",
       "      <td>8000000.0</td>\n",
       "      <td>100 min</td>\n",
       "      <td>...</td>\n",
       "      <td>7.6</td>\n",
       "      <td>7.6</td>\n",
       "      <td>7.6</td>\n",
       "      <td>7.4</td>\n",
       "      <td>7.4</td>\n",
       "      <td>7.5</td>\n",
       "      <td>7.4</td>\n",
       "      <td>7.0</td>\n",
       "      <td>7.9</td>\n",
       "      <td>7.6</td>\n",
       "    </tr>\n",
       "  </tbody>\n",
       "</table>\n",
       "<p>3 rows × 55 columns</p>\n",
       "</div>"
      ],
      "text/plain": [
       "  Movie_id  Domestic    Worldwide Movie_id                    Title  Rating  \\\n",
       "0    36809  56671993  187733202.0    36809  12 Years a Slave (2013)     8.1   \n",
       "1    30114  18335230   60738797.0    30114         127 Hours (2010)     7.6   \n",
       "2    37367  35014192   39187783.0    37367             50/50 (2011)     7.7   \n",
       "\n",
       "   TotalVotes MetaCritic      Budget  Runtime  ... Votes3044 Votes3044M  \\\n",
       "0      496092         96  20000000.0  134 min  ...       8.0        7.9   \n",
       "1      297075         82  18000000.0   94 min  ...       7.5        7.5   \n",
       "2      283935         72   8000000.0  100 min  ...       7.6        7.6   \n",
       "\n",
       "  Votes3044F Votes45A Votes45AM Votes45AF VotesIMDB Votes1000 VotesUS VotesnUS  \n",
       "0        8.0      7.8       7.8       8.1       8.0       7.7     8.3      8.0  \n",
       "1        7.5      7.3       7.3       7.5       7.6       7.0     7.7      7.6  \n",
       "2        7.6      7.4       7.4       7.5       7.4       7.0     7.9      7.6  \n",
       "\n",
       "[3 rows x 55 columns]"
      ]
     },
     "execution_count": 95,
     "metadata": {},
     "output_type": "execute_result"
    }
   ],
   "source": [
    "df2.head(3)"
   ]
  },
  {
   "cell_type": "code",
   "execution_count": 96,
   "metadata": {},
   "outputs": [],
   "source": [
    "df2['Profit'] = (df2['Domestic']+df2['Worldwide'])"
   ]
  },
  {
   "cell_type": "code",
   "execution_count": 97,
   "metadata": {},
   "outputs": [
    {
     "data": {
      "text/html": [
       "<div>\n",
       "<style scoped>\n",
       "    .dataframe tbody tr th:only-of-type {\n",
       "        vertical-align: middle;\n",
       "    }\n",
       "\n",
       "    .dataframe tbody tr th {\n",
       "        vertical-align: top;\n",
       "    }\n",
       "\n",
       "    .dataframe thead th {\n",
       "        text-align: right;\n",
       "    }\n",
       "</style>\n",
       "<table border=\"1\" class=\"dataframe\">\n",
       "  <thead>\n",
       "    <tr style=\"text-align: right;\">\n",
       "      <th></th>\n",
       "      <th>Movie_id</th>\n",
       "      <th>Domestic</th>\n",
       "      <th>Worldwide</th>\n",
       "      <th>Movie_id</th>\n",
       "      <th>Title</th>\n",
       "      <th>Rating</th>\n",
       "      <th>TotalVotes</th>\n",
       "      <th>MetaCritic</th>\n",
       "      <th>Budget</th>\n",
       "      <th>Runtime</th>\n",
       "      <th>...</th>\n",
       "      <th>Votes3044M</th>\n",
       "      <th>Votes3044F</th>\n",
       "      <th>Votes45A</th>\n",
       "      <th>Votes45AM</th>\n",
       "      <th>Votes45AF</th>\n",
       "      <th>VotesIMDB</th>\n",
       "      <th>Votes1000</th>\n",
       "      <th>VotesUS</th>\n",
       "      <th>VotesnUS</th>\n",
       "      <th>Profit</th>\n",
       "    </tr>\n",
       "  </thead>\n",
       "  <tbody>\n",
       "    <tr>\n",
       "      <th>0</th>\n",
       "      <td>36809</td>\n",
       "      <td>56671993</td>\n",
       "      <td>187733202.0</td>\n",
       "      <td>36809</td>\n",
       "      <td>12 Years a Slave (2013)</td>\n",
       "      <td>8.1</td>\n",
       "      <td>496092</td>\n",
       "      <td>96</td>\n",
       "      <td>20000000.0</td>\n",
       "      <td>134 min</td>\n",
       "      <td>...</td>\n",
       "      <td>7.9</td>\n",
       "      <td>8.0</td>\n",
       "      <td>7.8</td>\n",
       "      <td>7.8</td>\n",
       "      <td>8.1</td>\n",
       "      <td>8.0</td>\n",
       "      <td>7.7</td>\n",
       "      <td>8.3</td>\n",
       "      <td>8.0</td>\n",
       "      <td>244405195.0</td>\n",
       "    </tr>\n",
       "    <tr>\n",
       "      <th>1</th>\n",
       "      <td>30114</td>\n",
       "      <td>18335230</td>\n",
       "      <td>60738797.0</td>\n",
       "      <td>30114</td>\n",
       "      <td>127 Hours (2010)</td>\n",
       "      <td>7.6</td>\n",
       "      <td>297075</td>\n",
       "      <td>82</td>\n",
       "      <td>18000000.0</td>\n",
       "      <td>94 min</td>\n",
       "      <td>...</td>\n",
       "      <td>7.5</td>\n",
       "      <td>7.5</td>\n",
       "      <td>7.3</td>\n",
       "      <td>7.3</td>\n",
       "      <td>7.5</td>\n",
       "      <td>7.6</td>\n",
       "      <td>7.0</td>\n",
       "      <td>7.7</td>\n",
       "      <td>7.6</td>\n",
       "      <td>79074027.0</td>\n",
       "    </tr>\n",
       "    <tr>\n",
       "      <th>2</th>\n",
       "      <td>37367</td>\n",
       "      <td>35014192</td>\n",
       "      <td>39187783.0</td>\n",
       "      <td>37367</td>\n",
       "      <td>50/50 (2011)</td>\n",
       "      <td>7.7</td>\n",
       "      <td>283935</td>\n",
       "      <td>72</td>\n",
       "      <td>8000000.0</td>\n",
       "      <td>100 min</td>\n",
       "      <td>...</td>\n",
       "      <td>7.6</td>\n",
       "      <td>7.6</td>\n",
       "      <td>7.4</td>\n",
       "      <td>7.4</td>\n",
       "      <td>7.5</td>\n",
       "      <td>7.4</td>\n",
       "      <td>7.0</td>\n",
       "      <td>7.9</td>\n",
       "      <td>7.6</td>\n",
       "      <td>74201975.0</td>\n",
       "    </tr>\n",
       "    <tr>\n",
       "      <th>3</th>\n",
       "      <td>49473</td>\n",
       "      <td>15322921</td>\n",
       "      <td>87100449.0</td>\n",
       "      <td>49473</td>\n",
       "      <td>About Time (2013)</td>\n",
       "      <td>7.8</td>\n",
       "      <td>225412</td>\n",
       "      <td></td>\n",
       "      <td>12000000.0</td>\n",
       "      <td>123 min</td>\n",
       "      <td>...</td>\n",
       "      <td>7.6</td>\n",
       "      <td>7.7</td>\n",
       "      <td>7.6</td>\n",
       "      <td>7.5</td>\n",
       "      <td>7.8</td>\n",
       "      <td>7.7</td>\n",
       "      <td>6.9</td>\n",
       "      <td>7.8</td>\n",
       "      <td>7.7</td>\n",
       "      <td>102423370.0</td>\n",
       "    </tr>\n",
       "    <tr>\n",
       "      <th>4</th>\n",
       "      <td>14867</td>\n",
       "      <td>6739492</td>\n",
       "      <td>19839492.0</td>\n",
       "      <td>14867</td>\n",
       "      <td>Amour (2012)</td>\n",
       "      <td>7.9</td>\n",
       "      <td>76121</td>\n",
       "      <td>94</td>\n",
       "      <td>8900000.0</td>\n",
       "      <td>127 min</td>\n",
       "      <td>...</td>\n",
       "      <td>7.7</td>\n",
       "      <td>7.9</td>\n",
       "      <td>7.9</td>\n",
       "      <td>7.8</td>\n",
       "      <td>8.1</td>\n",
       "      <td>6.6</td>\n",
       "      <td>7.2</td>\n",
       "      <td>7.9</td>\n",
       "      <td>7.8</td>\n",
       "      <td>26578984.0</td>\n",
       "    </tr>\n",
       "  </tbody>\n",
       "</table>\n",
       "<p>5 rows × 56 columns</p>\n",
       "</div>"
      ],
      "text/plain": [
       "  Movie_id  Domestic    Worldwide Movie_id                    Title  Rating  \\\n",
       "0    36809  56671993  187733202.0    36809  12 Years a Slave (2013)     8.1   \n",
       "1    30114  18335230   60738797.0    30114         127 Hours (2010)     7.6   \n",
       "2    37367  35014192   39187783.0    37367             50/50 (2011)     7.7   \n",
       "3    49473  15322921   87100449.0    49473        About Time (2013)     7.8   \n",
       "4    14867   6739492   19839492.0    14867             Amour (2012)     7.9   \n",
       "\n",
       "   TotalVotes MetaCritic      Budget  Runtime  ... Votes3044M Votes3044F  \\\n",
       "0      496092         96  20000000.0  134 min  ...        7.9        8.0   \n",
       "1      297075         82  18000000.0   94 min  ...        7.5        7.5   \n",
       "2      283935         72   8000000.0  100 min  ...        7.6        7.6   \n",
       "3      225412             12000000.0  123 min  ...        7.6        7.7   \n",
       "4       76121         94   8900000.0  127 min  ...        7.7        7.9   \n",
       "\n",
       "  Votes45A Votes45AM Votes45AF VotesIMDB Votes1000 VotesUS VotesnUS  \\\n",
       "0      7.8       7.8       8.1       8.0       7.7     8.3      8.0   \n",
       "1      7.3       7.3       7.5       7.6       7.0     7.7      7.6   \n",
       "2      7.4       7.4       7.5       7.4       7.0     7.9      7.6   \n",
       "3      7.6       7.5       7.8       7.7       6.9     7.8      7.7   \n",
       "4      7.9       7.8       8.1       6.6       7.2     7.9      7.8   \n",
       "\n",
       "        Profit  \n",
       "0  244405195.0  \n",
       "1   79074027.0  \n",
       "2   74201975.0  \n",
       "3  102423370.0  \n",
       "4   26578984.0  \n",
       "\n",
       "[5 rows x 56 columns]"
      ]
     },
     "execution_count": 97,
     "metadata": {},
     "output_type": "execute_result"
    }
   ],
   "source": [
    "df2.head()"
   ]
  },
  {
   "cell_type": "code",
   "execution_count": 132,
   "metadata": {},
   "outputs": [],
   "source": [
    "df2['Budget'].replace('',np.nan,inplace=True)\n",
    "df2['Budget'].astype(float)\n",
    "df2['Budget'].dropna(inplace=True)\n",
    "df2['Net_Profit'] = df2['Profit'] - df2['Budget']"
   ]
  },
  {
   "cell_type": "code",
   "execution_count": 134,
   "metadata": {},
   "outputs": [],
   "source": [
    "max3 = max(df2['Net_Profit'])"
   ]
  },
  {
   "cell_type": "code",
   "execution_count": 135,
   "metadata": {},
   "outputs": [
    {
     "name": "stdout",
     "output_type": "stream",
     "text": [
      "2759885849.0\n"
     ]
    }
   ],
   "source": [
    "print(max3)"
   ]
  },
  {
   "cell_type": "code",
   "execution_count": 136,
   "metadata": {},
   "outputs": [
    {
     "data": {
      "text/html": [
       "<div>\n",
       "<style scoped>\n",
       "    .dataframe tbody tr th:only-of-type {\n",
       "        vertical-align: middle;\n",
       "    }\n",
       "\n",
       "    .dataframe tbody tr th {\n",
       "        vertical-align: top;\n",
       "    }\n",
       "\n",
       "    .dataframe thead th {\n",
       "        text-align: right;\n",
       "    }\n",
       "</style>\n",
       "<table border=\"1\" class=\"dataframe\">\n",
       "  <thead>\n",
       "    <tr style=\"text-align: right;\">\n",
       "      <th></th>\n",
       "      <th>Movie_id</th>\n",
       "      <th>Domestic</th>\n",
       "      <th>Worldwide</th>\n",
       "      <th>Movie_id</th>\n",
       "      <th>Title</th>\n",
       "      <th>Rating</th>\n",
       "      <th>TotalVotes</th>\n",
       "      <th>MetaCritic</th>\n",
       "      <th>Budget</th>\n",
       "      <th>Runtime</th>\n",
       "      <th>...</th>\n",
       "      <th>Votes3044F</th>\n",
       "      <th>Votes45A</th>\n",
       "      <th>Votes45AM</th>\n",
       "      <th>Votes45AF</th>\n",
       "      <th>VotesIMDB</th>\n",
       "      <th>Votes1000</th>\n",
       "      <th>VotesUS</th>\n",
       "      <th>VotesnUS</th>\n",
       "      <th>Profit</th>\n",
       "      <th>Net_Profit</th>\n",
       "    </tr>\n",
       "  </thead>\n",
       "  <tbody>\n",
       "    <tr>\n",
       "      <th>79</th>\n",
       "      <td>38626</td>\n",
       "      <td>936662225</td>\n",
       "      <td>2.068224e+09</td>\n",
       "      <td>38626</td>\n",
       "      <td>Star Wars: The Force Awakens (2015)</td>\n",
       "      <td>8.1</td>\n",
       "      <td>676732</td>\n",
       "      <td>81</td>\n",
       "      <td>245000000.0</td>\n",
       "      <td>136 min</td>\n",
       "      <td>...</td>\n",
       "      <td>8.2</td>\n",
       "      <td>7.9</td>\n",
       "      <td>7.8</td>\n",
       "      <td>8.2</td>\n",
       "      <td>8.3</td>\n",
       "      <td>7.7</td>\n",
       "      <td>8.2</td>\n",
       "      <td>7.9</td>\n",
       "      <td>3.004886e+09</td>\n",
       "      <td>2.759886e+09</td>\n",
       "    </tr>\n",
       "  </tbody>\n",
       "</table>\n",
       "<p>1 rows × 57 columns</p>\n",
       "</div>"
      ],
      "text/plain": [
       "   Movie_id   Domestic     Worldwide Movie_id  \\\n",
       "79    38626  936662225  2.068224e+09    38626   \n",
       "\n",
       "                                  Title  Rating  TotalVotes MetaCritic  \\\n",
       "79  Star Wars: The Force Awakens (2015)     8.1      676732         81   \n",
       "\n",
       "         Budget  Runtime  ... Votes3044F Votes45A Votes45AM Votes45AF  \\\n",
       "79  245000000.0  136 min  ...        8.2      7.9       7.8       8.2   \n",
       "\n",
       "   VotesIMDB Votes1000 VotesUS VotesnUS        Profit    Net_Profit  \n",
       "79       8.3       7.7     8.2      7.9  3.004886e+09  2.759886e+09  \n",
       "\n",
       "[1 rows x 57 columns]"
      ]
     },
     "execution_count": 136,
     "metadata": {},
     "output_type": "execute_result"
    }
   ],
   "source": [
    "row = df2[df2['Net_Profit'] == max3]\n",
    "row"
   ]
  },
  {
   "cell_type": "code",
   "execution_count": 137,
   "metadata": {},
   "outputs": [
    {
     "name": "stdout",
     "output_type": "stream",
     "text": [
      "36809\n",
      "12 Years a Slave (2013)\n"
     ]
    }
   ],
   "source": [
    "print(df2.values[0][3])\n",
    "print(df2['Title'].values[0])"
   ]
  },
  {
   "cell_type": "markdown",
   "metadata": {},
   "source": [
    "IMDB.sqlite database contains all details of movies and has three tables with name IMDB, genre and earning.\n",
    "\n",
    "Find the least budgeted movie in IMDB Movie Database.\n",
    "\n",
    "If there is more than one least budgeted movies then print the movie which has maximum net profit.\n",
    "\n",
    "Note: Net Profit= Total Earning(Domestic+WorldWide earning) - budget"
   ]
  },
  {
   "cell_type": "code",
   "execution_count": 138,
   "metadata": {},
   "outputs": [],
   "source": [
    "min1 = min(df2['Budget'])"
   ]
  },
  {
   "cell_type": "code",
   "execution_count": 141,
   "metadata": {},
   "outputs": [
    {
     "data": {
      "text/html": [
       "<div>\n",
       "<style scoped>\n",
       "    .dataframe tbody tr th:only-of-type {\n",
       "        vertical-align: middle;\n",
       "    }\n",
       "\n",
       "    .dataframe tbody tr th {\n",
       "        vertical-align: top;\n",
       "    }\n",
       "\n",
       "    .dataframe thead th {\n",
       "        text-align: right;\n",
       "    }\n",
       "</style>\n",
       "<table border=\"1\" class=\"dataframe\">\n",
       "  <thead>\n",
       "    <tr style=\"text-align: right;\">\n",
       "      <th></th>\n",
       "      <th>Movie_id</th>\n",
       "      <th>Domestic</th>\n",
       "      <th>Worldwide</th>\n",
       "      <th>Movie_id</th>\n",
       "      <th>Title</th>\n",
       "      <th>Rating</th>\n",
       "      <th>TotalVotes</th>\n",
       "      <th>MetaCritic</th>\n",
       "      <th>Budget</th>\n",
       "      <th>Runtime</th>\n",
       "      <th>...</th>\n",
       "      <th>Votes3044F</th>\n",
       "      <th>Votes45A</th>\n",
       "      <th>Votes45AM</th>\n",
       "      <th>Votes45AF</th>\n",
       "      <th>VotesIMDB</th>\n",
       "      <th>Votes1000</th>\n",
       "      <th>VotesUS</th>\n",
       "      <th>VotesnUS</th>\n",
       "      <th>Profit</th>\n",
       "      <th>Net_Profit</th>\n",
       "    </tr>\n",
       "  </thead>\n",
       "  <tbody>\n",
       "    <tr>\n",
       "      <th>71</th>\n",
       "      <td>30154</td>\n",
       "      <td>1013100</td>\n",
       "      <td>1013100.0</td>\n",
       "      <td>30154</td>\n",
       "      <td>Short Term 12 (2013)</td>\n",
       "      <td>8.0</td>\n",
       "      <td>63459</td>\n",
       "      <td>82</td>\n",
       "      <td>1000000.0</td>\n",
       "      <td></td>\n",
       "      <td>...</td>\n",
       "      <td>7.9</td>\n",
       "      <td>7.7</td>\n",
       "      <td>7.7</td>\n",
       "      <td>8.0</td>\n",
       "      <td>8.5</td>\n",
       "      <td>7.0</td>\n",
       "      <td>8.3</td>\n",
       "      <td>7.9</td>\n",
       "      <td>2026200.0</td>\n",
       "      <td>1026200.0</td>\n",
       "    </tr>\n",
       "    <tr>\n",
       "      <th>109</th>\n",
       "      <td>20709</td>\n",
       "      <td>22321</td>\n",
       "      <td>22321.0</td>\n",
       "      <td>20709</td>\n",
       "      <td>Tyrannosaur (2011)</td>\n",
       "      <td>7.6</td>\n",
       "      <td>26016</td>\n",
       "      <td>65</td>\n",
       "      <td>1000000.0</td>\n",
       "      <td></td>\n",
       "      <td>...</td>\n",
       "      <td>7.5</td>\n",
       "      <td>7.5</td>\n",
       "      <td>7.4</td>\n",
       "      <td>5.8</td>\n",
       "      <td>6.5</td>\n",
       "      <td>7.4</td>\n",
       "      <td>7.6</td>\n",
       "      <td></td>\n",
       "      <td>44642.0</td>\n",
       "      <td>-955358.0</td>\n",
       "    </tr>\n",
       "  </tbody>\n",
       "</table>\n",
       "<p>2 rows × 57 columns</p>\n",
       "</div>"
      ],
      "text/plain": [
       "    Movie_id  Domestic  Worldwide Movie_id                 Title  Rating  \\\n",
       "71     30154   1013100  1013100.0    30154  Short Term 12 (2013)     8.0   \n",
       "109    20709     22321    22321.0    20709    Tyrannosaur (2011)     7.6   \n",
       "\n",
       "     TotalVotes MetaCritic     Budget Runtime  ... Votes3044F Votes45A  \\\n",
       "71        63459         82  1000000.0          ...        7.9      7.7   \n",
       "109       26016         65  1000000.0          ...        7.5      7.5   \n",
       "\n",
       "    Votes45AM Votes45AF VotesIMDB Votes1000 VotesUS VotesnUS     Profit  \\\n",
       "71        7.7       8.0       8.5       7.0     8.3      7.9  2026200.0   \n",
       "109       7.4       5.8       6.5       7.4     7.6             44642.0   \n",
       "\n",
       "    Net_Profit  \n",
       "71   1026200.0  \n",
       "109  -955358.0  \n",
       "\n",
       "[2 rows x 57 columns]"
      ]
     },
     "execution_count": 141,
     "metadata": {},
     "output_type": "execute_result"
    }
   ],
   "source": [
    "row = df2[df2['Budget'] == min1]\n",
    "row"
   ]
  },
  {
   "cell_type": "code",
   "execution_count": 140,
   "metadata": {},
   "outputs": [
    {
     "name": "stdout",
     "output_type": "stream",
     "text": [
      "1026200.0\n",
      "Short Term 12 (2013)\n"
     ]
    }
   ],
   "source": [
    "import pandas as pd\n",
    "import numpy as np\n",
    "import sqlite3\n",
    "\n",
    "db = sqlite3.connect('IMDB.sqlite')\n",
    "\n",
    "data = pd.read_sql_query('select * from earning join IMDB using(Movie_id)',db)\n",
    "\n",
    "data['Total'] = data['Domestic'] + data['Worldwide']\n",
    "data['Budget'].replace('',np.nan,inplace=True)\n",
    "data['Budget'].astype(float)\n",
    "data['Profit']=data['Total']-data['Budget']\n",
    "\n",
    "min1 = min(data['Budget'])\n",
    "data=data[data['Budget']==min1]\n",
    "# data=data[data['Profit']==max(data['Profit'])]\n",
    "print(data['Profit'].values[0])\n",
    "print(data['Title'].values[0])"
   ]
  },
  {
   "cell_type": "markdown",
   "metadata": {},
   "source": [
    "IMDB.sqlite' database contains all details of movies and has three tables with name IMDB, genre and earning.\n",
    "\n",
    "Find the highest-grossing movie (i.e domestic earning + worldwide earning) in IMDB database year wise.\n",
    "\n",
    "Print the Year and name of the movie which was the highest grosser in that year.\n",
    "\n",
    "Note:Print the year in ascending order."
   ]
  },
  {
   "cell_type": "code",
   "execution_count": 154,
   "metadata": {},
   "outputs": [],
   "source": [
    "# db = sqlite3.connect('IMDB.sqlite')\n",
    "\n",
    "# data = pd.read_sql_query('select * from earning join IMDB using(Movie_id)',db)\n",
    "\n",
    "# data['Total'] = data['Domestic'] + data['Worldwide']\n",
    "\n",
    "# def year(title):\n",
    "#     return int(title.strip().split(\" \")[-1][-5:-1])\n",
    "\n",
    "# data['Year'] = data[\"Title\"].apply(year)\n",
    "# # data['Year'].unique()\n",
    "# print(data['Year'])\n",
    "# m = data.groupby('Year')['Total'].max()\n",
    "# print(m)\n",
    "# d = {}\n",
    "# for i in range(len(data['Total'])):\n",
    "#     if data['Total'][i] in (m.values):\n",
    "#         key = data['Year'][i]\n",
    "#         value = data['Title'][i]\n",
    "#         d[key] = value\n",
    "# for i in sorted(d):\n",
    "#     print(i,d[i])"
   ]
  },
  {
   "cell_type": "code",
   "execution_count": 164,
   "metadata": {},
   "outputs": [],
   "source": [
    "df3 = pd.read_sql_query('select * from earning inner join IMDB on earning.Movie_id = IMDB.Movie_id',db)"
   ]
  },
  {
   "cell_type": "code",
   "execution_count": 165,
   "metadata": {},
   "outputs": [],
   "source": [
    "df3['Total_Earning'] = df3['Domestic'] + df3['Worldwide']"
   ]
  },
  {
   "cell_type": "code",
   "execution_count": 169,
   "metadata": {},
   "outputs": [
    {
     "name": "stdout",
     "output_type": "stream",
     "text": [
      "2010 Toy Story 3 (2010)\n",
      "2011 Rise of the Planet of the Apes (2011)\n",
      "2012 The Avengers (2012)\n",
      "2013 The Hunger Games: Catching Fire (2013)\n",
      "2014 Guardians of the Galaxy (2014)\n",
      "2015 Star Wars: The Force Awakens (2015)\n",
      "2016 Rogue One (2016)\n"
     ]
    }
   ],
   "source": [
    "def Get_Year(string):\n",
    "    return int(string.strip().split(\" \")[-1][-5:-1])\n",
    "\n",
    "df3['Year'] = df3['Title'].apply(Get_Year)\n",
    "ans = df3.groupby('Year')['Total_Earning'].max()\n",
    "# print(ans)\n",
    "d = {}\n",
    "for i in range(0,len(df3['Total_Earning'])):\n",
    "    if df3['Total_Earning'][i] in (ans.values):\n",
    "        key = df3['Year'][i]\n",
    "        value = df3['Title'][i]\n",
    "        d[key] = value\n",
    "for i in sorted(d):\n",
    "    print(i,d[i])"
   ]
  },
  {
   "cell_type": "markdown",
   "metadata": {},
   "source": [
    "IMDB.sqlite' database contains all details of movies and has three tables with name IMDB, genre and earning.\n",
    "\n",
    "Find out the percentage of the budget for each genre in IMDB Movie Dataset?Plot the pie chart.\n",
    "\n",
    "Print the genre and percentage of movies budget present in that genre with 2 decimal place after rounding off..\n",
    "\n",
    "Note: Movies has multiple genres, so calculate the percentage for each genre.Replace empty budget column to zero."
   ]
  },
  {
   "cell_type": "code",
   "execution_count": 245,
   "metadata": {},
   "outputs": [],
   "source": [
    "df4 = pd.read_sql_query('select imdb.movie_id,title,budget,genre from IMDB inner join genre on IMDB.Movie_id = genre.Movie_id',db)\n",
    "df4.dropna(inplace=True)"
   ]
  },
  {
   "cell_type": "code",
   "execution_count": 246,
   "metadata": {},
   "outputs": [],
   "source": [
    "df4[df4['Budget'] == \"\"] = 0\n",
    "df4['Budget'].dropna(inplace=True)"
   ]
  },
  {
   "cell_type": "code",
   "execution_count": 247,
   "metadata": {},
   "outputs": [],
   "source": [
    "df4['Budget']=df4['Budget'].astype(float)\n",
    "# OR\n",
    "# df4['Budget'] = pd.to_numeric(data['Budget'])"
   ]
  },
  {
   "cell_type": "code",
   "execution_count": 248,
   "metadata": {},
   "outputs": [],
   "source": [
    "df4['Budget'] = df4['Budget'].replace('',np.nan)"
   ]
  },
  {
   "cell_type": "code",
   "execution_count": 249,
   "metadata": {},
   "outputs": [],
   "source": [
    "ans = df4.groupby('genre')['Budget'].sum()"
   ]
  },
  {
   "cell_type": "code",
   "execution_count": 255,
   "metadata": {},
   "outputs": [
    {
     "name": "stdout",
     "output_type": "stream",
     "text": [
      "Index(['Action', 'Adventure', 'Animation', 'Biography', 'Comedy', 'Crime',\n",
      "       'Drama', 'Family', 'Fantasy', 'History', 'Horror', 'Music', 'Musical',\n",
      "       'Mystery', 'Romance', 'Sci-Fi', 'Sport', 'Thriller', 'War', 'Western'],\n",
      "      dtype='object', name='genre')\n",
      "[4.3325e+09 6.0467e+09 1.8452e+09 6.2450e+08 1.7401e+09 4.2650e+08\n",
      " 2.6144e+09 4.6000e+08 1.0940e+09 1.7300e+08 6.6000e+06 3.7300e+07\n",
      " 6.1000e+07 4.6900e+08 2.7090e+08 2.5960e+09 1.1000e+08 9.6150e+08\n",
      " 8.7000e+07 1.3800e+08]\n"
     ]
    }
   ],
   "source": [
    "genre = ans[2:].index\n",
    "Budget = ans[2:].values\n",
    "print(genre)\n",
    "print(Budget)"
   ]
  },
  {
   "cell_type": "code",
   "execution_count": 257,
   "metadata": {},
   "outputs": [
    {
     "data": {
      "text/plain": [
       "array([17.98150592, 25.09608121,  7.65827461,  2.59191009,  7.22207004,\n",
       "        1.77013555, 10.85074416,  1.90917316,  4.54051182,  0.71801512,\n",
       "        0.02739248,  0.15480904,  0.25317296,  1.94652655,  1.12433698,\n",
       "       10.77437724,  0.45654141,  3.99058695,  0.36108275,  0.57275195])"
      ]
     },
     "execution_count": 257,
     "metadata": {},
     "output_type": "execute_result"
    }
   ],
   "source": [
    "x = np.true_divide(Budget,Budget.sum())*100"
   ]
  },
  {
   "cell_type": "code",
   "execution_count": 260,
   "metadata": {},
   "outputs": [
    {
     "data": {
      "image/png": "[encoded data removed]",
      "text/plain": [
       "<Figure size 640x480 with 1 Axes>"
      ]
     },
     "metadata": {},
     "output_type": "display_data"
    }
   ],
   "source": [
    "import matplotlib.pyplot as plt\n",
    "plt.pie(x,labels=genre,autopct=\"%.2f%%\")\n",
    "plt.show()\n"
   ]
  },
  {
   "cell_type": "markdown",
   "metadata": {},
   "source": [
    "IMDB.sqlite' database contains all details of movies and has three tables with name IMDB, genre and earning.\n",
    "\n",
    "Find out the percentage of the total earning for each genre in IMDB Movie Dataset?Plot the pie chart.\n",
    "\n",
    "Print the genre and percentage of movies total earning present in that genre with 2 decimal place after rounding off.\n",
    "\n",
    "Note: Movies has multiple genres, so calculate the percentage for each genre.Total Earning=Domestic earning + WorldWide earning."
   ]
  },
  {
   "cell_type": "code",
   "execution_count": 262,
   "metadata": {},
   "outputs": [],
   "source": [
    "df5 = pd.read_sql_query('select * from genre inner join earning on genre.Movie_id = earning.Movie_id',db)"
   ]
  },
  {
   "cell_type": "code",
   "execution_count": 265,
   "metadata": {},
   "outputs": [
    {
     "data": {
      "text/html": [
       "<div>\n",
       "<style scoped>\n",
       "    .dataframe tbody tr th:only-of-type {\n",
       "        vertical-align: middle;\n",
       "    }\n",
       "\n",
       "    .dataframe tbody tr th {\n",
       "        vertical-align: top;\n",
       "    }\n",
       "\n",
       "    .dataframe thead th {\n",
       "        text-align: right;\n",
       "    }\n",
       "</style>\n",
       "<table border=\"1\" class=\"dataframe\">\n",
       "  <thead>\n",
       "    <tr style=\"text-align: right;\">\n",
       "      <th></th>\n",
       "      <th>Movie_id</th>\n",
       "      <th>genre</th>\n",
       "      <th>Movie_id</th>\n",
       "      <th>Domestic</th>\n",
       "      <th>Worldwide</th>\n",
       "      <th>Total</th>\n",
       "    </tr>\n",
       "  </thead>\n",
       "  <tbody>\n",
       "    <tr>\n",
       "      <th>0</th>\n",
       "      <td>36809</td>\n",
       "      <td>Biography</td>\n",
       "      <td>36809</td>\n",
       "      <td>56671993</td>\n",
       "      <td>1.877332e+08</td>\n",
       "      <td>2.444052e+08</td>\n",
       "    </tr>\n",
       "    <tr>\n",
       "      <th>1</th>\n",
       "      <td>30114</td>\n",
       "      <td>Adventure</td>\n",
       "      <td>30114</td>\n",
       "      <td>18335230</td>\n",
       "      <td>6.073880e+07</td>\n",
       "      <td>7.907403e+07</td>\n",
       "    </tr>\n",
       "    <tr>\n",
       "      <th>2</th>\n",
       "      <td>37367</td>\n",
       "      <td>Comedy</td>\n",
       "      <td>37367</td>\n",
       "      <td>35014192</td>\n",
       "      <td>3.918778e+07</td>\n",
       "      <td>7.420198e+07</td>\n",
       "    </tr>\n",
       "    <tr>\n",
       "      <th>3</th>\n",
       "      <td>49473</td>\n",
       "      <td>Comedy</td>\n",
       "      <td>49473</td>\n",
       "      <td>15322921</td>\n",
       "      <td>8.710045e+07</td>\n",
       "      <td>1.024234e+08</td>\n",
       "    </tr>\n",
       "    <tr>\n",
       "      <th>4</th>\n",
       "      <td>14867</td>\n",
       "      <td>Drama</td>\n",
       "      <td>14867</td>\n",
       "      <td>6739492</td>\n",
       "      <td>1.983949e+07</td>\n",
       "      <td>2.657898e+07</td>\n",
       "    </tr>\n",
       "    <tr>\n",
       "      <th>...</th>\n",
       "      <td>...</td>\n",
       "      <td>...</td>\n",
       "      <td>...</td>\n",
       "      <td>...</td>\n",
       "      <td>...</td>\n",
       "      <td>...</td>\n",
       "    </tr>\n",
       "    <tr>\n",
       "      <th>346</th>\n",
       "      <td>38262</td>\n",
       "      <td></td>\n",
       "      <td>38262</td>\n",
       "      <td>13092000</td>\n",
       "      <td>4.898204e+07</td>\n",
       "      <td>6.207404e+07</td>\n",
       "    </tr>\n",
       "    <tr>\n",
       "      <th>347</th>\n",
       "      <td>10023</td>\n",
       "      <td>Comedy</td>\n",
       "      <td>10023</td>\n",
       "      <td>189422889</td>\n",
       "      <td>4.712229e+08</td>\n",
       "      <td>6.606458e+08</td>\n",
       "    </tr>\n",
       "    <tr>\n",
       "      <th>348</th>\n",
       "      <td>27783</td>\n",
       "      <td>Sci-Fi</td>\n",
       "      <td>27783</td>\n",
       "      <td>233921534</td>\n",
       "      <td>7.478628e+08</td>\n",
       "      <td>9.817843e+08</td>\n",
       "    </tr>\n",
       "    <tr>\n",
       "      <th>349</th>\n",
       "      <td>42294</td>\n",
       "      <td>Sci-Fi</td>\n",
       "      <td>42294</td>\n",
       "      <td>146408305</td>\n",
       "      <td>3.536241e+08</td>\n",
       "      <td>5.000324e+08</td>\n",
       "    </tr>\n",
       "    <tr>\n",
       "      <th>350</th>\n",
       "      <td>32217</td>\n",
       "      <td>Comedy</td>\n",
       "      <td>32217</td>\n",
       "      <td>341268248</td>\n",
       "      <td>1.023784e+09</td>\n",
       "      <td>1.365052e+09</td>\n",
       "    </tr>\n",
       "  </tbody>\n",
       "</table>\n",
       "<p>351 rows × 6 columns</p>\n",
       "</div>"
      ],
      "text/plain": [
       "    Movie_id      genre Movie_id   Domestic     Worldwide         Total\n",
       "0      36809  Biography    36809   56671993  1.877332e+08  2.444052e+08\n",
       "1      30114  Adventure    30114   18335230  6.073880e+07  7.907403e+07\n",
       "2      37367     Comedy    37367   35014192  3.918778e+07  7.420198e+07\n",
       "3      49473     Comedy    49473   15322921  8.710045e+07  1.024234e+08\n",
       "4      14867      Drama    14867    6739492  1.983949e+07  2.657898e+07\n",
       "..       ...        ...      ...        ...           ...           ...\n",
       "346    38262               38262   13092000  4.898204e+07  6.207404e+07\n",
       "347    10023     Comedy    10023  189422889  4.712229e+08  6.606458e+08\n",
       "348    27783     Sci-Fi    27783  233921534  7.478628e+08  9.817843e+08\n",
       "349    42294     Sci-Fi    42294  146408305  3.536241e+08  5.000324e+08\n",
       "350    32217     Comedy    32217  341268248  1.023784e+09  1.365052e+09\n",
       "\n",
       "[351 rows x 6 columns]"
      ]
     },
     "execution_count": 265,
     "metadata": {},
     "output_type": "execute_result"
    }
   ],
   "source": [
    "df5['Total'] = df5['Domestic'] + df5['Worldwide']\n",
    "df5"
   ]
  },
  {
   "cell_type": "code",
   "execution_count": 268,
   "metadata": {},
   "outputs": [
    {
     "data": {
      "text/plain": [
       "genre\n",
       "             1.153443e+10\n",
       "Action       2.788521e+10\n",
       "Adventure    3.669282e+10\n",
       "Animation    1.053621e+10\n",
       "Biography    5.323303e+09\n",
       "Comedy       1.197469e+10\n",
       "Crime        2.411969e+09\n",
       "Drama        1.861607e+10\n",
       "Family       1.633854e+09\n",
       "Fantasy      8.022713e+09\n",
       "History      1.625677e+09\n",
       "Horror       1.470580e+07\n",
       "Music        6.757072e+08\n",
       "Musical      5.906195e+08\n",
       "Mystery      3.134103e+09\n",
       "Romance      2.263643e+09\n",
       "Sci-Fi       1.548841e+10\n",
       "Sport        5.058611e+08\n",
       "Thriller     6.881591e+09\n",
       "War          3.957106e+08\n",
       "Western      1.011694e+09\n",
       "Name: Total, dtype: float64"
      ]
     },
     "execution_count": 268,
     "metadata": {},
     "output_type": "execute_result"
    }
   ],
   "source": [
    "ans = df5.groupby('genre')['Total'].sum()\n",
    "ans"
   ]
  },
  {
   "cell_type": "code",
   "execution_count": 269,
   "metadata": {},
   "outputs": [],
   "source": [
    "title = ans[2:].index\n",
    "earn = ans[2:].values"
   ]
  },
  {
   "cell_type": "code",
   "execution_count": 271,
   "metadata": {},
   "outputs": [
    {
     "name": "stdout",
     "output_type": "stream",
     "text": [
      "Adventure 28.71\n",
      "Animation 8.24\n",
      "Biography 4.17\n",
      "Comedy 9.37\n",
      "Crime 1.89\n",
      "Drama 14.57\n",
      "Family 1.28\n",
      "Fantasy 6.28\n",
      "History 1.27\n",
      "Horror 0.01\n",
      "Music 0.53\n",
      "Musical 0.46\n",
      "Mystery 2.45\n",
      "Romance 1.77\n",
      "Sci-Fi 12.12\n",
      "Sport 0.40\n",
      "Thriller 5.38\n",
      "War 0.31\n",
      "Western 0.79\n"
     ]
    }
   ],
   "source": [
    "for i in range(0,len(title)):\n",
    "    print(title[i],format((earn[i]/earn.sum())*100,'.2f'))"
   ]
  },
  {
   "cell_type": "markdown",
   "metadata": {},
   "source": [
    "IMDB.sqlite' database contains all details of movies and has three tables with name IMDB, genre and earning.\n",
    "\n",
    "Find the movie which has genre of 'Sci-Fi' and 'Mystery' and movie rating is greater or equal to 8 from IMDB Movie Database.\n",
    "\n",
    "Print the movie name.\n",
    "\n",
    "Movies has multiple genre."
   ]
  },
  {
   "cell_type": "code",
   "execution_count": 281,
   "metadata": {},
   "outputs": [
    {
     "data": {
      "text/html": [
       "<div>\n",
       "<style scoped>\n",
       "    .dataframe tbody tr th:only-of-type {\n",
       "        vertical-align: middle;\n",
       "    }\n",
       "\n",
       "    .dataframe tbody tr th {\n",
       "        vertical-align: top;\n",
       "    }\n",
       "\n",
       "    .dataframe thead th {\n",
       "        text-align: right;\n",
       "    }\n",
       "</style>\n",
       "<table border=\"1\" class=\"dataframe\">\n",
       "  <thead>\n",
       "    <tr style=\"text-align: right;\">\n",
       "      <th></th>\n",
       "      <th>Movie_id</th>\n",
       "      <th>genre</th>\n",
       "      <th>Movie_id</th>\n",
       "      <th>Title</th>\n",
       "      <th>Rating</th>\n",
       "      <th>TotalVotes</th>\n",
       "      <th>MetaCritic</th>\n",
       "      <th>Budget</th>\n",
       "      <th>Runtime</th>\n",
       "      <th>CVotes10</th>\n",
       "      <th>...</th>\n",
       "      <th>Votes3044</th>\n",
       "      <th>Votes3044M</th>\n",
       "      <th>Votes3044F</th>\n",
       "      <th>Votes45A</th>\n",
       "      <th>Votes45AM</th>\n",
       "      <th>Votes45AF</th>\n",
       "      <th>VotesIMDB</th>\n",
       "      <th>Votes1000</th>\n",
       "      <th>VotesUS</th>\n",
       "      <th>VotesnUS</th>\n",
       "    </tr>\n",
       "  </thead>\n",
       "  <tbody>\n",
       "    <tr>\n",
       "      <th>0</th>\n",
       "      <td>36809</td>\n",
       "      <td>Biography</td>\n",
       "      <td>36809</td>\n",
       "      <td>12 Years a Slave (2013)</td>\n",
       "      <td>8.1</td>\n",
       "      <td>496092</td>\n",
       "      <td>96</td>\n",
       "      <td>20000000.0</td>\n",
       "      <td>134 min</td>\n",
       "      <td>75556</td>\n",
       "      <td>...</td>\n",
       "      <td>8.0</td>\n",
       "      <td>7.9</td>\n",
       "      <td>8.0</td>\n",
       "      <td>7.8</td>\n",
       "      <td>7.8</td>\n",
       "      <td>8.1</td>\n",
       "      <td>8.0</td>\n",
       "      <td>7.7</td>\n",
       "      <td>8.3</td>\n",
       "      <td>8.0</td>\n",
       "    </tr>\n",
       "    <tr>\n",
       "      <th>1</th>\n",
       "      <td>30114</td>\n",
       "      <td>Adventure</td>\n",
       "      <td>30114</td>\n",
       "      <td>127 Hours (2010)</td>\n",
       "      <td>7.6</td>\n",
       "      <td>297075</td>\n",
       "      <td>82</td>\n",
       "      <td>18000000.0</td>\n",
       "      <td>94 min</td>\n",
       "      <td>28939</td>\n",
       "      <td>...</td>\n",
       "      <td>7.5</td>\n",
       "      <td>7.5</td>\n",
       "      <td>7.5</td>\n",
       "      <td>7.3</td>\n",
       "      <td>7.3</td>\n",
       "      <td>7.5</td>\n",
       "      <td>7.6</td>\n",
       "      <td>7.0</td>\n",
       "      <td>7.7</td>\n",
       "      <td>7.6</td>\n",
       "    </tr>\n",
       "    <tr>\n",
       "      <th>2</th>\n",
       "      <td>37367</td>\n",
       "      <td>Comedy</td>\n",
       "      <td>37367</td>\n",
       "      <td>50/50 (2011)</td>\n",
       "      <td>7.7</td>\n",
       "      <td>283935</td>\n",
       "      <td>72</td>\n",
       "      <td>8000000.0</td>\n",
       "      <td>100 min</td>\n",
       "      <td>28304</td>\n",
       "      <td>...</td>\n",
       "      <td>7.6</td>\n",
       "      <td>7.6</td>\n",
       "      <td>7.6</td>\n",
       "      <td>7.4</td>\n",
       "      <td>7.4</td>\n",
       "      <td>7.5</td>\n",
       "      <td>7.4</td>\n",
       "      <td>7.0</td>\n",
       "      <td>7.9</td>\n",
       "      <td>7.6</td>\n",
       "    </tr>\n",
       "  </tbody>\n",
       "</table>\n",
       "<p>3 rows × 54 columns</p>\n",
       "</div>"
      ],
      "text/plain": [
       "  Movie_id      genre Movie_id                    Title  Rating  TotalVotes  \\\n",
       "0    36809  Biography    36809  12 Years a Slave (2013)     8.1      496092   \n",
       "1    30114  Adventure    30114         127 Hours (2010)     7.6      297075   \n",
       "2    37367     Comedy    37367             50/50 (2011)     7.7      283935   \n",
       "\n",
       "  MetaCritic      Budget  Runtime CVotes10  ... Votes3044 Votes3044M  \\\n",
       "0         96  20000000.0  134 min    75556  ...       8.0        7.9   \n",
       "1         82  18000000.0   94 min    28939  ...       7.5        7.5   \n",
       "2         72   8000000.0  100 min    28304  ...       7.6        7.6   \n",
       "\n",
       "  Votes3044F Votes45A Votes45AM Votes45AF VotesIMDB Votes1000 VotesUS VotesnUS  \n",
       "0        8.0      7.8       7.8       8.1       8.0       7.7     8.3      8.0  \n",
       "1        7.5      7.3       7.3       7.5       7.6       7.0     7.7      7.6  \n",
       "2        7.6      7.4       7.4       7.5       7.4       7.0     7.9      7.6  \n",
       "\n",
       "[3 rows x 54 columns]"
      ]
     },
     "execution_count": 281,
     "metadata": {},
     "output_type": "execute_result"
    }
   ],
   "source": [
    "df6 = pd.read_sql_query('select * from genre inner join IMDB on genre.Movie_id = IMDB.Movie_id',db)\n",
    "df6.head(3)"
   ]
  },
  {
   "cell_type": "code",
   "execution_count": 282,
   "metadata": {},
   "outputs": [],
   "source": [
    "df6 = df6[((df6['genre'] == 'Sci-Fi') & (df6['Rating'] >= 8)) | ((df6['genre'] == 'Mystery') & (df6['Rating'] >= 8))]"
   ]
  },
  {
   "cell_type": "code",
   "execution_count": 285,
   "metadata": {},
   "outputs": [
    {
     "name": "stdout",
     "output_type": "stream",
     "text": [
      "Shutter Island (2010)\n"
     ]
    }
   ],
   "source": [
    "print(df6['Title'].values[0] )"
   ]
  },
  {
   "cell_type": "code",
   "execution_count": 286,
   "metadata": {},
   "outputs": [
    {
     "name": "stdout",
     "output_type": "stream",
     "text": [
      "Arrival (2016)\n"
     ]
    }
   ],
   "source": [
    "data = pd.read_sql_query('Select * from IMDB join genre using(Movie_id)',db)\n",
    "data = data[((data[\"genre\"]=='Sci-Fi') & (data[\"Rating\"]>=8)) | ((data[\"genre\"]=='Mystery') & (data[\"Rating\"]>=8))]\n",
    "print(data['Title'].values[0] )"
   ]
  }
 ],
 "metadata": {
  "kernelspec": {
   "display_name": "Python 3",
   "language": "python",
   "name": "python3"
  },
  "language_info": {
   "codemirror_mode": {
    "name": "ipython",
    "version": 3
   },
   "file_extension": ".py",
   "mimetype": "text/x-python",
   "name": "python",
   "nbconvert_exporter": "python",
   "pygments_lexer": "ipython3",
   "version": "3.11.7"
  }
 },
 "nbformat": 4,
 "nbformat_minor": 2
}
