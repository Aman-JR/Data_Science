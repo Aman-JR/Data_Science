{
 "cells": [
  {
   "cell_type": "code",
   "execution_count": 50,
   "metadata": {},
   "outputs": [],
   "source": [
    "import selenium"
   ]
  },
  {
   "cell_type": "code",
   "execution_count": 51,
   "metadata": {},
   "outputs": [],
   "source": [
    "from selenium import webdriver"
   ]
  },
  {
   "cell_type": "code",
   "execution_count": 52,
   "metadata": {},
   "outputs": [],
   "source": [
    "link = \"https://artoftesting.com/samplesiteforselenium\""
   ]
  },
  {
   "cell_type": "code",
   "execution_count": 53,
   "metadata": {},
   "outputs": [],
   "source": [
    "driver = webdriver.Chrome()"
   ]
  },
  {
   "cell_type": "code",
   "execution_count": 54,
   "metadata": {},
   "outputs": [],
   "source": [
    "driver.get(link)"
   ]
  },
  {
   "cell_type": "markdown",
   "metadata": {},
   "source": [
    "#### LOCATING ELEMENTS\n",
    "1. ID : *'id'*\n",
    "2. NAME : 'name'\n",
    "3. XPATH : *copy xpath from website*\n",
    "4. LINK_TEXT : *'link text'*\n",
    "5. PARTIAL_LINK_TEXT : *'partial link text'*\n",
    "6. TAG_NAME : 'tag name'\n",
    "7. CLASS_NAME : *'class name'*\n",
    "8. CSS_SELECTOR"
   ]
  },
  {
   "cell_type": "code",
   "execution_count": 55,
   "metadata": {},
   "outputs": [
    {
     "data": {
      "text/plain": [
       "'This is sample text!'"
      ]
     },
     "execution_count": 55,
     "metadata": {},
     "output_type": "execute_result"
    }
   ],
   "source": [
    "# ID\n",
    "data = driver.find_element('id', \"idOfDiv\").text\n",
    "data"
   ]
  },
  {
   "cell_type": "code",
   "execution_count": 56,
   "metadata": {},
   "outputs": [],
   "source": [
    "# NAME\n",
    "driver.find_element('name','firstName').send_keys(\"Aman\")"
   ]
  },
  {
   "cell_type": "code",
   "execution_count": 57,
   "metadata": {},
   "outputs": [],
   "source": [
    "# XPATH\n",
    "path = \"/html/body/div[2]/div/div/main/article/div/div/div[1]/p[2]/input\"\n",
    "driver.find_element('xpath',path).send_keys(\"Aman\")"
   ]
  },
  {
   "cell_type": "code",
   "execution_count": 58,
   "metadata": {},
   "outputs": [
    {
     "data": {
      "text/plain": [
       "<selenium.webdriver.remote.webelement.WebElement (session=\"8c8957c25ff89e06390efd823a79eeca\", element=\"A8F466EF31BBA3446AFA9D5AD84533B6_element_48\")>"
      ]
     },
     "execution_count": 58,
     "metadata": {},
     "output_type": "execute_result"
    }
   ],
   "source": [
    "# LINK_PATH\n",
    "driver.find_element(\"link text\",\"This is a link\")"
   ]
  },
  {
   "cell_type": "code",
   "execution_count": 59,
   "metadata": {},
   "outputs": [
    {
     "data": {
      "text/plain": [
       "<selenium.webdriver.remote.webelement.WebElement (session=\"8c8957c25ff89e06390efd823a79eeca\", element=\"A8F466EF31BBA3446AFA9D5AD84533B6_element_48\")>"
      ]
     },
     "execution_count": 59,
     "metadata": {},
     "output_type": "execute_result"
    }
   ],
   "source": [
    "# PARTIAL LINK TEXT\n",
    "driver.find_element('partial link text', 'This is')"
   ]
  },
  {
   "cell_type": "code",
   "execution_count": 60,
   "metadata": {},
   "outputs": [
    {
     "data": {
      "text/plain": [
       "<selenium.webdriver.remote.webelement.WebElement (session=\"8c8957c25ff89e06390efd823a79eeca\", element=\"A8F466EF31BBA3446AFA9D5AD84533B6_element_50\")>"
      ]
     },
     "execution_count": 60,
     "metadata": {},
     "output_type": "execute_result"
    }
   ],
   "source": [
    "# TAG_NAME\n",
    "driver.find_element('tag name','p')"
   ]
  },
  {
   "cell_type": "code",
   "execution_count": 61,
   "metadata": {},
   "outputs": [
    {
     "data": {
      "text/plain": [
       "<selenium.webdriver.remote.webelement.WebElement (session=\"8c8957c25ff89e06390efd823a79eeca\", element=\"A8F466EF31BBA3446AFA9D5AD84533B6_element_51\")>"
      ]
     },
     "execution_count": 61,
     "metadata": {},
     "output_type": "execute_result"
    }
   ],
   "source": [
    "# Class Name\n",
    "driver.find_element('class name','yoast-schema-graph')"
   ]
  },
  {
   "cell_type": "markdown",
   "metadata": {},
   "source": [
    "#### GETTING DATA FORM THE WEBSITE"
   ]
  },
  {
   "cell_type": "code",
   "execution_count": 62,
   "metadata": {},
   "outputs": [],
   "source": [
    "import selenium\n",
    "from selenium import webdriver\n",
    "import pandas\n",
    "import time"
   ]
  },
  {
   "cell_type": "code",
   "execution_count": 63,
   "metadata": {},
   "outputs": [],
   "source": [
    "url = \"https://the-internet.herokuapp.com/tables\""
   ]
  },
  {
   "cell_type": "code",
   "execution_count": 64,
   "metadata": {},
   "outputs": [],
   "source": [
    "# Initializing the Chrome driver\n",
    "driver = webdriver.Chrome()"
   ]
  },
  {
   "cell_type": "code",
   "execution_count": 65,
   "metadata": {},
   "outputs": [],
   "source": [
    "# Opening the website on the web-Driver\n",
    "driver.get(url)"
   ]
  },
  {
   "cell_type": "code",
   "execution_count": 66,
   "metadata": {},
   "outputs": [],
   "source": [
    "# Getting table element\n",
    "table_elements = driver.find_element('id','table1')"
   ]
  },
  {
   "cell_type": "code",
   "execution_count": 67,
   "metadata": {},
   "outputs": [],
   "source": [
    "# Fetching the head element that has the text \"due\" in it.\n",
    "due_element = None\n",
    "for i in table_elements.find_elements('tag name','th'):\n",
    "    if i.text == 'Due':\n",
    "        due_element = i"
   ]
  },
  {
   "cell_type": "code",
   "execution_count": 68,
   "metadata": {},
   "outputs": [],
   "source": [
    "due_element.click()\n",
    "time.sleep(5)\n",
    "due_element.click()"
   ]
  },
  {
   "cell_type": "code",
   "execution_count": 69,
   "metadata": {},
   "outputs": [
    {
     "data": {
      "text/plain": [
       "['Last Name', 'First Name', 'Email', 'Due', 'Web Site', 'Action']"
      ]
     },
     "execution_count": 69,
     "metadata": {},
     "output_type": "execute_result"
    }
   ],
   "source": [
    "# Getting the column names\n",
    "column_Names = table_elements.find_element('tag name','thead')\n",
    "[i.text for i in column_Names.find_elements('tag name','th')]"
   ]
  },
  {
   "cell_type": "code",
   "execution_count": 70,
   "metadata": {},
   "outputs": [],
   "source": [
    "Table_row = (\n",
    "    table_elements\n",
    "    .find_element('tag name','tbody')\n",
    "    .find_elements('tag name','tr')\n",
    ")"
   ]
  },
  {
   "cell_type": "code",
   "execution_count": 71,
   "metadata": {},
   "outputs": [
    {
     "data": {
      "text/plain": [
       "['Doe Jason jdoe@hotmail.com $100.00 http://www.jdoe.com edit delete',\n",
       " 'Bach Frank fbach@yahoo.com $51.00 http://www.frank.com edit delete',\n",
       " 'Smith John jsmith@gmail.com $50.00 http://www.jsmith.com edit delete',\n",
       " 'Conway Tim tconway@earthlink.net $50.00 http://www.timconway.com edit delete']"
      ]
     },
     "execution_count": 71,
     "metadata": {},
     "output_type": "execute_result"
    }
   ],
   "source": [
    "[i.text for i in Table_row]"
   ]
  },
  {
   "cell_type": "markdown",
   "metadata": {},
   "source": [
    "#### IMPLICIT WAIT:\n",
    "- Global wait for all elements\n",
    "- Suitable for consistent delay in element loading\n",
    "\n",
    "#### EXPLICIT WAIT:\n",
    "- Specific to a condition or element\n",
    "- Wait for specific conditions to be met."
   ]
  },
  {
   "cell_type": "code",
   "execution_count": 72,
   "metadata": {},
   "outputs": [],
   "source": [
    "import selenium\n",
    "from selenium.webdriver.support import expected_conditions as ec\n",
    "from selenium.webdriver.support.wait import WebDriverWait\n",
    "from selenium import webdriver\n",
    "import time\n"
   ]
  },
  {
   "cell_type": "code",
   "execution_count": 73,
   "metadata": {},
   "outputs": [],
   "source": [
    "driver = webdriver.Chrome()"
   ]
  },
  {
   "cell_type": "code",
   "execution_count": 74,
   "metadata": {},
   "outputs": [],
   "source": [
    "url = \"https://chercher.tech/practice/explicit-wait-sample-selenium-webdriver\"\n",
    "driver.get(url)"
   ]
  },
  {
   "cell_type": "code",
   "execution_count": 75,
   "metadata": {},
   "outputs": [],
   "source": [
    "hidden = driver.find_element('id','hidden')"
   ]
  },
  {
   "cell_type": "code",
   "execution_count": 76,
   "metadata": {},
   "outputs": [
    {
     "name": "stdout",
     "output_type": "stream",
     "text": [
      "can't be Clickable\n"
     ]
    }
   ],
   "source": [
    "if hidden.is_displayed():\n",
    "    print(\"clickable\")\n",
    "else:\n",
    "    print(\"can't be Clickable\")"
   ]
  },
  {
   "cell_type": "code",
   "execution_count": 77,
   "metadata": {},
   "outputs": [],
   "source": [
    "# Implicit wait\n",
    "driver.implicitly_wait(12)\n",
    "driver.find_element('id',\"display-other-button\").click()\n",
    "time.sleep(12)"
   ]
  },
  {
   "cell_type": "code",
   "execution_count": 78,
   "metadata": {},
   "outputs": [
    {
     "name": "stdout",
     "output_type": "stream",
     "text": [
      "clickable\n"
     ]
    }
   ],
   "source": [
    "if hidden.is_displayed():\n",
    "    print(\"clickable\")\n",
    "else:\n",
    "    print(\"can't be Clickable\")"
   ]
  },
  {
   "cell_type": "code",
   "execution_count": 79,
   "metadata": {},
   "outputs": [],
   "source": [
    "# Explicit wait\n",
    "WebDriverWait(driver, 20).until(\n",
    "    ec.visibility_of(driver.find_element('id','hidden'))\n",
    ").click()"
   ]
  },
  {
   "cell_type": "markdown",
   "metadata": {},
   "source": [
    "#### TYPING IN THE FIELDS"
   ]
  },
  {
   "cell_type": "code",
   "execution_count": 91,
   "metadata": {},
   "outputs": [],
   "source": [
    "import selenium\n",
    "from selenium import webdriver\n",
    "from selenium.webdriver.common.keys import Keys"
   ]
  },
  {
   "cell_type": "code",
   "execution_count": 92,
   "metadata": {},
   "outputs": [],
   "source": [
    "driver = webdriver.Chrome()"
   ]
  },
  {
   "cell_type": "code",
   "execution_count": 93,
   "metadata": {},
   "outputs": [],
   "source": [
    "url = \"https://www.google.com/\"\n",
    "driver.get(url)"
   ]
  },
  {
   "cell_type": "code",
   "execution_count": 94,
   "metadata": {},
   "outputs": [],
   "source": [
    "element = driver.find_element('id','APjFqb')"
   ]
  },
  {
   "cell_type": "code",
   "execution_count": 95,
   "metadata": {},
   "outputs": [],
   "source": [
    "element.send_keys('Football')"
   ]
  },
  {
   "cell_type": "code",
   "execution_count": 98,
   "metadata": {},
   "outputs": [],
   "source": [
    "element.send_keys(Keys.ENTER)"
   ]
  },
  {
   "cell_type": "markdown",
   "metadata": {},
   "source": [
    "#### WORKING WITH FORM ELEMENTS"
   ]
  },
  {
   "cell_type": "code",
   "execution_count": 99,
   "metadata": {},
   "outputs": [],
   "source": [
    "from selenium.webdriver.support.select import Select\n",
    "from selenium import webdriver\n",
    "import time"
   ]
  },
  {
   "cell_type": "code",
   "execution_count": 100,
   "metadata": {},
   "outputs": [],
   "source": [
    "driver = webdriver.Chrome()"
   ]
  },
  {
   "cell_type": "code",
   "execution_count": 101,
   "metadata": {},
   "outputs": [],
   "source": [
    "driver.get('https://artoftesting.com/samplesiteforselenium')"
   ]
  },
  {
   "cell_type": "code",
   "execution_count": 106,
   "metadata": {},
   "outputs": [],
   "source": [
    "# Radio Button\n",
    "radio_male = None\n",
    "for i in driver.find_elements('tag name','input'):\n",
    "    if i.get_attribute('type') == 'radio':\n",
    "        if i.get_attribute('value') == 'male':\n",
    "            radio_male = i\n",
    "\n",
    "    # print(i.get_attribute('type'))"
   ]
  },
  {
   "cell_type": "code",
   "execution_count": 107,
   "metadata": {},
   "outputs": [],
   "source": [
    "radio_male.click()"
   ]
  },
  {
   "cell_type": "code",
   "execution_count": 108,
   "metadata": {},
   "outputs": [],
   "source": [
    "# Check Box\n",
    "Performance_checkbox = None\n",
    "Automation_checkbox = None\n",
    "for i in driver.find_elements('tag name','input'):\n",
    "    if i.get_attribute('type') == 'checkbox':\n",
    "        if i.get_attribute('value') == 'Performance':\n",
    "            Performance_checkbox = i\n",
    "            Performance_checkbox.click()\n",
    "        else:\n",
    "            Automation_checkbox = i\n",
    "            Automation_checkbox.click()\n"
   ]
  },
  {
   "cell_type": "code",
   "execution_count": 140,
   "metadata": {},
   "outputs": [],
   "source": [
    "# Drop Down\n",
    "driver.find_element('tag name','select').click()"
   ]
  },
  {
   "cell_type": "code",
   "execution_count": 142,
   "metadata": {},
   "outputs": [
    {
     "data": {
      "text/plain": [
       "<selenium.webdriver.support.select.Select at 0x16cc14c2510>"
      ]
     },
     "execution_count": 142,
     "metadata": {},
     "output_type": "execute_result"
    }
   ],
   "source": [
    "select_instance = Select(driver.find_element('tag name','select'))\n",
    "select_instance"
   ]
  },
  {
   "cell_type": "code",
   "execution_count": 143,
   "metadata": {},
   "outputs": [
    {
     "name": "stdout",
     "output_type": "stream",
     "text": [
      "Automation Testing Automation\n",
      "Performance Testing Performance\n",
      "Manual Testing Manual\n",
      "Database Testing Database\n"
     ]
    }
   ],
   "source": [
    "for i in select_instance.options:\n",
    "    print(i.text, i.get_attribute(\"value\"))"
   ]
  },
  {
   "cell_type": "code",
   "execution_count": 146,
   "metadata": {},
   "outputs": [],
   "source": [
    "select_instance.select_by_index(3)"
   ]
  },
  {
   "cell_type": "code",
   "execution_count": 157,
   "metadata": {},
   "outputs": [],
   "source": []
  },
  {
   "cell_type": "code",
   "execution_count": 164,
   "metadata": {},
   "outputs": [],
   "source": []
  },
  {
   "cell_type": "code",
   "execution_count": 165,
   "metadata": {},
   "outputs": [],
   "source": []
  },
  {
   "cell_type": "markdown",
   "metadata": {},
   "source": []
  }
 ],
 "metadata": {
  "kernelspec": {
   "display_name": "Python 3",
   "language": "python",
   "name": "python3"
  },
  "language_info": {
   "codemirror_mode": {
    "name": "ipython",
    "version": 3
   },
   "file_extension": ".py",
   "mimetype": "text/x-python",
   "name": "python",
   "nbconvert_exporter": "python",
   "pygments_lexer": "ipython3",
   "version": "3.11.7"
  }
 },
 "nbformat": 4,
 "nbformat_minor": 2
}
