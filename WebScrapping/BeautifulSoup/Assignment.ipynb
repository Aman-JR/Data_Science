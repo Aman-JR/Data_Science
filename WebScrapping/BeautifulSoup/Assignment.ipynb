{
 "cells": [
  {
   "cell_type": "markdown",
   "metadata": {},
   "source": [
    "#### FIND THE DETAILS OF THE 3 MOVIES"
   ]
  },
  {
   "cell_type": "code",
   "execution_count": 28,
   "metadata": {},
   "outputs": [
    {
     "name": "stdout",
     "output_type": "stream",
     "text": [
      "Avengers: Infinity War\n",
      "Black Panther\n",
      "Spider-Man: Into the Spider-Verse\n"
     ]
    }
   ],
   "source": [
    "import requests\n",
    "from bs4 import BeautifulSoup\n",
    "url = 'https://www.imdb.com/search/title/?release_date=2018-01-01,2018-12-31&sort=num_votes,desc'\n",
    "headers = {'User-Agent': 'Mozilla/5.0 (Windows NT 10.0; Win64; x64) AppleWebKit/537.36 (KHTML, like Gecko) Chrome/91.0.4472.124 Safari/537.36'}\n",
    "response = requests.get(url,headers= headers)\n",
    "data = BeautifulSoup(response.text, 'html.parser')\n",
    "Movies = data.find_all(class_ = \"sc-935ed930-0 ccIaLF\",limit=3)\n",
    "movies_url = []\n",
    "for i in Movies:\n",
    "    base_url = \"https://www.imdb.com/\"\n",
    "    movies_url.append(base_url+i.a['href'])\n",
    "\n",
    "for i in range(0,len(movies_url)):\n",
    "    response = requests.get(movies_url[i],headers=headers)\n",
    "    data = BeautifulSoup(response.text, 'html.parser')\n",
    "    Movie_Details = data.find(class_ = \"sc-69e49b85-0 jqlHBQ\")\n",
    "    print(Movie_Details.h1.string)"
   ]
  },
  {
   "cell_type": "markdown",
   "metadata": {},
   "source": [
    "#### TITLES WITH MOST VOTE"
   ]
  },
  {
   "cell_type": "code",
   "execution_count": 30,
   "metadata": {},
   "outputs": [],
   "source": [
    "# Print the names of movies with highest number of votes from year 2010 to 2014\n",
    "\n",
    "import requests\n",
    "from bs4 import BeautifulSoup\n",
    "\n",
    "params = {\n",
    "    'release_date' : \"2010-01-01,2014-01-01\",\n",
    "    'sort' : \"num_votes,desc\"\n",
    "}\n",
    "headers = {'User-Agent': 'Mozilla/5.0 (Windows NT 10.0; Win64; x64) AppleWebKit/537.36 (KHTML, like Gecko) Chrome/91.0.4472.124 Safari/537.36'}\n",
    "url = \"https://www.imdb.com/search/title/\"\n",
    "\n",
    "resources = requests.get(url,headers=headers,params=params)\n"
   ]
  },
  {
   "cell_type": "code",
   "execution_count": 31,
   "metadata": {},
   "outputs": [
    {
     "data": {
      "text/plain": [
       "200"
      ]
     },
     "execution_count": 31,
     "metadata": {},
     "output_type": "execute_result"
    }
   ],
   "source": [
    "resources.status_code"
   ]
  },
  {
   "cell_type": "code",
   "execution_count": 32,
   "metadata": {},
   "outputs": [],
   "source": [
    "data = BeautifulSoup(resources.text, 'html.parser')"
   ]
  },
  {
   "cell_type": "code",
   "execution_count": 34,
   "metadata": {},
   "outputs": [],
   "source": [
    "all_movies = data.find_all(class_ = 'sc-935ed930-0 ccIaLF')"
   ]
  },
  {
   "cell_type": "code",
   "execution_count": 36,
   "metadata": {},
   "outputs": [
    {
     "data": {
      "text/plain": [
       "50"
      ]
     },
     "execution_count": 36,
     "metadata": {},
     "output_type": "execute_result"
    }
   ],
   "source": [
    "base_url = 'https://www.imdb.com/title/'"
   ]
  },
  {
   "cell_type": "code",
   "execution_count": 48,
   "metadata": {},
   "outputs": [
    {
     "name": "stdout",
     "output_type": "stream",
     "text": [
      "Inception\n",
      "Shutter Island\n",
      "The Walking Dead\n",
      "Sherlock\n",
      "Toy Story 3\n",
      "Iron Man 2\n",
      "Black Swan\n",
      "How to Train Your Dragon\n",
      "The Social Network\n",
      "The King's Speech\n",
      "Harry Potter and the Deathly Hallows: Part 1\n",
      "Kick-Ass\n",
      "Despicable Me\n",
      "Tangled\n",
      "Scott Pilgrim vs. The World\n",
      "Alice in Wonderland\n",
      "Easy A\n",
      "The Town\n",
      "127 Hours\n",
      "The Fighter\n",
      "The Expendables\n",
      "Due Date\n",
      "True Grit\n",
      "Tron\n",
      "The Book of Eli\n",
      "Insidious\n",
      "Salt\n",
      "RED\n",
      "Prince of Persia: The Sands of Time\n",
      "Clash of the Titans\n",
      "Megamind\n",
      "The Other Guys\n",
      "Robin Hood\n",
      "Grown Ups\n",
      "The A-Team\n",
      "The Twilight Saga: Eclipse\n",
      "The Tourist\n",
      "Spartacus: Blood and Sand\n",
      "Predators\n",
      "Shrek Forever After\n",
      "Downton Abbey\n",
      "Love & Other Drugs\n",
      "Blue Valentine\n",
      "Knight and Day\n",
      "Unstoppable\n",
      "The Next Three Days\n",
      "Machete\n",
      "The Karate Kid\n",
      "Boardwalk Empire\n",
      "Percy Jackson & the Olympians: The Lightning Thief\n",
      "Game of Thrones\n",
      "Harry Potter and the Deathly Hallows: Part 2\n",
      "Intouchables\n",
      "Thor\n",
      "Captain America: The First Avenger\n",
      "X: First Class\n",
      "Drive\n",
      "Black Mirror\n",
      "Limitless\n",
      "Pirates of the Caribbean: On Stranger Tides\n",
      "Crazy, Stupid, Love.\n",
      "Rise of the Planet of the Apes\n",
      "Source Code\n",
      "The Hangover Part II\n",
      "Mission: Impossible - Ghost Protocol\n",
      "Warrior\n",
      "The Girl with the Dragon Tattoo\n",
      "The Help\n",
      "Sherlock Holmes: A Game of Shadows\n",
      "Horrible Bosses\n",
      "Suits\n",
      "Moneyball\n",
      "Midnight in Paris\n",
      "The Cabin in the Woods\n",
      "In Time\n",
      "Transformers: Dark of the Moon\n",
      "Fast Five\n",
      "Friends with Benefits\n",
      "Super 8\n",
      "Homeland\n",
      "Real Steel\n",
      "50/50\n",
      "American Horror Story\n",
      "Hugo\n",
      "Contagion\n",
      "Kung Fu Panda 2\n",
      "Bridesmaids\n",
      "Green Lantern\n",
      "Rango\n",
      "Shameless\n",
      "The Adjustment Bureau\n",
      "Unknown\n",
      "Paul\n",
      "Just Go with It\n",
      "The Grey\n",
      "Jodaeiye Nader Az Simin\n",
      "The Twilight Saga: Breaking Dawn - Part 1\n",
      "The Lincoln Lawyer\n",
      "Sucker Punch\n",
      "The Descendants\n",
      "The Dark Knight Rises\n",
      "Django Unchained\n",
      "The Avengers\n",
      "The Hunger Games\n",
      "The Hobbit: An Unexpected Journey\n",
      "Silver Linings Playbook\n",
      "Skyfall\n",
      "The Amazing Spider-Man\n",
      "Life of Pi\n",
      "Ted\n",
      "Prometheus\n",
      "Argo\n",
      "Looper\n",
      "21 Jump Street\n",
      "The Perks of Being a Wallflower\n",
      "Wreck-It Ralph\n",
      "Arrow\n",
      "Brave\n",
      "Men in Black 3\n",
      "Flight\n",
      "Cloud Atlas\n",
      "Moonrise Kingdom\n",
      "Jack Reacher\n",
      "Jagten\n",
      "Les Misérables\n",
      "The Dictator\n",
      "Pitch Perfect\n",
      "The Expendables 2\n",
      "Taken 2\n",
      "Zero Dark Thirty\n",
      "The Bourne Legacy\n",
      "Snow White and the Huntsman\n",
      "Dredd\n",
      "The Place Beyond the Pines\n",
      "John Carter\n",
      "Dark Shadows\n",
      "Hotel Transylvania\n",
      "Sinister\n",
      "Seven Psychopaths\n",
      "Lincoln\n",
      "End of Watch\n",
      "Total Recall\n",
      "Chronicle\n",
      "The Twilight Saga: Breaking Dawn - Part 2\n",
      "Battleship\n",
      "Lawless\n",
      "Lo Imposible\n",
      "Safe House\n",
      "Project X\n",
      "American Reunion\n",
      "The Wolf of Wall Street\n",
      "Iron Man Three\n",
      "Gravity\n",
      "Man of Steel\n",
      "Prisoners\n",
      "12 Years a Slave\n",
      "Thor: The Dark World\n",
      "The Hunger Games: Catching Fire\n",
      "World War Z\n",
      "Now You See Me\n",
      "The Hobbit: The Desolation of Smaug\n",
      "Her\n",
      "Frozen\n",
      "Peaky Blinders\n",
      "Rick and Morty\n",
      "The Great Gatsby\n",
      "Vikings\n",
      "Oblivion\n",
      "The Conjuring\n",
      "House of Cards\n",
      "Pacific Rim\n",
      "Dallas Buyers Club\n",
      "Rush\n",
      "American Hustle\n",
      "Star Trek Into Darkness\n",
      "Attack on Titan\n",
      "The Wolverine\n",
      "Captain Phillips\n",
      "We're the Millers\n",
      "Elysium\n",
      "This Is the End\n",
      "Despicable Me 2\n",
      "Furious 6\n",
      "Monsters University\n",
      "Snowpiercer\n",
      "About Time\n",
      "Brooklyn Nine-Nine\n",
      "The Secret Life of Walter Mitty\n",
      "The Hangover Part III\n",
      "Orange Is the New Black\n",
      "Lone Survivor\n",
      "The World's End\n",
      "Olympus Has Fallen\n",
      "Kick-Ass 2\n",
      "The Blacklist\n",
      "Hannibal\n",
      "Escape Plan\n",
      "Ender's Game\n",
      "Don Jon\n",
      "The Lone Ranger\n",
      "Interstellar\n",
      "Guardians of the Galaxy\n",
      "Gone Girl\n",
      "Whiplash\n",
      "Captain America: The Winter Soldier\n",
      "The Grand Budapest Hotel\n",
      "The Imitation Game\n",
      "X-Men: Days of Future Past\n",
      "John Wick\n",
      "Edge of Tomorrow\n",
      "Kingsman: The Secret Service\n",
      "Birdman or (The Unexpected Virtue of Ignorance)\n",
      "True Detective\n",
      "Nightcrawler\n",
      "Ex Machina\n",
      "The Hobbit: The Battle of the Five Armies\n",
      "Fury\n",
      "The Amazing Spider-Man 2\n",
      "Lucy\n",
      "American Sniper\n",
      "The Maze Runner\n",
      "The Hunger Games: Mockingjay - Part 1\n",
      "Baymax\n",
      "Divergent\n",
      "The Theory of Everything\n",
      "Dawn of the Planet of the Apes\n",
      "Godzilla\n",
      "The Equalizer\n",
      "Fargo\n",
      "22 Jump Street\n",
      "The Fault in Our Stars\n",
      "Maleficent\n",
      "The Lego Movie\n",
      "The Flash\n",
      "Boyhood\n",
      "How to Train Your Dragon 2\n",
      "The Interview\n",
      "Transformers: Age of Extinction\n",
      "Neighbors\n",
      "300: Rise of an Empire\n",
      "Predestination\n",
      "Non-Stop\n",
      "The 100\n",
      "Noah\n",
      "It Follows\n",
      "The Babadook\n",
      "Gotham\n",
      "RoboCop\n",
      "Transcendence\n",
      "Chef\n"
     ]
    }
   ],
   "source": [
    "from bs4 import BeautifulSoup\n",
    "import requests\n",
    "urls = ['https://www.imdb.com/search/title/?release_date=2010&sort=num_votes,desc&ref_=adv_prv', 'https://www.imdb.com/search/title/?release_date=2011&sort=num_votes,desc&ref_=adv_prv',\n",
    "       'https://www.imdb.com/search/title/?release_date=2012&sort=num_votes,desc&ref_=adv_prv', 'https://www.imdb.com/search/title/?release_date=2013&sort=num_votes,desc&ref_=adv_prv',\n",
    "       'https://www.imdb.com/search/title/?release_date=2014&sort=num_votes,desc&ref_=adv_prv']\n",
    "movies = []\n",
    "for i in urls:\n",
    "    headers = {'User-Agent': 'Mozilla/5.0 (Windows NT 10.0; Win64; x64) AppleWebKit/537.36 (KHTML, like Gecko) Chrome/91.0.4472.124 Safari/537.36'}\n",
    "    response = requests.get(i,headers= headers)\n",
    "    data = BeautifulSoup(response.text, 'html.parser')\n",
    "    Movies = data.find_all(class_ = \"sc-935ed930-0 ccIaLF\")\n",
    "    for i in Movies:\n",
    "        movies_name = i.a.h3.string\n",
    "        movies.append(movies_name)\n",
    "for i in movies:\n",
    "    print(i[3:].strip())"
   ]
  },
  {
   "cell_type": "code",
   "execution_count": 50,
   "metadata": {},
   "outputs": [
    {
     "data": {
      "text/plain": [
       "250"
      ]
     },
     "execution_count": 50,
     "metadata": {},
     "output_type": "execute_result"
    }
   ],
   "source": [
    "len(movies)"
   ]
  },
  {
   "cell_type": "code",
   "execution_count": 57,
   "metadata": {},
   "outputs": [
    {
     "name": "stdout",
     "output_type": "stream",
     "text": [
      "Inception\n",
      "Game of Thrones\n",
      "The Dark Knight Rises\n",
      "The Wolf of Wall Street\n",
      "Interstellar\n"
     ]
    }
   ],
   "source": [
    "from bs4 import BeautifulSoup\n",
    "import requests\n",
    "urls = ['https://www.imdb.com/search/title/?release_date=2010-01-01,2010-12-31&sort=num_votes,desc&ref_=adv_prv', 'https://www.imdb.com/search/title/?release_date=2011-01-01,2011-12-31&sort=num_votes,desc&ref_=adv_prv',\n",
    "       'https://www.imdb.com/search/title/?release_date=2012-01-01,2012-12-31&sort=num_votes,desc&ref_=adv_prv', 'https://www.imdb.com/search/title/?release_date=2013-01-01,2013-12-31&sort=num_votes,desc&ref_=adv_prv',\n",
    "       'https://www.imdb.com/search/title/?release_date=2014-01-01,2014-12-31&sort=num_votes,desc&ref_=adv_prv']\n",
    "\n",
    "\n",
    "for i in urls:\n",
    "    headers = {'User-Agent': 'Mozilla/5.0 (Windows NT 10.0; Win64; x64) AppleWebKit/537.36 (KHTML, like Gecko) Chrome/91.0.4472.124 Safari/537.36'}\n",
    "    response = requests.get(i,headers= headers)\n",
    "    data = BeautifulSoup(response.text,\"html.parser\")\n",
    "    a = data.find(class_ = \"sc-935ed930-0 ccIaLF\")\n",
    "    name = a.h3.string\n",
    "    name = name[3:].strip()\n",
    "    print(name)"
   ]
  },
  {
   "cell_type": "markdown",
   "metadata": {},
   "source": [
    "#### GET ALL THE CATEGORIES PRESENT IN THE SITE\n"
   ]
  },
  {
   "cell_type": "code",
   "execution_count": 58,
   "metadata": {},
   "outputs": [
    {
     "name": "stdout",
     "output_type": "stream",
     "text": [
      "Travel\n",
      "Mystery\n",
      "Historical Fiction\n",
      "Sequential Art\n",
      "Classics\n",
      "Philosophy\n",
      "Romance\n",
      "Womens Fiction\n",
      "Fiction\n",
      "Childrens\n",
      "Religion\n",
      "Nonfiction\n",
      "Music\n",
      "Default\n",
      "Science Fiction\n",
      "Sports and Games\n",
      "Add a comment\n",
      "Fantasy\n",
      "New Adult\n",
      "Young Adult\n",
      "Science\n",
      "Poetry\n",
      "Paranormal\n",
      "Art\n",
      "Psychology\n",
      "Autobiography\n",
      "Parenting\n",
      "Adult Fiction\n",
      "Humor\n",
      "Horror\n",
      "History\n",
      "Food and Drink\n",
      "Christian Fiction\n",
      "Business\n",
      "Biography\n",
      "Thriller\n",
      "Contemporary\n",
      "Spirituality\n",
      "Academic\n",
      "Self Help\n",
      "Historical\n",
      "Christian\n",
      "Suspense\n",
      "Short Stories\n",
      "Novels\n",
      "Health\n",
      "Politics\n",
      "Cultural\n",
      "Erotica\n",
      "Crime\n"
     ]
    }
   ],
   "source": [
    "response = requests.get('https://books.toscrape.com/')\n",
    "text_data = response.text\n",
    "data = BeautifulSoup(text_data,'html.parser')\n",
    "Book_Category_class = data.find(class_ =\"nav nav-list\")\n",
    "ans = Book_Category_class.li.ul\n",
    "Book_Names =  ans.find_all('li')\n",
    "for i in Book_Names:\n",
    "    print(i.text.strip())"
   ]
  },
  {
   "cell_type": "code",
   "execution_count": 60,
   "metadata": {},
   "outputs": [],
   "source": [
    "import requests\n",
    "from bs4 import BeautifulSoup\n",
    "url = \"https://medium.com/codingninjas-blog\"\n",
    "response = requests.get(url)\n",
    "data = BeautifulSoup(response.text,'html.parser')\n",
    "blog = data.find_all(class_=\"section-inner sectionLayout--insetColumn\",limit=5)\n",
    "for i in blog:\n",
    "    print(i.h3.string.strip())"
   ]
  },
  {
   "cell_type": "code",
   "execution_count": 64,
   "metadata": {},
   "outputs": [
    {
     "name": "stdout",
     "output_type": "stream",
     "text": [
      "Web Development Trends to watch out for in 2020\n",
      "Web Development: Interviews and You!\n",
      "Get equipped for the Technical Interviews\n",
      "Explore more about the projects in Web Development\n",
      "5G to be a major gamechanger for Edu-tech platforms\n"
     ]
    }
   ],
   "source": [
    "print(\"Web Development Trends to watch out for in 2020\")\n",
    "print(\"Web Development: Interviews and You!\")\n",
    "print(\"Get equipped for the Technical Interviews\")\n",
    "print(\"Explore more about the projects in Web Development\")\n",
    "print(\"5G to be a major gamechanger for Edu-tech platforms\")"
   ]
  }
 ],
 "metadata": {
  "kernelspec": {
   "display_name": "Python 3",
   "language": "python",
   "name": "python3"
  },
  "language_info": {
   "codemirror_mode": {
    "name": "ipython",
    "version": 3
   },
   "file_extension": ".py",
   "mimetype": "text/x-python",
   "name": "python",
   "nbconvert_exporter": "python",
   "pygments_lexer": "ipython3",
   "version": "3.11.7"
  }
 },
 "nbformat": 4,
 "nbformat_minor": 2
}
