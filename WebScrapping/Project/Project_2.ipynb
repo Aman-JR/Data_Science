{
 "cells": [
  {
   "cell_type": "code",
   "execution_count": 2,
   "metadata": {},
   "outputs": [],
   "source": [
    "import selenium\n",
    "from selenium import webdriver\n",
    "from bs4 import BeautifulSoup\n",
    "from selenium.webdriver.support.wait import WebDriverWait\n",
    "from selenium.webdriver.support import expected_conditions as ec\n",
    "from selenium.webdriver.common.by import By\n",
    "\n",
    "from selenium.webdriver.chrome.options import Options\n",
    "import time\n",
    "import json"
   ]
  },
  {
   "cell_type": "code",
   "execution_count": 3,
   "metadata": {},
   "outputs": [],
   "source": [
    "link = \"https://www.instagram.com/\""
   ]
  },
  {
   "cell_type": "code",
   "execution_count": 4,
   "metadata": {},
   "outputs": [],
   "source": [
    "# Disable Chrome Browser Notification\n",
    "option = Options()\n",
    "option.add_argument(\"start-maximized\")"
   ]
  },
  {
   "cell_type": "code",
   "execution_count": 5,
   "metadata": {},
   "outputs": [
    {
     "name": "stderr",
     "output_type": "stream",
     "text": [
      "The chromedriver version (122.0.6261.94) detected in PATH at c:\\Users\\Aman\\Documents\\GitHub\\Data_Science\\WebScrapping\\Project\\chromedriver.exe might not be compatible with the detected chrome version (123.0.6312.86); currently, chromedriver 123.0.6312.86 is recommended for chrome 123.*, so it is advised to delete the driver in PATH and retry\n"
     ]
    }
   ],
   "source": [
    "driver = webdriver.Chrome(options = option)\n",
    "driver.get(link)"
   ]
  },
  {
   "cell_type": "markdown",
   "metadata": {},
   "source": [
    "#### LOGIN INTO THE INSTAGRAM ACCOUNT"
   ]
  },
  {
   "cell_type": "code",
   "execution_count": null,
   "metadata": {},
   "outputs": [],
   "source": [
    "# Login into the instagram account\n",
    "UserName = WebDriverWait(driver, 10).until(\n",
    "    ec.presence_of_element_located((By.XPATH,'/html/body/div[2]/div/div/div[2]/div/div/div[1]/section/main/article/div[2]/div[1]/div[2]/form/div/div[1]/div/label/input'))\n",
    ")\n",
    "Password = WebDriverWait(driver, 10).until(\n",
    "    ec.presence_of_element_located((By.XPATH,'/html/body/div[2]/div/div/div[2]/div/div/div[1]/section/main/article/div[2]/div[1]/div[2]/form/div/div[2]/div/label/input'))\n",
    ")\n",
    "\n",
    "UserName.send_keys(\"************\")\n",
    "Password.send_keys(\"************\")\n",
    "\n",
    "ClickLogIn = WebDriverWait(driver, 10).until(\n",
    "    ec.presence_of_element_located((By.XPATH,'/html/body/div[2]/div/div/div[2]/div/div/div[1]/section/main/article/div[2]/div[1]/div[2]/form/div/div[3]'))\n",
    ").click()\n",
    "\n",
    "time.sleep(5)"
   ]
  },
  {
   "cell_type": "code",
   "execution_count": 7,
   "metadata": {},
   "outputs": [],
   "source": [
    "clickNotNow = WebDriverWait(driver,10).until(\n",
    "    ec.presence_of_element_located((By.XPATH,'/html/body/div[2]/div/div/div[2]/div/div/div[1]/div[1]/div[2]/section/main/div/div/div/div/div'))\n",
    ").click()\n",
    "time.sleep(2)\n"
   ]
  },
  {
   "cell_type": "code",
   "execution_count": 8,
   "metadata": {},
   "outputs": [],
   "source": [
    "NotTurningTheNotification = WebDriverWait(driver, 10).until(\n",
    "    ec.presence_of_element_located((By.XPATH,'/html/body/div[3]/div[1]/div/div[2]/div/div/div/div/div[2]/div/div/div[3]/button[2]'))\n",
    ").click()"
   ]
  },
  {
   "cell_type": "markdown",
   "metadata": {},
   "source": [
    "##### From the list of instagram handles you obtained when you searched 'food' in previous project. Open the first 10 handles and find the top 5 which have the highest number of followers"
   ]
  },
  {
   "cell_type": "code",
   "execution_count": 61,
   "metadata": {},
   "outputs": [
    {
     "data": {
      "text/plain": [
       "{'foodie_incarnate': '2M',\n",
       " 'foodiesince96': '336K',\n",
       " 'foodpharmer': '1.9M',\n",
       " 'foodrooaster': '347K',\n",
       " 'foodiee_ishh': '14.8K',\n",
       " 'dehradunfoodguide': '1338',\n",
       " 'food': '2M',\n",
       " '_foodie_from_dun': '8318',\n",
       " 'ghumakkad___foodie': '8318',\n",
       " 'chatori_anshiiiiiii': '5582'}"
      ]
     },
     "execution_count": 61,
     "metadata": {},
     "output_type": "execute_result"
    }
   ],
   "source": [
    "SearchButton = WebDriverWait(driver, 10).until(\n",
    "    ec.presence_of_element_located((By.XPATH,'/html/body/div[2]/div/div/div[2]/div/div/div[1]/div[1]/div[1]/div/div/div/div/div[2]/div[2]/span/div/a/div'))\n",
    ").click()\n",
    "time.sleep(1)\n",
    "searchDetail = WebDriverWait(driver, 10).until(\n",
    "    ec.presence_of_element_located((By.XPATH,'/html/body/div[2]/div/div/div[2]/div/div/div[1]/div[1]/div[1]/div/div/div[2]/div/div/div[2]/div/div/div[1]/div/div/input'))\n",
    ")\n",
    "searchDetail.send_keys('food')\n",
    "time.sleep(3)\n",
    "# Getting all the instagram handel\n",
    "data = WebDriverWait(driver,10).until(\n",
    "    ec.presence_of_element_located((By.XPATH,'/html/body/div[2]/div/div/div[2]/div/div/div[1]/div[1]/div[1]/div/div/div[2]/div/div/div[2]/div/div/div[2]/div'))\n",
    ")\n",
    "InstagramHandel = []\n",
    "for i in data.find_elements('tag name','a'):\n",
    "    name = i.text.split('\\n')[0]\n",
    "    if name == \"\":\n",
    "        continue\n",
    "    elif name[0] == '#':\n",
    "        continue\n",
    "    InstagramHandel.append(name)\n",
    "InstagramHandel = InstagramHandel[:10]\n",
    "Dictionary = {}\n",
    "time.sleep(4)\n",
    "GoingHomePage = WebDriverWait(driver,10).until(\n",
    "    ec.presence_of_element_located((By.XPATH,'/html/body/div[2]/div/div/div[2]/div/div/div[1]/div[1]/div[1]/div/div/div/div/div[2]/div[1]/div/span/div/a/div'))\n",
    ").click()\n",
    "time.sleep(1)\n",
    "\n",
    "# Getting the count of the Instagram Handles\n",
    "for i in InstagramHandel:\n",
    "    ClickSearchButton = WebDriverWait(driver, 10).until(\n",
    "        ec.presence_of_element_located((By.XPATH,'/html/body/div[2]/div/div/div[2]/div/div/div[1]/div[1]/div[1]/div/div/div/div/div[2]/div[2]'))\n",
    "    ).click()\n",
    "    time.sleep(2)\n",
    "    searchForTheInstagramHandel = WebDriverWait(driver, 10).until(\n",
    "        ec.presence_of_element_located((By.XPATH,'/html/body/div[2]/div/div/div[2]/div/div/div[1]/div[1]/div[1]/div/div/div[2]/div/div/div[2]/div/div/div[1]/div/div/input'))\n",
    "    ).send_keys(i)\n",
    "    time.sleep(2)\n",
    "    OpeningTheProfile = WebDriverWait(driver, 10).until(\n",
    "    ec.presence_of_element_located((By.XPATH,'/html/body/div[2]/div/div/div[2]/div/div/div[1]/div[1]/div[1]/div/div/div[2]/div/div/div[2]/div/div/div[2]/div/a[1]/div[1]/div/div/div[2]/div/div'))\n",
    "    ).click()\n",
    "    time.sleep(2)\n",
    "    GettingTheDetail = WebDriverWait(driver, 10).until(\n",
    "    ec.presence_of_element_located((By.XPATH,'/html/body/div[2]/div/div/div[2]/div/div/div[1]/div[1]/div[2]/div[2]/section/main/div/header/section/ul/li[2]/a'))\n",
    "    )\n",
    "    def getFollowers(value):\n",
    "        allowed_character = set(\"1234567890.-+KM\")\n",
    "        return \"\".join(i for i in value if i in allowed_character)\n",
    "    ans = getFollowers(GettingTheDetail.text)\n",
    "    if i not in Dictionary:\n",
    "        Dictionary[i] = ans\n",
    "    time.sleep(2)\n",
    "Dictionary"
   ]
  },
  {
   "cell_type": "code",
   "execution_count": 62,
   "metadata": {},
   "outputs": [],
   "source": [
    "data = Dictionary.keys()\n",
    "for i in data:\n",
    "    value = Dictionary[i]\n",
    "    if value[-1] == 'M':\n",
    "        value = value[:-1]\n",
    "        value = float(value)\n",
    "        value = value*1000000\n",
    "        Dictionary[i] = value\n",
    "    elif value[-1] == \"K\":\n",
    "        value = value[:-1]\n",
    "        value = float(value)\n",
    "        value = value*1000\n",
    "        Dictionary[i] = value"
   ]
  },
  {
   "cell_type": "code",
   "execution_count": 63,
   "metadata": {},
   "outputs": [
    {
     "name": "stdout",
     "output_type": "stream",
     "text": [
      "Top 5 User Handel are : \n"
     ]
    },
    {
     "data": {
      "text/html": [
       "<div>\n",
       "<style scoped>\n",
       "    .dataframe tbody tr th:only-of-type {\n",
       "        vertical-align: middle;\n",
       "    }\n",
       "\n",
       "    .dataframe tbody tr th {\n",
       "        vertical-align: top;\n",
       "    }\n",
       "\n",
       "    .dataframe thead th {\n",
       "        text-align: right;\n",
       "    }\n",
       "</style>\n",
       "<table border=\"1\" class=\"dataframe\">\n",
       "  <thead>\n",
       "    <tr style=\"text-align: right;\">\n",
       "      <th></th>\n",
       "      <th>SubscriberCount</th>\n",
       "    </tr>\n",
       "  </thead>\n",
       "  <tbody>\n",
       "    <tr>\n",
       "      <th>foodie_incarnate</th>\n",
       "      <td>2000000.0</td>\n",
       "    </tr>\n",
       "    <tr>\n",
       "      <th>food</th>\n",
       "      <td>2000000.0</td>\n",
       "    </tr>\n",
       "    <tr>\n",
       "      <th>foodpharmer</th>\n",
       "      <td>1900000.0</td>\n",
       "    </tr>\n",
       "    <tr>\n",
       "      <th>foodrooaster</th>\n",
       "      <td>347000.0</td>\n",
       "    </tr>\n",
       "    <tr>\n",
       "      <th>foodiesince96</th>\n",
       "      <td>336000.0</td>\n",
       "    </tr>\n",
       "  </tbody>\n",
       "</table>\n",
       "</div>"
      ],
      "text/plain": [
       "                  SubscriberCount\n",
       "foodie_incarnate        2000000.0\n",
       "food                    2000000.0\n",
       "foodpharmer             1900000.0\n",
       "foodrooaster             347000.0\n",
       "foodiesince96            336000.0"
      ]
     },
     "execution_count": 63,
     "metadata": {},
     "output_type": "execute_result"
    }
   ],
   "source": [
    "import pandas as pd\n",
    "InstagramData = pd.DataFrame.from_dict(Dictionary, orient='index')\n",
    "InstagramData.columns = ['SubscriberCount']\n",
    "InstagramData['SubscriberCount'] = InstagramData['SubscriberCount'].astype(float)\n",
    "InstagramData.sort_values(by = 'SubscriberCount',ascending= False,inplace=True)\n",
    "print(\"Top 5 User Handel are : \")\n",
    "InstagramData.head(5)"
   ]
  },
  {
   "cell_type": "code",
   "execution_count": 64,
   "metadata": {},
   "outputs": [
    {
     "name": "stdout",
     "output_type": "stream",
     "text": [
      "Top 5 User Handel are : \n"
     ]
    },
    {
     "data": {
      "text/html": [
       "<div>\n",
       "<style scoped>\n",
       "    .dataframe tbody tr th:only-of-type {\n",
       "        vertical-align: middle;\n",
       "    }\n",
       "\n",
       "    .dataframe tbody tr th {\n",
       "        vertical-align: top;\n",
       "    }\n",
       "\n",
       "    .dataframe thead th {\n",
       "        text-align: right;\n",
       "    }\n",
       "</style>\n",
       "<table border=\"1\" class=\"dataframe\">\n",
       "  <thead>\n",
       "    <tr style=\"text-align: right;\">\n",
       "      <th></th>\n",
       "      <th>SubscriberCount</th>\n",
       "    </tr>\n",
       "  </thead>\n",
       "  <tbody>\n",
       "    <tr>\n",
       "      <th>foodie_incarnate</th>\n",
       "      <td>2000000.0</td>\n",
       "    </tr>\n",
       "    <tr>\n",
       "      <th>food</th>\n",
       "      <td>2000000.0</td>\n",
       "    </tr>\n",
       "    <tr>\n",
       "      <th>foodpharmer</th>\n",
       "      <td>1900000.0</td>\n",
       "    </tr>\n",
       "    <tr>\n",
       "      <th>foodrooaster</th>\n",
       "      <td>347000.0</td>\n",
       "    </tr>\n",
       "    <tr>\n",
       "      <th>foodiesince96</th>\n",
       "      <td>336000.0</td>\n",
       "    </tr>\n",
       "  </tbody>\n",
       "</table>\n",
       "</div>"
      ],
      "text/plain": [
       "                  SubscriberCount\n",
       "foodie_incarnate        2000000.0\n",
       "food                    2000000.0\n",
       "foodpharmer             1900000.0\n",
       "foodrooaster             347000.0\n",
       "foodiesince96            336000.0"
      ]
     },
     "execution_count": 64,
     "metadata": {},
     "output_type": "execute_result"
    }
   ],
   "source": [
    "print(\"Top 5 User Handel are : \")\n",
    "InstagramData.head(5)"
   ]
  },
  {
   "cell_type": "code",
   "execution_count": 55,
   "metadata": {},
   "outputs": [
    {
     "data": {
      "text/plain": [
       "Index(['foodie_incarnate', 'food', 'foodpharmer', 'foodpandits',\n",
       "       'foodrooaster', 'foodiesince96', 'kashmirfoodgram', 'oyefoodiesingh',\n",
       "       'foodineerishita', 'foodiepragun'],\n",
       "      dtype='object')"
      ]
     },
     "execution_count": 55,
     "metadata": {},
     "output_type": "execute_result"
    }
   ],
   "source": [
    "InstagramData.index"
   ]
  },
  {
   "cell_type": "code",
   "execution_count": 56,
   "metadata": {},
   "outputs": [],
   "source": [
    "Handles = InstagramData.index\n",
    "data = []"
   ]
  },
  {
   "cell_type": "code",
   "execution_count": 58,
   "metadata": {},
   "outputs": [
    {
     "name": "stdout",
     "output_type": "stream",
     "text": [
      "foodie_incarnate did Total 1  in Past Three Days\n",
      "food did Total 1  in Past Three Days\n",
      "foodpharmer did Total 0  in Past Three Days\n",
      "foodpandits did Total 0  in Past Three Days\n",
      "foodrooaster did Total 0  in Past Three Days\n",
      "foodiesince96 did Total 0  in Past Three Days\n",
      "kashmirfoodgram did Total 8  in Past Three Days\n",
      "oyefoodiesingh did Total 7  in Past Three Days\n",
      "foodineerishita did Total 0  in Past Three Days\n",
      "foodiepragun did Total 0  in Past Three Days\n"
     ]
    }
   ],
   "source": [
    "for i in Handles:\n",
    "    time.sleep(2)\n",
    "    SearchForProfile = WebDriverWait(driver, 10).until(\n",
    "        ec.presence_of_element_located((By.XPATH,'/html/body/div[2]/div/div/div[2]/div/div/div[1]/div[1]/div[1]/div/div/div/div/div[2]/div[2]/span/div/a/div'))\n",
    "    ).click()\n",
    "    time.sleep(2)\n",
    "    OpenProfile = WebDriverWait(driver,10).until(\n",
    "        ec.presence_of_element_located((By.XPATH,'/html/body/div[2]/div/div/div[2]/div/div/div[1]/div[1]/div[1]/div/div/div[2]/div/div/div[2]/div/div/div[1]/div/div/input'))\n",
    "    ).send_keys(i)\n",
    "    time.sleep(2)\n",
    "    OpeningProfile = WebDriverWait(driver, 10).until(\n",
    "        ec.presence_of_element_located((By.XPATH,'/html/body/div[2]/div/div/div[2]/div/div/div[1]/div[1]/div[1]/div/div/div[2]/div/div/div[2]/div/div/div[2]/div/a[1]'))\n",
    "    ).click()\n",
    "    time.sleep(2)\n",
    "    CheckingPosts = WebDriverWait(driver, 10).until(\n",
    "        ec.presence_of_element_located((By.XPATH,'/html/body/div[2]/div/div/div[2]/div/div/div[1]/div[1]/div[2]/div[2]/section/main/div/div[3]/div/div[1]/div[1]'))\n",
    "    ).click()\n",
    "    count = 0\n",
    "    TotalPosts = 0\n",
    "    while True:\n",
    "        time.sleep(2)\n",
    "        if count == 0:\n",
    "            GettingDateAndTime = WebDriverWait(driver,10).until(\n",
    "                ec.presence_of_element_located((By.XPATH,'/html/body/div[8]/div[1]/div/div[3]/div/div/div/div/div[2]/div/article/div/div[2]/div/div/div[2]/div[2]/div'))\n",
    "            )\n",
    "        else:\n",
    "            GettingDateAndTime = WebDriverWait(driver,10).until(\n",
    "                ec.presence_of_element_located((By.XPATH,'/html/body/div[7]/div[1]/div/div[3]/div/div/div/div/div[2]/div/article/div/div[2]/div/div/div[2]/div[2]/div'))\n",
    "            )\n",
    "        time.sleep(2)\n",
    "        def getInfo(text):\n",
    "            day = (text.split(' ')[0])\n",
    "            try:\n",
    "                day = int(day)\n",
    "            except:\n",
    "                return 0\n",
    "            Month = text.split(' ')[1]\n",
    "            if day > 3 and Month in ['hours']:\n",
    "                return 1\n",
    "            if day > 3 or Month not in ['day', 'days']:\n",
    "                return 0\n",
    "            return 1\n",
    "        string = GettingDateAndTime.text\n",
    "        ans = getInfo(string)\n",
    "        if ans == 0:\n",
    "            print(i,'did Total',TotalPosts,' in Past Three Days')\n",
    "            data.append(TotalPosts)\n",
    "            break\n",
    "        else:\n",
    "            if count == 0:\n",
    "                TotalPosts += 1\n",
    "                NextPost = WebDriverWait(driver, 10).until(\n",
    "                    ec.presence_of_element_located((By.XPATH,'/html/body/div[8]/div[1]/div/div[3]/div/div/div/div/div[1]/div/div/div/button'))\n",
    "                ).click()\n",
    "                count += 1\n",
    "            else:\n",
    "                TotalPosts += 1\n",
    "                NextPost = WebDriverWait(driver, 10).until(\n",
    "                    ec.presence_of_element_located((By.XPATH,'/html/body/div[7]/div[1]/div/div[3]/div/div/div/div/div[1]/div/div/div[2]/button'))\n",
    "                ).click()\n",
    "                count += 1\n",
    "    if count == 0:\n",
    "        closePosts = WebDriverWait(driver, 10).until(\n",
    "            ec.presence_of_element_located((By.XPATH,'/html/body/div[8]/div[1]/div/div[2]/div'))\n",
    "        ).click()\n",
    "    else:\n",
    "        closePosts = WebDriverWait(driver,10).until(\n",
    "            ec.presence_of_element_located((By.XPATH,'/html/body/div[7]/div[1]/div/div[2]/div'))\n",
    "        ).click()\n"
   ]
  },
  {
   "cell_type": "code",
   "execution_count": 11,
   "metadata": {},
   "outputs": [],
   "source": [
    "import matplotlib.pyplot as plt"
   ]
  },
  {
   "cell_type": "code",
   "execution_count": 61,
   "metadata": {},
   "outputs": [],
   "source": [
    "InstagramData.insert(1,'TotalPost',data,True)"
   ]
  },
  {
   "cell_type": "code",
   "execution_count": 62,
   "metadata": {},
   "outputs": [
    {
     "data": {
      "text/html": [
       "<div>\n",
       "<style scoped>\n",
       "    .dataframe tbody tr th:only-of-type {\n",
       "        vertical-align: middle;\n",
       "    }\n",
       "\n",
       "    .dataframe tbody tr th {\n",
       "        vertical-align: top;\n",
       "    }\n",
       "\n",
       "    .dataframe thead th {\n",
       "        text-align: right;\n",
       "    }\n",
       "</style>\n",
       "<table border=\"1\" class=\"dataframe\">\n",
       "  <thead>\n",
       "    <tr style=\"text-align: right;\">\n",
       "      <th></th>\n",
       "      <th>SubscriberCount</th>\n",
       "      <th>TotalPost</th>\n",
       "    </tr>\n",
       "  </thead>\n",
       "  <tbody>\n",
       "    <tr>\n",
       "      <th>kashmirfoodgram</th>\n",
       "      <td>213000.0</td>\n",
       "      <td>8</td>\n",
       "    </tr>\n",
       "    <tr>\n",
       "      <th>oyefoodiesingh</th>\n",
       "      <td>115000.0</td>\n",
       "      <td>7</td>\n",
       "    </tr>\n",
       "    <tr>\n",
       "      <th>foodie_incarnate</th>\n",
       "      <td>1900000.0</td>\n",
       "      <td>1</td>\n",
       "    </tr>\n",
       "    <tr>\n",
       "      <th>food</th>\n",
       "      <td>1900000.0</td>\n",
       "      <td>1</td>\n",
       "    </tr>\n",
       "    <tr>\n",
       "      <th>foodpharmer</th>\n",
       "      <td>1800000.0</td>\n",
       "      <td>0</td>\n",
       "    </tr>\n",
       "  </tbody>\n",
       "</table>\n",
       "</div>"
      ],
      "text/plain": [
       "                  SubscriberCount  TotalPost\n",
       "kashmirfoodgram          213000.0          8\n",
       "oyefoodiesingh           115000.0          7\n",
       "foodie_incarnate        1900000.0          1\n",
       "food                    1900000.0          1\n",
       "foodpharmer             1800000.0          0"
      ]
     },
     "execution_count": 62,
     "metadata": {},
     "output_type": "execute_result"
    }
   ],
   "source": [
    "InstagramData.sort_values(by='TotalPost',ascending=False,inplace=True)\n",
    "InstagramData.head(5)"
   ]
  },
  {
   "cell_type": "code",
   "execution_count": 63,
   "metadata": {},
   "outputs": [
    {
     "data": {
      "text/plain": [
       "Index(['kashmirfoodgram', 'oyefoodiesingh', 'foodie_incarnate', 'food',\n",
       "       'foodpharmer'],\n",
       "      dtype='object')"
      ]
     },
     "execution_count": 63,
     "metadata": {},
     "output_type": "execute_result"
    }
   ],
   "source": [
    "Names = InstagramData.index\n",
    "Names = Names[:5]\n",
    "Names"
   ]
  },
  {
   "cell_type": "code",
   "execution_count": 64,
   "metadata": {},
   "outputs": [
    {
     "data": {
      "text/plain": [
       "kashmirfoodgram     8\n",
       "oyefoodiesingh      7\n",
       "foodie_incarnate    1\n",
       "food                1\n",
       "foodpharmer         0\n",
       "Name: TotalPost, dtype: int64"
      ]
     },
     "execution_count": 64,
     "metadata": {},
     "output_type": "execute_result"
    }
   ],
   "source": [
    "TotalPostIn3Days = InstagramData['TotalPost']\n",
    "TotalPostIn3Days = TotalPostIn3Days[:5]\n",
    "TotalPostIn3Days"
   ]
  },
  {
   "cell_type": "code",
   "execution_count": 65,
   "metadata": {},
   "outputs": [
    {
     "data": {
      "image/png": "[encoded data removed]",
      "text/plain": [
       "<Figure size 640x480 with 1 Axes>"
      ]
     },
     "metadata": {},
     "output_type": "display_data"
    }
   ],
   "source": [
    "plt.bar(Names,TotalPostIn3Days,width = 0.5)\n",
    "plt.xticks(rotation=40)\n",
    "plt.show()"
   ]
  },
  {
   "cell_type": "markdown",
   "metadata": {},
   "source": [
    "#### Open the 5 handles you obtained in the last question, and scrape the content of the first 10 posts of each handle.\n"
   ]
  },
  {
   "cell_type": "code",
   "execution_count": 66,
   "metadata": {},
   "outputs": [
    {
     "data": {
      "text/plain": [
       "Index(['kashmirfoodgram', 'oyefoodiesingh', 'foodie_incarnate', 'food',\n",
       "       'foodpharmer', 'foodpandits', 'foodrooaster', 'foodiesince96',\n",
       "       'foodineerishita', 'foodiepragun'],\n",
       "      dtype='object')"
      ]
     },
     "execution_count": 66,
     "metadata": {},
     "output_type": "execute_result"
    }
   ],
   "source": [
    "Handles = InstagramData.index\n",
    "Handles"
   ]
  },
  {
   "cell_type": "code",
   "execution_count": 70,
   "metadata": {},
   "outputs": [],
   "source": [
    "dataDictionary = {}\n",
    "for i in Handles:\n",
    "    time.sleep(2)\n",
    "    SearchForProfile = WebDriverWait(driver, 10).until(\n",
    "        ec.presence_of_element_located((By.XPATH,'/html/body/div[2]/div/div/div[2]/div/div/div[1]/div[1]/div[1]/div/div/div/div/div[2]/div[2]/span/div/a/div'))\n",
    "    ).click()\n",
    "    time.sleep(2)\n",
    "    OpenProfile = WebDriverWait(driver,10).until(\n",
    "        ec.presence_of_element_located((By.XPATH,'/html/body/div[2]/div/div/div[2]/div/div/div[1]/div[1]/div[1]/div/div/div[2]/div/div/div[2]/div/div/div[1]/div/div/input'))\n",
    "    ).send_keys(i)\n",
    "    time.sleep(2)\n",
    "    OpeningProfile = WebDriverWait(driver, 10).until(\n",
    "        ec.presence_of_element_located((By.XPATH,'/html/body/div[2]/div/div/div[2]/div/div/div[1]/div[1]/div[1]/div/div/div[2]/div/div/div[2]/div/div/div[2]/div/a[1]'))\n",
    "    ).click()\n",
    "    time.sleep(3)\n",
    "    CheckingPosts = WebDriverWait(driver, 10).until(\n",
    "        ec.presence_of_element_located((By.XPATH,'/html/body/div[2]/div/div/div[2]/div/div/div[1]/div[1]/div[2]/div[2]/section/main/div/div[3]/div/div[1]/div[1]'))\n",
    "    ).click()\n",
    "    time.sleep(2)\n",
    "    count = 0\n",
    "    stringData = []\n",
    "    while count < 10:\n",
    "        if count == 0:\n",
    "            try:\n",
    "                dataString = WebDriverWait(driver, 10).until(\n",
    "                    ec.presence_of_all_elements_located((By.XPATH,'/html/body/div[8]/div[1]/div/div[3]/div/div/div/div/div[2]/div/article/div/div[2]/div/div/div[2]/div[1]/ul'))\n",
    "                )\n",
    "                stringData.append(dataString[0].text)\n",
    "            except:\n",
    "                dataString = WebDriverWait(driver,10).until(\n",
    "                ec.presence_of_all_elements_located((By.XPATH,'/html/body/div[7]/div[1]/div/div[3]/div/div/div/div/div[2]/div/article/div/div[2]/div/div/div[2]/div[1]/ul'))\n",
    "            )\n",
    "                stringData.append(dataString[0].text)\n",
    "            time.sleep(2)\n",
    "            try:\n",
    "                NextPost = WebDriverWait(driver, 10).until(\n",
    "                    ec.presence_of_element_located((By.XPATH,'/html/body/div[8]/div[1]/div/div[3]/div/div/div/div/div[1]/div/div/div/button'))\n",
    "                ).click()\n",
    "            except:\n",
    "                NextPost = WebDriverWait(driver, 10).until(\n",
    "                    ec.presence_of_element_located((By.XPATH,'/html/body/div[7]/div[1]/div/div[3]/div/div/div/div/div[1]/div/div/div[2]/button'))\n",
    "                ).click()\n",
    "            count += 1\n",
    "        else:\n",
    "            try:\n",
    "                dataString = WebDriverWait(driver,10).until(\n",
    "                    ec.presence_of_all_elements_located((By.XPATH,'/html/body/div[7]/div[1]/div/div[3]/div/div/div/div/div[2]/div/article/div/div[2]/div/div/div[2]/div[1]/ul'))\n",
    "                )\n",
    "                stringData.append(dataString[0].text)\n",
    "            except:\n",
    "                dataString = WebDriverWait(driver, 10).until(\n",
    "                    ec.presence_of_all_elements_located((By.XPATH,'/html/body/div[8]/div[1]/div/div[3]/div/div/div/div/div[2]/div/article/div/div[2]/div/div/div[2]/div[1]/ul'))\n",
    "                )\n",
    "                stringData.append(dataString[0].text)\n",
    "            time.sleep(2)\n",
    "            try:\n",
    "                NextPost = WebDriverWait(driver, 10).until(\n",
    "                    ec.presence_of_element_located((By.XPATH,'/html/body/div[7]/div[1]/div/div[3]/div/div/div/div/div[1]/div/div/div[2]/button'))\n",
    "                ).click()\n",
    "            except:\n",
    "                NextPost = WebDriverWait(driver, 10).until(\n",
    "                    ec.presence_of_element_located((By.XPATH,'/html/body/div[8]/div[1]/div/div[3]/div/div/div/div/div[1]/div/div/div/button'))\n",
    "                ).click()\n",
    "            count += 1\n",
    "    dataDictionary[i] = stringData\n",
    "    try:\n",
    "        closePosts = WebDriverWait(driver,10).until(\n",
    "                ec.presence_of_element_located((By.XPATH,'/html/body/div[7]/div[1]/div/div[2]/div'))\n",
    "        ).click()\n",
    "    except:\n",
    "        closePosts = WebDriverWait(driver, 10).until(\n",
    "            ec.presence_of_element_located((By.XPATH,'/html/body/div[8]/div[1]/div/div[2]/div'))\n",
    "        ).click()\n"
   ]
  },
  {
   "cell_type": "code",
   "execution_count": 2,
   "metadata": {},
   "outputs": [],
   "source": [
    "dict = {}\n",
    "\n",
    "for i in dataDictionary:\n",
    "    for j in dataDictionary[i]:\n",
    "        word = j\n",
    "        words = word.split(\"\\n\")\n",
    "        for i in words:\n",
    "            string = i.split()\n",
    "            for j in string:\n",
    "                if j[0] == '#':\n",
    "                    if j in dict:\n",
    "                        dict[j] += 1\n",
    "                    else:\n",
    "                        dict[j] = 1\n",
    "                    dict[j] == 1\n"
   ]
  },
  {
   "cell_type": "code",
   "execution_count": 3,
   "metadata": {},
   "outputs": [],
   "source": [
    "import pandas as pd"
   ]
  },
  {
   "cell_type": "code",
   "execution_count": 4,
   "metadata": {},
   "outputs": [
    {
     "data": {
      "text/html": [
       "<div>\n",
       "<style scoped>\n",
       "    .dataframe tbody tr th:only-of-type {\n",
       "        vertical-align: middle;\n",
       "    }\n",
       "\n",
       "    .dataframe tbody tr th {\n",
       "        vertical-align: top;\n",
       "    }\n",
       "\n",
       "    .dataframe thead th {\n",
       "        text-align: right;\n",
       "    }\n",
       "</style>\n",
       "<table border=\"1\" class=\"dataframe\">\n",
       "  <thead>\n",
       "    <tr style=\"text-align: right;\">\n",
       "      <th></th>\n",
       "      <th>HashTag</th>\n",
       "      <th>Frequency</th>\n",
       "    </tr>\n",
       "  </thead>\n",
       "  <tbody>\n",
       "    <tr>\n",
       "      <th>0</th>\n",
       "      <td>#streetfood</td>\n",
       "      <td>32</td>\n",
       "    </tr>\n",
       "    <tr>\n",
       "      <th>1</th>\n",
       "      <td>#reelitfeelit</td>\n",
       "      <td>26</td>\n",
       "    </tr>\n",
       "    <tr>\n",
       "      <th>2</th>\n",
       "      <td>#reels</td>\n",
       "      <td>26</td>\n",
       "    </tr>\n",
       "    <tr>\n",
       "      <th>3</th>\n",
       "      <td>#reelsinstagram</td>\n",
       "      <td>25</td>\n",
       "    </tr>\n",
       "    <tr>\n",
       "      <th>4</th>\n",
       "      <td>#foodblogger</td>\n",
       "      <td>23</td>\n",
       "    </tr>\n",
       "    <tr>\n",
       "      <th>...</th>\n",
       "      <td>...</td>\n",
       "      <td>...</td>\n",
       "    </tr>\n",
       "    <tr>\n",
       "      <th>264</th>\n",
       "      <td>#gymlover</td>\n",
       "      <td>1</td>\n",
       "    </tr>\n",
       "    <tr>\n",
       "      <th>265</th>\n",
       "      <td>#motivation</td>\n",
       "      <td>1</td>\n",
       "    </tr>\n",
       "    <tr>\n",
       "      <th>266</th>\n",
       "      <td>#foodvlogers</td>\n",
       "      <td>1</td>\n",
       "    </tr>\n",
       "    <tr>\n",
       "      <th>267</th>\n",
       "      <td>#remix</td>\n",
       "      <td>1</td>\n",
       "    </tr>\n",
       "    <tr>\n",
       "      <th>268</th>\n",
       "      <td>#healthy</td>\n",
       "      <td>1</td>\n",
       "    </tr>\n",
       "  </tbody>\n",
       "</table>\n",
       "<p>269 rows × 2 columns</p>\n",
       "</div>"
      ],
      "text/plain": [
       "             HashTag  Frequency\n",
       "0        #streetfood         32\n",
       "1      #reelitfeelit         26\n",
       "2             #reels         26\n",
       "3    #reelsinstagram         25\n",
       "4       #foodblogger         23\n",
       "..               ...        ...\n",
       "264        #gymlover          1\n",
       "265      #motivation          1\n",
       "266     #foodvlogers          1\n",
       "267           #remix          1\n",
       "268         #healthy          1\n",
       "\n",
       "[269 rows x 2 columns]"
      ]
     },
     "execution_count": 4,
     "metadata": {},
     "output_type": "execute_result"
    }
   ],
   "source": [
    "data = pd.DataFrame(dict.items(),columns=['HashTag','Frequency'])\n",
    "data.sort_values(by='Frequency',ascending=False,inplace=True)\n",
    "data = data.reset_index(drop = True)\n",
    "data"
   ]
  },
  {
   "cell_type": "code",
   "execution_count": 5,
   "metadata": {},
   "outputs": [],
   "source": [
    "# Saving the dataFrame as the file name data\n",
    "data.to_csv('data.csv')"
   ]
  },
  {
   "cell_type": "code",
   "execution_count": 107,
   "metadata": {},
   "outputs": [],
   "source": [
    "import matplotlib.pyplot as plt"
   ]
  },
  {
   "cell_type": "code",
   "execution_count": 18,
   "metadata": {},
   "outputs": [
    {
     "data": {
      "text/html": [
       "<div>\n",
       "<style scoped>\n",
       "    .dataframe tbody tr th:only-of-type {\n",
       "        vertical-align: middle;\n",
       "    }\n",
       "\n",
       "    .dataframe tbody tr th {\n",
       "        vertical-align: top;\n",
       "    }\n",
       "\n",
       "    .dataframe thead th {\n",
       "        text-align: right;\n",
       "    }\n",
       "</style>\n",
       "<table border=\"1\" class=\"dataframe\">\n",
       "  <thead>\n",
       "    <tr style=\"text-align: right;\">\n",
       "      <th></th>\n",
       "      <th>HashTag</th>\n",
       "      <th>Frequency</th>\n",
       "    </tr>\n",
       "  </thead>\n",
       "  <tbody>\n",
       "    <tr>\n",
       "      <th>0</th>\n",
       "      <td>#streetfood</td>\n",
       "      <td>32</td>\n",
       "    </tr>\n",
       "    <tr>\n",
       "      <th>1</th>\n",
       "      <td>#reelitfeelit</td>\n",
       "      <td>26</td>\n",
       "    </tr>\n",
       "    <tr>\n",
       "      <th>2</th>\n",
       "      <td>#reels</td>\n",
       "      <td>26</td>\n",
       "    </tr>\n",
       "    <tr>\n",
       "      <th>3</th>\n",
       "      <td>#reelsinstagram</td>\n",
       "      <td>25</td>\n",
       "    </tr>\n",
       "    <tr>\n",
       "      <th>4</th>\n",
       "      <td>#foodblogger</td>\n",
       "      <td>23</td>\n",
       "    </tr>\n",
       "  </tbody>\n",
       "</table>\n",
       "</div>"
      ],
      "text/plain": [
       "           HashTag  Frequency\n",
       "0      #streetfood         32\n",
       "1    #reelitfeelit         26\n",
       "2           #reels         26\n",
       "3  #reelsinstagram         25\n",
       "4     #foodblogger         23"
      ]
     },
     "execution_count": 18,
     "metadata": {},
     "output_type": "execute_result"
    }
   ],
   "source": [
    "newData = data[:5]\n",
    "newData"
   ]
  },
  {
   "cell_type": "code",
   "execution_count": 16,
   "metadata": {},
   "outputs": [
    {
     "data": {
      "image/png": "[encoded data removed]",
      "text/plain": [
       "<Figure size 640x480 with 1 Axes>"
      ]
     },
     "metadata": {},
     "output_type": "display_data"
    }
   ],
   "source": [
    "plt.pie(newData['Frequency'],labels=newData['HashTag'],autopct='%.2f')\n",
    "plt.show()"
   ]
  },
  {
   "cell_type": "code",
   "execution_count": 9,
   "metadata": {},
   "outputs": [],
   "source": [
    "newHandel = Handles[:5]"
   ]
  },
  {
   "cell_type": "code",
   "execution_count": 11,
   "metadata": {},
   "outputs": [],
   "source": [
    "newDataDictionary = {}\n",
    "for i in newHandel:\n",
    "    time.sleep(2)\n",
    "    SearchForProfile = WebDriverWait(driver, 10).until(\n",
    "        ec.presence_of_element_located((By.XPATH,'/html/body/div[2]/div/div/div[2]/div/div/div[1]/div[1]/div[1]/div/div/div/div/div[2]/div[2]/span/div/a/div'))\n",
    "    ).click()\n",
    "    time.sleep(2)\n",
    "    OpenProfile = WebDriverWait(driver,10).until(\n",
    "        ec.presence_of_element_located((By.XPATH,'/html/body/div[2]/div/div/div[2]/div/div/div[1]/div[1]/div[1]/div/div/div[2]/div/div/div[2]/div/div/div[1]/div/div/input'))\n",
    "    ).send_keys(i)\n",
    "    time.sleep(2)\n",
    "    OpeningProfile = WebDriverWait(driver, 10).until(\n",
    "        ec.presence_of_element_located((By.XPATH,'/html/body/div[2]/div/div/div[2]/div/div/div[1]/div[1]/div[1]/div/div/div[2]/div/div/div[2]/div/div/div[2]/div/a[1]'))\n",
    "    ).click()\n",
    "    time.sleep(3)\n",
    "    CheckingPosts = WebDriverWait(driver, 10).until(\n",
    "        ec.presence_of_element_located((By.XPATH,'/html/body/div[2]/div/div/div[2]/div/div/div[1]/div[1]/div[2]/div[2]/section/main/div/div[3]/div/div[1]/div[1]'))\n",
    "    ).click()\n",
    "    time.sleep(2)\n",
    "    count = 0\n",
    "    TotalLikes  = []\n",
    "    while count < 10:\n",
    "        if count == 0:\n",
    "            try:\n",
    "                likedPost = WebDriverWait(driver,10).until(\n",
    "                    ec.presence_of_element_located((By.XPATH,'/html/body/div[8]/div[1]/div/div[3]/div/div/div/div/div[2]/div/article/div/div[2]/div/div/div[2]/section[2]/div'))\n",
    "                ).text\n",
    "                TotalLikes.append(likedPost)\n",
    "            except:\n",
    "                likedPost = WebDriverWait(driver,10).until(\n",
    "                ec.presence_of_all_elements_located((By.XPATH,'/html/body/div[7]/div[1]/div/div[3]/div/div/div/div/div[2]/div/article/div/div[2]/div/div/div[2]/section[2]/div'))\n",
    "            )\n",
    "                TotalLikes.append(likedPost[0].text)\n",
    "            time.sleep(2)\n",
    "            try:\n",
    "                NextPost = WebDriverWait(driver, 10).until(\n",
    "                    ec.presence_of_element_located((By.XPATH,'/html/body/div[8]/div[1]/div/div[3]/div/div/div/div/div[1]/div/div/div/button'))\n",
    "                ).click()\n",
    "            except:\n",
    "                NextPost = WebDriverWait(driver, 10).until(\n",
    "                    ec.presence_of_element_located((By.XPATH,'/html/body/div[7]/div[1]/div/div[3]/div/div/div/div/div[1]/div/div/div[2]/button'))\n",
    "                ).click()\n",
    "            count += 1\n",
    "        else:\n",
    "            try:\n",
    "                likedPost = WebDriverWait(driver,10).until(\n",
    "                    ec.presence_of_all_elements_located((By.XPATH,'/html/body/div[7]/div[1]/div/div[3]/div/div/div/div/div[2]/div/article/div/div[2]/div/div/div[2]/section[2]/div'))\n",
    "                )\n",
    "                TotalLikes.append(likedPost[0].text)\n",
    "            except:\n",
    "                likedPost = WebDriverWait(driver, 10).until(\n",
    "                    ec.presence_of_all_elements_located((By.XPATH,'/html/body/div[8]/div[1]/div/div[3]/div/div/div/div/div[2]/div/article/div/div[2]/div/div/div[2]/section[2]/div'))\n",
    "                )\n",
    "                TotalLikes.append(likedPost[0].text)\n",
    "            time.sleep(2)\n",
    "            try:\n",
    "                NextPost = WebDriverWait(driver, 10).until(\n",
    "                    ec.presence_of_element_located((By.XPATH,'/html/body/div[7]/div[1]/div/div[3]/div/div/div/div/div[1]/div/div/div[2]/button'))\n",
    "                ).click()\n",
    "            except:\n",
    "                NextPost = WebDriverWait(driver, 10).until(\n",
    "                    ec.presence_of_element_located((By.XPATH,'/html/body/div[8]/div[1]/div/div[3]/div/div/div/div/div[1]/div/div/div/button'))\n",
    "                ).click()\n",
    "            count += 1\n",
    "    newDataDictionary[i] = TotalLikes\n",
    "    try:\n",
    "        closePosts = WebDriverWait(driver, 10).until(\n",
    "                ec.presence_of_element_located((By.XPATH,'/html/body/div[7]/div[1]/div/div[2]/div'))\n",
    "        ).click()\n",
    "    except:\n",
    "        closePosts = WebDriverWait(driver, 10).until(\n",
    "            ec.presence_of_element_located((By.XPATH,'/html/body/div[8]/div[1]/div/div[2]/div'))\n",
    "        ).click()"
   ]
  },
  {
   "cell_type": "code",
   "execution_count": 34,
   "metadata": {},
   "outputs": [],
   "source": [
    "newDataDictionary\n",
    "name = newDataDictionary.keys()\n",
    "for data in name:\n",
    "    array = newDataDictionary[data]\n",
    "    count = 0\n",
    "    for char in array:\n",
    "        def remove(char):\n",
    "            acceptable = set(\"1234567890\")\n",
    "            return \"\".join(i for i in char if i in acceptable)\n",
    "        newDataDictionary[data][count] = int(remove(char))\n",
    "        count += 1"
   ]
  },
  {
   "cell_type": "code",
   "execution_count": 44,
   "metadata": {},
   "outputs": [],
   "source": [
    "# GETTING THE average like for the handel\n",
    "newDataDictionary\n",
    "names = newDataDictionary.keys()\n",
    "for i in names:\n",
    "    # Dividing by 10 for getting the average for the 10 posts\n",
    "    newDataDictionary[i] = newDataDictionary[i]//10"
   ]
  },
  {
   "cell_type": "code",
   "execution_count": 45,
   "metadata": {},
   "outputs": [
    {
     "data": {
      "text/plain": [
       "{'kashmirfoodgram': 2289,\n",
       " 'oyefoodiesingh': 3169,\n",
       " 'foodie_incarnate': 8754039,\n",
       " 'food': 8754039,\n",
       " 'foodpharmer': 148319851}"
      ]
     },
     "execution_count": 45,
     "metadata": {},
     "output_type": "execute_result"
    }
   ],
   "source": [
    "newDataDictionary"
   ]
  },
  {
   "cell_type": "code",
   "execution_count": 100,
   "metadata": {},
   "outputs": [],
   "source": [
    "InstagramData.index\n",
    "for i in InstagramData.index:\n",
    "    if i in newDataDictionary:\n",
    "        newDataDictionary[i] = newDataDictionary[i]/InstagramData._get_value('foodie_incarnate','SubscriberCount')"
   ]
  },
  {
   "cell_type": "code",
   "execution_count": 148,
   "metadata": {},
   "outputs": [
    {
     "name": "stdout",
     "output_type": "stream",
     "text": [
      "Sub:likes ratio : \n"
     ]
    },
    {
     "data": {
      "text/plain": [
       "{'kashmirfoodgram': 2289,\n",
       " 'oyefoodiesingh': 3169,\n",
       " 'foodie_incarnate': 4.3770195,\n",
       " 'food': 4.3770195,\n",
       " 'foodpharmer': 74.1599255}"
      ]
     },
     "execution_count": 148,
     "metadata": {},
     "output_type": "execute_result"
    }
   ],
   "source": [
    "print(\"Sub:likes ratio : \")\n",
    "newDataDictionary"
   ]
  },
  {
   "cell_type": "code",
   "execution_count": 149,
   "metadata": {},
   "outputs": [],
   "source": [
    "names = []\n",
    "for i in newDataDictionary.keys():\n",
    "    names.append(i)\n",
    "values = []\n",
    "for i in newDataDictionary.values():\n",
    "    values.append(i)\n",
    "printValues = values"
   ]
  },
  {
   "cell_type": "code",
   "execution_count": 150,
   "metadata": {},
   "outputs": [
    {
     "data": {
      "image/png": "[encoded data removed]",
      "text/plain": [
       "<Figure size 640x480 with 1 Axes>"
      ]
     },
     "metadata": {},
     "output_type": "display_data"
    }
   ],
   "source": [
    "plt.bar(names,values,width = 0.6)\n",
    "plt.title('Sub:Likes')\n",
    "plt.xticks(rotation=40)\n",
    "for i in range(0,len(values)):\n",
    "    plt.text(names[i],values[i],printValues[i])\n",
    "plt.grid()\n",
    "plt.show()"
   ]
  },
  {
   "cell_type": "code",
   "execution_count": null,
   "metadata": {},
   "outputs": [],
   "source": []
  },
  {
   "cell_type": "code",
   "execution_count": null,
   "metadata": {},
   "outputs": [],
   "source": []
  },
  {
   "cell_type": "code",
   "execution_count": null,
   "metadata": {},
   "outputs": [],
   "source": []
  }
 ],
 "metadata": {
  "kernelspec": {
   "display_name": "Python 3",
   "language": "python",
   "name": "python3"
  },
  "language_info": {
   "codemirror_mode": {
    "name": "ipython",
    "version": 3
   },
   "file_extension": ".py",
   "mimetype": "text/x-python",
   "name": "python",
   "nbconvert_exporter": "python",
   "pygments_lexer": "ipython3",
   "version": "3.10.6"
  }
 },
 "nbformat": 4,
 "nbformat_minor": 2
}
