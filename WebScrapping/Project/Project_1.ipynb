{
 "cells": [
  {
   "cell_type": "markdown",
   "metadata": {},
   "source": [
    "#### Objective\n",
    "\n",
    "1. Login to your Instagram Handle\n",
    "* Submit with sample username and password\n",
    "2. Type for \"food\" in search bar and print all the names of the Instagram Handles that are displayed in list after typing \"food\"\n",
    "* Note : Make sure to avoid printing hashtags\n",
    "3. Searching and Opening a profile using\n",
    "* Open profile of \"So Delhi\"\n",
    "4. Follow/Unfollow given handle -\n",
    "* Open the Instagram Handle of \"So Delhi\"\n",
    "* Start following it. Print a message if you are already following\n",
    "* After following, unfollow the instagram handle. Print a message if you have already unfollowed.\n",
    "5. Like/Unlike posts\n",
    "* Liking the top 30 posts of the 'dilsefoodie'. Print message if you have already liked it.\n",
    "* Unliking the top 30 posts of the 'dilsefoodie'. Print message if you have already unliked it.\n",
    "6. Extract list of followers\n",
    "* Extract the usernames of the first 500 followers of 'foodtalkindia' and 'sodelhi'.\n",
    "* Now print all the followers of \"foodtalkindia\" that you are following but those who don't follow you.\n",
    "7. Check the story of 'coding.ninjas'. Consider the following Scenarios and print error messages accordingly -\n",
    "* If You have already seen the story.\n",
    "* Or The user has no story.\n",
    "* Or View the story if not yet seen."
   ]
  },
  {
   "cell_type": "code",
   "execution_count": 165,
   "metadata": {},
   "outputs": [],
   "source": [
    "url = \"https://www.instagram.com/\""
   ]
  },
  {
   "cell_type": "code",
   "execution_count": 181,
   "metadata": {},
   "outputs": [],
   "source": [
    "import selenium\n",
    "from selenium import webdriver\n",
    "from bs4 import BeautifulSoup\n",
    "from selenium.webdriver.support.wait import WebDriverWait\n",
    "from selenium.webdriver.support import expected_conditions as ec\n",
    "from selenium.webdriver.common.by import By\n",
    "\n",
    "from selenium.webdriver.chrome.options import Options\n",
    "import time\n",
    "import json"
   ]
  },
  {
   "cell_type": "code",
   "execution_count": 167,
   "metadata": {},
   "outputs": [],
   "source": [
    "# Disable Chrome Browser Notification\n",
    "option = Options()\n",
    "option.add_argument(\"--disable-infobars\")\n",
    "option.add_argument(\"start-maximized\")\n",
    "option.add_argument(\"--disable-extensions\")"
   ]
  },
  {
   "cell_type": "markdown",
   "metadata": {},
   "source": [
    "* Login to your Instagram Handle\n",
    "* Submit with sample *username* and *password*"
   ]
  },
  {
   "cell_type": "code",
   "execution_count": 168,
   "metadata": {},
   "outputs": [],
   "source": [
    "driver = webdriver.Chrome(options= option)\n",
    "driver.get(url)\n",
    "username = WebDriverWait(driver, 20).until(\n",
    "    ec.presence_of_element_located((By.NAME,\"username\"))\n",
    "    )\n",
    "Password = WebDriverWait(driver,20).until(\n",
    "    ec.presence_of_element_located((By.NAME,\"password\"))\n",
    ")\n",
    "username.send_keys('Sample')\n",
    "Password.send_keys('Sample')\n",
    "\n",
    "button_to_LogIn = None\n",
    "for i in driver.find_elements('tag name','button'):\n",
    "    if i.text == 'Log in':\n",
    "        button_to_LogIn = i\n",
    "button_to_LogIn.click()\n",
    "\n",
    "Not_save_Credential = WebDriverWait(driver,20).until(\n",
    "    ec.presence_of_element_located(('class name','_ac8f')))\n",
    "if Not_save_Credential is not None:\n",
    "    Not_save_Credential.click()\n",
    "\n",
    "Notification_Not_now = WebDriverWait(driver,20).until(\n",
    "    ec.presence_of_all_elements_located(('class name','_a9-z'))\n",
    ")\n",
    "Notification_Not_now[0].click()"
   ]
  },
  {
   "cell_type": "markdown",
   "metadata": {},
   "source": [
    "\n",
    "- Type for \"food\" in search bar and print all the names of the Instagram Handles that are displayed in list after typing \"food\"\n",
    "- Note : Make sure to avoid printing hashtags"
   ]
  },
  {
   "cell_type": "code",
   "execution_count": 169,
   "metadata": {},
   "outputs": [
    {
     "name": "stdout",
     "output_type": "stream",
     "text": [
      "foodie_incarnate\n",
      "- - - - - - - - - - - -\n",
      "dilsefoodie\n",
      "- - - - - - - - - - - -\n",
      "foodrooaster\n",
      "- - - - - - - - - - - -\n",
      "foodpharmer\n",
      "- - - - - - - - - - - -\n",
      "foodtalkindia\n",
      "- - - - - - - - - - - -\n",
      "foodiee_ishh\n",
      "- - - - - - - - - - - -\n",
      "food\n",
      "- - - - - - - - - - - -\n",
      "ghumakkad___foodie\n",
      "- - - - - - - - - - - -\n",
      "foodieee___soul\n",
      "- - - - - - - - - - - -\n",
      "delhifoodwalks\n",
      "- - - - - - - - - - - -\n",
      "the._.foodie._.engineer\n",
      "- - - - - - - - - - - -\n",
      "foodieee_queenzzz\n",
      "- - - - - - - - - - - -\n",
      "f.o.o.d.t.h.e.r.a.p.y\n",
      "- - - - - - - - - - - -\n",
      "biva_food_court__ixs\n",
      "- - - - - - - - - - - -\n",
      "thefoodgambler\n",
      "- - - - - - - - - - - -\n",
      "foodyvishal\n",
      "- - - - - - - - - - - -\n",
      "adeelchaudry1\n",
      "- - - - - - - - - - - -\n",
      "_food_quote_\n",
      "- - - - - - - - - - - -\n",
      "foodstrong.co\n",
      "- - - - - - - - - - - -\n",
      "notorious_foodie\n",
      "- - - - - - - - - - - -\n",
      "foodiesince96\n",
      "- - - - - - - - - - - -\n",
      "food.and_culture\n",
      "- - - - - - - - - - - -\n",
      "foodkars\n",
      "- - - - - - - - - - - -\n",
      "the_foodie_kiddo\n",
      "- - - - - - - - - - - -\n",
      "yourfoodlab\n",
      "- - - - - - - - - - - -\n",
      "foofaji\n",
      "- - - - - - - - - - - -\n",
      "foodifly\n",
      "- - - - - - - - - - - -\n",
      "foodlinkcatering\n",
      "- - - - - - - - - - - -\n",
      "foodieebaee\n",
      "- - - - - - - - - - - -\n",
      "foodelhi\n",
      "- - - - - - - - - - - -\n",
      "food.arrest\n",
      "- - - - - - - - - - - -\n",
      "foodtrip.silchar\n",
      "- - - - - - - - - - - -\n",
      "tasteofjammuu\n",
      "- - - - - - - - - - - -\n",
      "lakshya__singh\n",
      "- - - - - - - - - - - -\n",
      "kikifoodies\n",
      "- - - - - - - - - - - -\n",
      "food.darzee\n",
      "- - - - - - - - - - - -\n",
      "myfoodbyhilda\n",
      "- - - - - - - - - - - -\n",
      "delhi_food_shaukeen\n",
      "- - - - - - - - - - - -\n",
      "kolkatasutrafood\n",
      "- - - - - - - - - - - -\n",
      "foodie_doodless\n",
      "- - - - - - - - - - - -\n",
      "tandoorichic\n",
      "- - - - - - - - - - - -\n",
      "bangkok.foodie\n",
      "- - - - - - - - - - - -\n",
      "foodlover_lyf\n",
      "- - - - - - - - - - - -\n",
      "Food Orbit\n",
      "- - - - - - - - - - - -\n",
      "sydneyfoodboy\n",
      "- - - - - - - - - - - -\n",
      "Food Villa Restaurant\n",
      "- - - - - - - - - - - -\n",
      "foodierknaitik\n",
      "- - - - - - - - - - - -\n",
      "Tons Food Park\n",
      "- - - - - - - - - - - -\n",
      "foodparadise.in\n",
      "- - - - - - - - - - - -\n",
      "foodinc.yumyumtree\n",
      "- - - - - - - - - - - -\n",
      "food__junction\n",
      "- - - - - - - - - - - -\n"
     ]
    }
   ],
   "source": [
    "# Clicking search button.\n",
    "Search_button = WebDriverWait(driver,20).until(\n",
    "    ec.visibility_of(\n",
    "        driver.find_element('xpath','/html/body/div[2]/div/div/div[2]/div/div/div[1]/div[1]/div[1]/div/div/div/div/div[2]/div[2]/span/div/a/div')\n",
    "    )\n",
    ")\n",
    "Search_button.click()\n",
    "\n",
    "# Sending the keys to be searched.\n",
    "To_Be_Searched = WebDriverWait(driver,10).until(\n",
    "    ec.visibility_of(\n",
    "        driver.find_element('xpath','/html/body/div[2]/div/div/div[2]/div/div/div[1]/div[1]/div[1]/div/div/div[2]/div/div/div[2]/div/div/div[1]/div/div/input')\n",
    "    )\n",
    ")\n",
    "To_Be_Searched.send_keys('food')\n",
    "\n",
    "# Sleeping for 2 sec to load all data as per the internet speed.\n",
    "time.sleep(2)\n",
    "\n",
    "# Getting all the values of the instagram handles.\n",
    "data = WebDriverWait(driver,20).until(\n",
    "    ec.presence_of_element_located((By.XPATH,'/html/body/div[2]/div/div/div[2]/div/div/div[1]/div[1]/div[1]/div/div/div[2]/div/div/div[2]/div/div/div[2]/div'))\n",
    ")\n",
    "\n",
    "# Searching in the data for all the tag named as 'a'.\n",
    "List_Of_Instagram_Handles = []\n",
    "for i in data.find_elements('tag name','a'):\n",
    "    name = i.text.split('\\n')[0]\n",
    "    if name == \"\":\n",
    "        continue\n",
    "    elif name[0] == '#':\n",
    "        continue\n",
    "    List_Of_Instagram_Handles.append(name)\n",
    "\n",
    "for i in List_Of_Instagram_Handles:\n",
    "    print(i)\n",
    "    print(\"- - - - - - - - - - - -\")\n",
    "\n",
    "# Clicking the search button to close again\n",
    "Search_button = WebDriverWait(driver,20).until(\n",
    "    ec.visibility_of(\n",
    "        driver.find_element('xpath','/html/body/div[2]/div/div/div[2]/div/div/div[1]/div[1]/div[1]/div/div/div/div/div[2]/div[2]/span/div/a/div')\n",
    "    )\n",
    ")\n",
    "Search_button.click()\n"
   ]
  },
  {
   "cell_type": "markdown",
   "metadata": {},
   "source": [
    "* Searching and Opening a profile using\n",
    "* Open profile of \"So Delhi\""
   ]
  },
  {
   "cell_type": "code",
   "execution_count": 170,
   "metadata": {},
   "outputs": [],
   "source": [
    "# Searching the search button and clicking it.\n",
    "Search_button = WebDriverWait(driver,20).until(\n",
    "    ec.visibility_of(\n",
    "        driver.find_element('xpath','/html/body/div[2]/div/div/div[2]/div/div/div[1]/div[1]/div[1]/div/div/div/div/div[2]/div[2]/span/div/a/div')\n",
    "    )\n",
    ")\n",
    "Search_button.click()\n",
    "\n",
    "# Sending the keys to be searched\n",
    "To_Be_Searched = WebDriverWait(driver,10).until(\n",
    "    ec.visibility_of(\n",
    "        driver.find_element('xpath','/html/body/div[2]/div/div/div[2]/div/div/div[1]/div[1]/div[1]/div/div/div[2]/div/div/div[2]/div/div/div[1]/div/div/input')\n",
    "    )\n",
    ")\n",
    "To_Be_Searched.send_keys('So Delhi')\n",
    "\n",
    "time.sleep(2)\n",
    "\n",
    "data = WebDriverWait(driver,20).until(\n",
    "    ec.presence_of_element_located(('xpath','/html/body/div[2]/div/div/div[2]/div/div/div[1]/div[1]/div[1]/div/div/div[2]/div/div/div[2]/div/div/div[2]/div'))\n",
    ")\n",
    "data.find_elements('tag name','a')[0].click()"
   ]
  },
  {
   "cell_type": "markdown",
   "metadata": {},
   "source": [
    "\n",
    "* Open the Instagram Handle of \"So Delhi\"\n",
    "* Start following it. Print a message if you are already following\n",
    "* After following, unfollow the instagram handle. Print a message if you have already unfollowed."
   ]
  },
  {
   "cell_type": "code",
   "execution_count": 171,
   "metadata": {},
   "outputs": [
    {
     "name": "stdout",
     "output_type": "stream",
     "text": [
      "Following Now\n"
     ]
    }
   ],
   "source": [
    "# Following the handle\n",
    "Follow_Button = WebDriverWait(driver,10).until(\n",
    "    ec.presence_of_element_located((By.XPATH,'/html/body/div[2]/div/div/div[2]/div/div/div[1]/div[1]/div[2]/div[2]/section/main/div/header/section/div[1]/div[1]/div/div[1]/button'))\n",
    ")\n",
    "# Follow_Button = driver.find_element('xpath','/html/body/div[2]/div/div/div[2]/div/div/div[1]/div[1]/div[2]/div[2]/section/main/div/header/section/div[1]/div[1]/div/div[1]/button/div/div')\n",
    "if Follow_Button.text == 'Follow':\n",
    "    Follow_Button.click()\n",
    "    print('Following Now')\n",
    "elif Follow_Button.text == 'Following':\n",
    "    print('Already Following')"
   ]
  },
  {
   "cell_type": "code",
   "execution_count": 172,
   "metadata": {},
   "outputs": [
    {
     "name": "stdout",
     "output_type": "stream",
     "text": [
      "Already UnFollowed\n"
     ]
    }
   ],
   "source": [
    "# UnFollowing the handle\n",
    "UnFollow = driver.find_element('xpath','/html/body/div[2]/div/div/div[2]/div/div/div[1]/div[1]/div[2]/div[2]/section/main/div/header/section/div[1]/div[1]/div/div[1]/button/div')\n",
    "if UnFollow.text == 'Following':\n",
    "    UnFollow.click()\n",
    "    press_UnFollow = WebDriverWait(driver,10).until(\n",
    "        ec.presence_of_element_located(\n",
    "            ('xpath','/html/body/div[6]/div[1]/div/div[2]/div/div/div/div/div[2]/div/div/div/div[8]/div[1]/div/div/div/div/div')\n",
    "        )\n",
    "    ).click()\n",
    "    print('UnFollowed Now')\n",
    "elif UnFollow.text == 'Follow':\n",
    "    print(\"Already UnFollowed\")"
   ]
  },
  {
   "cell_type": "markdown",
   "metadata": {},
   "source": [
    "* Liking the top 30 posts of the 'dilsefoodie'. Print message if you have already liked it.\n",
    "* Unliking the top 30 posts of the 'dilsefoodie'. Print message if you have already unliked it."
   ]
  },
  {
   "cell_type": "code",
   "execution_count": 175,
   "metadata": {},
   "outputs": [],
   "source": [
    "# Going to Home Page\n",
    "Home_Button = driver.find_element('xpath','/html/body/div[2]/div/div/div[2]/div/div/div[1]/div[1]/div[1]/div/div/div/div/div[2]/div[1]/div/span/div/a/div')\n",
    "Home_Button.click()\n",
    "\n",
    "# Searching the 'dilsefoodie' and going to the page.\n",
    "Search_button = WebDriverWait(driver,20).until(\n",
    "    ec.visibility_of(\n",
    "        driver.find_element('xpath','/html/body/div[2]/div/div/div[2]/div/div/div[1]/div[1]/div[1]/div/div/div/div/div[2]/div[2]/span/div/a/div')\n",
    "    )\n",
    ")\n",
    "Search_button.click()\n",
    "\n",
    "# Sending the keys to be searched\n",
    "To_Be_Searched = WebDriverWait(driver,10).until(\n",
    "    ec.visibility_of(\n",
    "        driver.find_element('xpath','/html/body/div[2]/div/div/div[2]/div/div/div[1]/div[1]/div[1]/div/div/div[2]/div/div/div[2]/div/div/div[1]/div/div/input')\n",
    "    )\n",
    ")\n",
    "To_Be_Searched.send_keys('dilsefoodie')\n",
    "\n",
    "time.sleep(2)\n",
    "\n",
    "data = WebDriverWait(driver,20).until(\n",
    "    ec.presence_of_element_located(('xpath','/html/body/div[2]/div/div/div[2]/div/div/div[1]/div[1]/div[1]/div/div/div[2]/div/div/div[2]/div/div/div[2]/div'))\n",
    ")\n",
    "data.find_elements('tag name','a')[0].click()"
   ]
  },
  {
   "cell_type": "code",
   "execution_count": 179,
   "metadata": {},
   "outputs": [
    {
     "name": "stdout",
     "output_type": "stream",
     "text": [
      "Total Liked posts : 30\n",
      "Total Unliked posts : 30\n"
     ]
    }
   ],
   "source": [
    "def Like_Dislike_Post(To_do):\n",
    "    count = 1\n",
    "    get_Post = WebDriverWait(driver,10).until(\n",
    "                ec.presence_of_element_located((By.XPATH,'/html/body/div[2]/div/div/div[2]/div/div/div[1]/div[1]/div[2]/div[2]/section/main/div/div[3]/article/div[1]/div/div[1]/div[1]'))\n",
    "            )\n",
    "    get_Post.click()\n",
    "    Like_Dislike_Button = WebDriverWait(driver,10).until(\n",
    "            ec.presence_of_element_located((By.XPATH,'/html/body/div[8]/div[1]/div/div[3]/div/div/div/div/div[2]/div/article/div/div[2]/div/div/div[2]/section[1]/span[1]')\n",
    "            )\n",
    "        )\n",
    "    Button_Details = BeautifulSoup(Like_Dislike_Button.get_attribute('innerHTML'),'html.parser').title.text\n",
    "    if Button_Details == To_do:\n",
    "        Like_Dislike_Button.click()\n",
    "        count += 1\n",
    "        # print(\"{0}d\".format(To_do))\n",
    "    elif Button_Details == To_do:\n",
    "        count += 1\n",
    "        # print(\"Already {0}d\".format(To_do))\n",
    "\n",
    "    next_Post = WebDriverWait(driver,10).until(\n",
    "        ec.visibility_of(\n",
    "            driver.find_element('xpath','/html/body/div[8]/div[1]/div/div[3]/div/div/div/div/div[1]/div/div/div/button')\n",
    "        )\n",
    "    )\n",
    "    next_Post.click()\n",
    "    while True:\n",
    "        if count >= 30:\n",
    "            break\n",
    "        time.sleep(3)\n",
    "        Like_Dislike_Button = WebDriverWait(driver,10).until(\n",
    "            ec.presence_of_element_located((By.XPATH,'/html/body/div[7]/div[1]/div/div[3]/div/div/div/div/div[2]/div/article/div/div[2]/div/div/div[2]/section[1]/span[1]')\n",
    "            )\n",
    "        )\n",
    "        Button_Details = BeautifulSoup(Like_Dislike_Button.get_attribute('innerHTML'),'html.parser').title.text\n",
    "        if Button_Details == To_do:\n",
    "            Like_Dislike_Button.click()\n",
    "            count += 1\n",
    "            # print(\"{0}d\".format(To_do))\n",
    "        elif Button_Details == To_do:\n",
    "            count += 1\n",
    "            # print(\"Already {0}d\".format(To_do))\n",
    "\n",
    "        next_Post = WebDriverWait(driver,10).until(\n",
    "            ec.visibility_of(\n",
    "                driver.find_element('xpath','/html/body/div[7]/div[1]/div/div[3]/div/div/div/div/div[1]/div/div/div[2]/button')\n",
    "            )\n",
    "        )\n",
    "        next_Post.click()\n",
    "        time.sleep(3)\n",
    "    print(\"Total {0}d posts : {1}\".format(To_do,count))\n",
    "    close_Post = WebDriverWait(driver,10).until(\n",
    "        ec.visibility_of(\n",
    "            driver.find_element('xpath','/html/body/div[7]/div[1]/div/div[2]/div')\n",
    "        )\n",
    "    )\n",
    "    close_Post.click()\n",
    "    count = 0\n",
    "Like_Dislike_Post('Like')\n",
    "time.sleep(5)\n",
    "Like_Dislike_Post('Unlike')"
   ]
  },
  {
   "cell_type": "markdown",
   "metadata": {},
   "source": [
    "- Extract list of followers\n",
    "* Extract the usernames of the first 500 followers of 'foodtalkindia' and 'sodelhi'.\n",
    "* Now print all the followers of \"foodtalkindia\" that you are following but those who don't follow you."
   ]
  },
  {
   "cell_type": "code",
   "execution_count": 195,
   "metadata": {},
   "outputs": [],
   "source": [
    "# Going to Home Page\n",
    "Home_Button = driver.find_element('xpath','/html/body/div[2]/div/div/div[2]/div/div/div[1]/div[1]/div[1]/div/div/div/div/div[2]/div[1]/div/span/div/a/div')\n",
    "Home_Button.click()\n",
    "\n",
    "# Searching the 'sodelhi' and going to the page.\n",
    "Search_button = WebDriverWait(driver,20).until(\n",
    "    ec.visibility_of(\n",
    "        driver.find_element('xpath','/html/body/div[2]/div/div/div[2]/div/div/div[1]/div[1]/div[1]/div/div/div/div/div[2]/div[2]/span/div/a/div')\n",
    "    )\n",
    ")\n",
    "Search_button.click()\n",
    "\n",
    "# Sending the keys to be searched\n",
    "To_Be_Searched = WebDriverWait(driver,10).until(\n",
    "    ec.visibility_of(\n",
    "        driver.find_element('xpath','/html/body/div[2]/div/div/div[2]/div/div/div[1]/div[1]/div[1]/div/div/div[2]/div/div/div[2]/div/div/div[1]/div/div/input')\n",
    "    )\n",
    ")\n",
    "To_Be_Searched.send_keys('sodelhi')\n",
    "\n",
    "time.sleep(2)\n",
    "\n",
    "data = WebDriverWait(driver,20).until(\n",
    "    ec.presence_of_element_located(('xpath','/html/body/div[2]/div/div/div[2]/div/div/div[1]/div[1]/div[1]/div/div/div[2]/div/div/div[2]/div/div/div[2]/div'))\n",
    ")\n",
    "data.find_elements('tag name','a')[0].click()"
   ]
  },
  {
   "cell_type": "code",
   "execution_count": 203,
   "metadata": {},
   "outputs": [
    {
     "name": "stdout",
     "output_type": "stream",
     "text": [
      "aldinamelvz, s.p.a.n.d.a.n.a, sajid79527, crcrdrdr, xivero.new, nafe.es1404, 14s_hweta, priyanka_vinayak_baranwal_, nursing_literacy, ____juliiiiiiii____, hey_is.ha, tradingo_impex_2018, "
     ]
    }
   ],
   "source": [
    "# Followers Details of 'sodelhi'\n",
    "Click_Follower_Tab = WebDriverWait(driver,10).until(\n",
    "    ec.visibility_of(\n",
    "        driver.find_element('xpath','/html/body/div[2]/div/div/div[2]/div/div/div[1]/div[1]/div[2]/div[2]/section/main/div/header/section/ul/li[2]')\n",
    "    )\n",
    ")\n",
    "Click_Follower_Tab.click()\n",
    "time.sleep(2)\n",
    "data = WebDriverWait(driver,10).until(\n",
    "    ec.visibility_of(\n",
    "        driver.find_element('class name',\"_aano\")\n",
    "    )\n",
    ")\n",
    "time.sleep(4)\n",
    "soup = BeautifulSoup(data.get_attribute('innerHTML'),'html.parser')\n",
    "names = soup.find_all(class_ = '_ap3a _aaco _aacw _aacx _aad7 _aade')\n",
    "for i in names:\n",
    "    print(i.text,end = \", \")\n",
    "close_button = driver.find_element('xpath','/html/body/div[7]/div[1]/div/div[2]/div/div/div/div/div[2]/div/div/div[1]/div/div[3]/div/button')\n",
    "close_button.click()"
   ]
  },
  {
   "cell_type": "code",
   "execution_count": 204,
   "metadata": {},
   "outputs": [],
   "source": [
    "# Going to Home Page\n",
    "Home_Button = driver.find_element('xpath','/html/body/div[2]/div/div/div[2]/div/div/div[1]/div[1]/div[1]/div/div/div/div/div[2]/div[1]/div/span/div/a/div')\n",
    "Home_Button.click()\n",
    "\n",
    "# Searching the 'foodtalkindia' and going to the page.\n",
    "Search_button = WebDriverWait(driver,20).until(\n",
    "    ec.visibility_of(\n",
    "        driver.find_element('xpath','/html/body/div[2]/div/div/div[2]/div/div/div[1]/div[1]/div[1]/div/div/div/div/div[2]/div[2]/span/div/a/div')\n",
    "    )\n",
    ")\n",
    "Search_button.click()\n",
    "\n",
    "# Sending the keys to be searched\n",
    "To_Be_Searched = WebDriverWait(driver,10).until(\n",
    "    ec.visibility_of(\n",
    "        driver.find_element('xpath','/html/body/div[2]/div/div/div[2]/div/div/div[1]/div[1]/div[1]/div/div/div[2]/div/div/div[2]/div/div/div[1]/div/div/input')\n",
    "    )\n",
    ")\n",
    "To_Be_Searched.send_keys('foodtalkindia')\n",
    "\n",
    "time.sleep(2)\n",
    "\n",
    "data = WebDriverWait(driver,20).until(\n",
    "    ec.presence_of_element_located(('xpath','/html/body/div[2]/div/div/div[2]/div/div/div[1]/div[1]/div[1]/div/div/div[2]/div/div/div[2]/div/div/div[2]/div'))\n",
    ")\n",
    "data.find_elements('tag name','a')[0].click()"
   ]
  },
  {
   "cell_type": "code",
   "execution_count": 205,
   "metadata": {},
   "outputs": [
    {
     "name": "stdout",
     "output_type": "stream",
     "text": [
      "professional__chef00, spawalahyderabad, rahu_lbharat, yedukrishnna, around_pondy, the_barman___, yummy_in_tummy_07, anany_akatiyar4, whatthesoussays, food.ie2185, thecandybar_01, the_free_soul02, country_central_cafe, du__club, food_buggies, gk2_connect, thindibothu23, inkingodisha, riseoven, creamino_icecream, khushboobhoge145, _leafnlife, maharaja_ice_cream_0003, _deepkaur1999, manishchandrapaul, trave_lwithmuneeba, blue_tick_14_, nanduprathap, onlydesserts_bytejalshah, anxioussoul2001, priyanka_vinayak_baranwal_, ritu.p.sunshine, roshanbilungofficial, _sana_shanu, shabs.kitchen2024, shanghaikitchen.bbk, sibaniskitchen, sophie.suhy, sweetgirl5201, swati_homecooking, vedsoh, vijeta2033, vnodchaudhary, infinite.curiosityy, hleudujmm, tsuchita__mie, 66lester1994, ali__dry__fruits, almasshk_05, "
     ]
    }
   ],
   "source": [
    "# Followers Details of 'foodtalkindia'\n",
    "Click_Follower_Tab = WebDriverWait(driver,10).until(\n",
    "    ec.visibility_of(\n",
    "        driver.find_element('xpath','/html/body/div[2]/div/div/div[2]/div/div/div[1]/div[1]/div[2]/div[2]/section/main/div/header/section/ul/li[2]')\n",
    "    )\n",
    ")\n",
    "Click_Follower_Tab.click()\n",
    "time.sleep(2)\n",
    "data = WebDriverWait(driver,10).until(\n",
    "    ec.visibility_of(\n",
    "        driver.find_element('class name',\"_aano\")\n",
    "    )\n",
    ")\n",
    "time.sleep(4)\n",
    "soup = BeautifulSoup(data.get_attribute('innerHTML'),'html.parser')\n",
    "names = soup.find_all(class_ = '_ap3a _aaco _aacw _aacx _aad7 _aade')\n",
    "for i in names:\n",
    "    print(i.text,end = \", \")\n",
    "close_button = driver.find_element('xpath','/html/body/div[7]/div[1]/div/div[2]/div/div/div/div/div[2]/div/div/div[1]/div/div[3]/div/button')\n",
    "close_button.click()"
   ]
  },
  {
   "cell_type": "code",
   "execution_count": 206,
   "metadata": {},
   "outputs": [],
   "source": [
    "# Getting all my follower\n",
    "my_ID "
   ]
  },
  {
   "cell_type": "code",
   "execution_count": null,
   "metadata": {},
   "outputs": [],
   "source": []
  },
  {
   "cell_type": "code",
   "execution_count": null,
   "metadata": {},
   "outputs": [],
   "source": []
  },
  {
   "cell_type": "code",
   "execution_count": null,
   "metadata": {},
   "outputs": [],
   "source": []
  },
  {
   "cell_type": "code",
   "execution_count": null,
   "metadata": {},
   "outputs": [],
   "source": []
  },
  {
   "cell_type": "code",
   "execution_count": null,
   "metadata": {},
   "outputs": [],
   "source": []
  },
  {
   "cell_type": "code",
   "execution_count": null,
   "metadata": {},
   "outputs": [],
   "source": []
  },
  {
   "cell_type": "code",
   "execution_count": null,
   "metadata": {},
   "outputs": [],
   "source": []
  }
 ],
 "metadata": {
  "kernelspec": {
   "display_name": "Python 3",
   "language": "python",
   "name": "python3"
  },
  "language_info": {
   "codemirror_mode": {
    "name": "ipython",
    "version": 3
   },
   "file_extension": ".py",
   "mimetype": "text/x-python",
   "name": "python",
   "nbconvert_exporter": "python",
   "pygments_lexer": "ipython3",
   "version": "3.11.7"
  }
 },
 "nbformat": 4,
 "nbformat_minor": 2
}
