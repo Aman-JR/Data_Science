{
 "cells": [
  {
   "cell_type": "markdown",
   "metadata": {},
   "source": [
    "#### Objective\n",
    "\n",
    "1. Login to your Instagram Handle\n",
    "* Submit with sample username and password\n",
    "2. Type for \"food\" in search bar and print all the names of the Instagram Handles that are displayed in list after typing \"food\"\n",
    "* Note : Make sure to avoid printing hashtags\n",
    "3. Searching and Opening a profile using\n",
    "* Open profile of \"So Delhi\"\n",
    "4. Follow/Unfollow given handle -\n",
    "* Open the Instagram Handle of \"So Delhi\"\n",
    "* Start following it. Print a message if you are already following\n",
    "* After following, unfollow the instagram handle. Print a message if you have already unfollowed.\n",
    "5. Like/Unlike posts\n",
    "* Liking the top 30 posts of the 'dilsefoodie'. Print message if you have already liked it.\n",
    "* Unliking the top 30 posts of the 'dilsefoodie'. Print message if you have already unliked it.\n",
    "6. Extract list of followers\n",
    "* Extract the usernames of the first 500 followers of 'foodtalkindia' and 'sodelhi'.\n",
    "* Now print all the followers of \"foodtalkindia\" that you are following but those who don't follow you.\n",
    "7. Check the story of 'coding.ninjas'. Consider the following Scenarios and print error messages accordingly -\n",
    "* If You have already seen the story.\n",
    "* Or The user has no story.\n",
    "* Or View the story if not yet seen."
   ]
  },
  {
   "cell_type": "code",
   "execution_count": 50,
   "metadata": {},
   "outputs": [],
   "source": [
    "url = \"https://www.instagram.com/\""
   ]
  },
  {
   "cell_type": "code",
   "execution_count": 51,
   "metadata": {},
   "outputs": [],
   "source": [
    "import selenium\n",
    "from selenium import webdriver\n",
    "from bs4 import BeautifulSoup\n",
    "from selenium.webdriver.support.wait import WebDriverWait\n",
    "from selenium.webdriver.support import expected_conditions as ec\n",
    "from selenium.webdriver.common.by import By\n",
    "\n",
    "from selenium.webdriver.chrome.options import Options\n",
    "import time"
   ]
  },
  {
   "cell_type": "code",
   "execution_count": 52,
   "metadata": {},
   "outputs": [],
   "source": [
    "# Disable Chrome Browser Notification\n",
    "option = Options()\n",
    "option.add_argument(\"--disable-infobars\")\n",
    "option.add_argument(\"start-maximized\")\n",
    "option.add_argument(\"--disable-extensions\")\n",
    "\n"
   ]
  },
  {
   "cell_type": "markdown",
   "metadata": {},
   "source": [
    "#### LOG IN"
   ]
  },
  {
   "cell_type": "code",
   "execution_count": 53,
   "metadata": {},
   "outputs": [],
   "source": [
    "driver = webdriver.Chrome(options= option)\n",
    "driver.get(url)\n",
    "username = WebDriverWait(driver, 20).until(\n",
    "    ec.presence_of_element_located((By.NAME,\"username\"))\n",
    "    )\n",
    "Password = WebDriverWait(driver,20).until(\n",
    "    ec.presence_of_element_located((By.NAME,\"password\"))\n",
    ")\n",
    "username.send_keys('Sample')\n",
    "Password.send_keys('Sample')\n",
    "\n",
    "button_to_LogIn = None\n",
    "for i in driver.find_elements('tag name','button'):\n",
    "    if i.text == 'Log in':\n",
    "        button_to_LogIn = i\n",
    "button_to_LogIn.click()\n",
    "\n",
    "Not_save_Credential = WebDriverWait(driver,20).until(\n",
    "    ec.presence_of_element_located(('class name','_ac8f')))\n",
    "if Not_save_Credential is not None:\n",
    "    Not_save_Credential.click()\n",
    "\n",
    "Notification_Not_now = WebDriverWait(driver,20).until(\n",
    "    ec.presence_of_all_elements_located(('class name','_a9-z'))\n",
    ")\n",
    "Notification_Not_now[0].click()"
   ]
  },
  {
   "cell_type": "code",
   "execution_count": 54,
   "metadata": {},
   "outputs": [],
   "source": []
  },
  {
   "cell_type": "code",
   "execution_count": 55,
   "metadata": {},
   "outputs": [],
   "source": []
  },
  {
   "cell_type": "code",
   "execution_count": 56,
   "metadata": {},
   "outputs": [],
   "source": []
  },
  {
   "cell_type": "code",
   "execution_count": 57,
   "metadata": {},
   "outputs": [],
   "source": []
  },
  {
   "cell_type": "code",
   "execution_count": 58,
   "metadata": {},
   "outputs": [],
   "source": []
  },
  {
   "cell_type": "code",
   "execution_count": 59,
   "metadata": {},
   "outputs": [],
   "source": []
  },
  {
   "cell_type": "code",
   "execution_count": 60,
   "metadata": {},
   "outputs": [],
   "source": []
  },
  {
   "cell_type": "code",
   "execution_count": null,
   "metadata": {},
   "outputs": [],
   "source": []
  },
  {
   "cell_type": "code",
   "execution_count": null,
   "metadata": {},
   "outputs": [],
   "source": []
  },
  {
   "cell_type": "code",
   "execution_count": null,
   "metadata": {},
   "outputs": [],
   "source": []
  },
  {
   "cell_type": "code",
   "execution_count": null,
   "metadata": {},
   "outputs": [],
   "source": []
  },
  {
   "cell_type": "code",
   "execution_count": null,
   "metadata": {},
   "outputs": [],
   "source": []
  }
 ],
 "metadata": {
  "kernelspec": {
   "display_name": "Python 3",
   "language": "python",
   "name": "python3"
  },
  "language_info": {
   "codemirror_mode": {
    "name": "ipython",
    "version": 3
   },
   "file_extension": ".py",
   "mimetype": "text/x-python",
   "name": "python",
   "nbconvert_exporter": "python",
   "pygments_lexer": "ipython3",
   "version": "3.11.7"
  }
 },
 "nbformat": 4,
 "nbformat_minor": 2
}
