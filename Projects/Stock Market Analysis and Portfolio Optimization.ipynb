{
 "cells": [
  {
   "cell_type": "markdown",
   "metadata": {},
   "source": [
    "# **📊 Stock Market Analysis and Portfolio Optimization**\n",
    "\n",
    "This project combines **data analysis** with **statistical concepts** to create a practical financial application. It's **challenging enough for intermediate learners** while producing **valuable insights**.\n",
    "\n",
    "---\n",
    "\n",
    "## **📌 Project Overview**\n",
    "Create a program that **analyzes historical stock data** for multiple companies, calculates **key metrics**, and recommends an **optimal portfolio allocation** based on risk/reward preferences.\n",
    "\n",
    "---\n",
    "\n",
    "## **🔹 Key Components**\n",
    "\n",
    "### **1️⃣ Data Acquisition & Preprocessing**\n",
    "- Import **historical stock price data** for **5-10 companies** (from CSV files or using a **financial API**).\n",
    "- Handle **missing values** and **normalize data**.\n",
    "- Calculate **daily returns**.\n",
    "\n",
    "### **2️⃣ Statistical Analysis**\n",
    "- Calculate **mean returns**, **volatility**, and **correlation matrices**.\n",
    "- Implement **covariance analysis**.\n",
    "- Create **rolling window calculations** to observe trend changes.\n",
    "\n",
    "### **3️⃣ Portfolio Optimization**\n",
    "- Implement the **Sharpe ratio** (risk-adjusted return measure).\n",
    "- Create a **Monte Carlo simulation** to test different **portfolio weightings**.\n",
    "- Find the **optimal portfolio allocation** based on different **risk tolerances**.\n",
    "\n",
    "### **4️⃣ Visualization**\n",
    "- Create an **efficient frontier plot**.\n",
    "- Generate **correlation heatmaps**.\n",
    "- Plot **historical performance of optimized portfolios**.\n",
    "\n",
    "---\n",
    "\n",
    "## **🛠 Technical Skills Used**\n",
    "- **NumPy** arrays and operations\n",
    "- **Statistical functions**\n",
    "- **Matrix operations**\n",
    "- **Random number generation**\n",
    "- **Integration with Matplotlib** for visualization\n",
    "\n",
    "---\n",
    "\n",
    "This project provides **hands-on experience** with **real-world financial concepts** while strengthening **NumPy skills** in a practical context. It can be **expanded or simplified** based on specific learning goals. 🚀📈\n"
   ]
  },
  {
   "cell_type": "code",
   "execution_count": 8,
   "metadata": {},
   "outputs": [],
   "source": [
    "import numpy as np\n",
    "import pandas as pd\n",
    "import matplotlib.pyplot as plt\n",
    "import yfinance as yf"
   ]
  },
  {
   "cell_type": "code",
   "execution_count": 9,
   "metadata": {},
   "outputs": [
    {
     "name": "stderr",
     "output_type": "stream",
     "text": [
      "[*********************100%***********************]  3 of 3 completed\n"
     ]
    },
    {
     "data": {
      "text/html": [
       "<div>\n",
       "<style scoped>\n",
       "    .dataframe tbody tr th:only-of-type {\n",
       "        vertical-align: middle;\n",
       "    }\n",
       "\n",
       "    .dataframe tbody tr th {\n",
       "        vertical-align: top;\n",
       "    }\n",
       "\n",
       "    .dataframe thead th {\n",
       "        text-align: right;\n",
       "    }\n",
       "</style>\n",
       "<table border=\"1\" class=\"dataframe\">\n",
       "  <thead>\n",
       "    <tr style=\"text-align: right;\">\n",
       "      <th>Ticker</th>\n",
       "      <th>AAPL</th>\n",
       "      <th>GOOG</th>\n",
       "      <th>NVDA</th>\n",
       "    </tr>\n",
       "    <tr>\n",
       "      <th>Date</th>\n",
       "      <th></th>\n",
       "      <th></th>\n",
       "      <th></th>\n",
       "    </tr>\n",
       "  </thead>\n",
       "  <tbody>\n",
       "    <tr>\n",
       "      <th>2020-01-02</th>\n",
       "      <td>72.716057</td>\n",
       "      <td>68.123726</td>\n",
       "      <td>5.972710</td>\n",
       "    </tr>\n",
       "    <tr>\n",
       "      <th>2020-01-03</th>\n",
       "      <td>72.009132</td>\n",
       "      <td>67.789421</td>\n",
       "      <td>5.877112</td>\n",
       "    </tr>\n",
       "    <tr>\n",
       "      <th>2020-01-06</th>\n",
       "      <td>72.582909</td>\n",
       "      <td>69.460922</td>\n",
       "      <td>5.901758</td>\n",
       "    </tr>\n",
       "    <tr>\n",
       "      <th>2020-01-07</th>\n",
       "      <td>72.241531</td>\n",
       "      <td>69.417580</td>\n",
       "      <td>5.973209</td>\n",
       "    </tr>\n",
       "    <tr>\n",
       "      <th>2020-01-08</th>\n",
       "      <td>73.403641</td>\n",
       "      <td>69.964615</td>\n",
       "      <td>5.984412</td>\n",
       "    </tr>\n",
       "  </tbody>\n",
       "</table>\n",
       "</div>"
      ],
      "text/plain": [
       "Ticker           AAPL       GOOG      NVDA\n",
       "Date                                      \n",
       "2020-01-02  72.716057  68.123726  5.972710\n",
       "2020-01-03  72.009132  67.789421  5.877112\n",
       "2020-01-06  72.582909  69.460922  5.901758\n",
       "2020-01-07  72.241531  69.417580  5.973209\n",
       "2020-01-08  73.403641  69.964615  5.984412"
      ]
     },
     "execution_count": 9,
     "metadata": {},
     "output_type": "execute_result"
    }
   ],
   "source": [
    "# Getting the DATA\n",
    "Tickers = [\"NVDA\",\"AAPL\",\"GOOG\"]\n",
    "Start_Date = '2020-01-01'\n",
    "End_Date = '2025-01-01'\n",
    "\n",
    "stock_data = yf.download(Tickers,start = Start_Date, end = End_Date)['Close']\n",
    "stock_data.head(5)"
   ]
  },
  {
   "cell_type": "code",
   "execution_count": 10,
   "metadata": {},
   "outputs": [],
   "source": [
    "# Resetting the index as index are on Date column\n",
    "# stock_data.reset_index(inplace = True)\n",
    "\n",
    "\n",
    "# Converting the date to datetime format.\n",
    "# stock_data['Date'] = pd.to_datetime(stock_data['Date'])\n",
    "# stock_data"
   ]
  },
  {
   "cell_type": "code",
   "execution_count": 11,
   "metadata": {},
   "outputs": [
    {
     "name": "stdout",
     "output_type": "stream",
     "text": [
      "\n",
      "CHECKING THE MISSING VALUES IN THE DATA FRAME:\n",
      "\n",
      "Ticker\n",
      "AAPL    0\n",
      "GOOG    0\n",
      "NVDA    0\n",
      "dtype: int64\n"
     ]
    }
   ],
   "source": [
    "# Check for the NaN values in the data frame\n",
    "NA_Values = stock_data.isna().sum()\n",
    "\n",
    "print(\"\\nCHECKING THE MISSING VALUES IN THE DATA FRAME:\\n\")\n",
    "print(NA_Values)\n",
    "\n",
    "# Handling missing and NAN values\n",
    "# ffill (Forward Fill) → Fills missing values with the previous row's value.\n",
    "# bfill (Backward Fill) → If ffill doesn’t fill all missing values, bfill fills \n",
    "# the remaining ones using the next available value.\n",
    "# df = stock_data.fillna(method = 'ffill').fillna(method = 'bfill')\n",
    "df = stock_data.ffill().bfill()"
   ]
  },
  {
   "cell_type": "code",
   "execution_count": 12,
   "metadata": {},
   "outputs": [
    {
     "data": {
      "text/plain": [
       "array([[ 72.71605682,  68.12372589,   5.97270966],\n",
       "       [ 72.00913239,  67.78942108,   5.87711191],\n",
       "       [ 72.58290863,  69.46092224,   5.90175819],\n",
       "       ...,\n",
       "       [255.30929565, 194.03999329, 137.00999451],\n",
       "       [251.92301941, 192.69000244, 137.49000549],\n",
       "       [250.14497375, 190.44000244, 134.28999329]])"
      ]
     },
     "execution_count": 12,
     "metadata": {},
     "output_type": "execute_result"
    }
   ],
   "source": [
    "# Converting to the numpy array for faster calculations\n",
    "prices = df.values\n",
    "prices"
   ]
  },
  {
   "cell_type": "code",
   "execution_count": 13,
   "metadata": {},
   "outputs": [
    {
     "data": {
      "text/plain": [
       "68.12372589111328"
      ]
     },
     "execution_count": 13,
     "metadata": {},
     "output_type": "execute_result"
    }
   ],
   "source": [
    "prices[0][1]"
   ]
  },
  {
   "cell_type": "code",
   "execution_count": 15,
   "metadata": {},
   "outputs": [
    {
     "name": "stdout",
     "output_type": "stream",
     "text": [
      "\n",
      " Returns from the stocks per DAY : \n",
      "\n",
      "[[-0.97217103 -0.49073183 -1.60057578]\n",
      " [ 0.79681039  2.46572567  0.41936044]\n",
      " [-0.47032733 -0.06239852  1.21066821]\n",
      " ...\n",
      " [-1.32421274 -1.55251787 -2.08675647]\n",
      " [-1.32634272 -0.69572814  0.35034742]\n",
      " [-0.70578928 -1.16767864 -2.32745078]]\n"
     ]
    }
   ],
   "source": [
    "# Calculating the daily return in percentage\n",
    "# np.diff() used to calculate the difference between consecutive elements in the array (arr[i+1] - arr[i])\n",
    "# axis = 0 used to calculate difference along the rows\n",
    "# prices[:-1] used as the difference for the last\n",
    "print(\"\\n Returns from the stocks per DAY : \\n\")\n",
    "returns = (np.diff(prices,axis = 0)/prices[:-1] * 100)\n",
    "print(returns)"
   ]
  },
  {
   "cell_type": "markdown",
   "metadata": {},
   "source": [
    "#### 📌 Available Columns in `yf.download()`\n",
    "\n",
    "| Column       | Description |\n",
    "|-------------|------------|\n",
    "| **`Open`**   | Opening price of the stock for the given date. |\n",
    "| **`High`**   | Highest price of the stock for the given date. |\n",
    "| **`Low`**    | Lowest price of the stock for the given date. |\n",
    "| **`Close`**  | Closing price (unadjusted, may not account for dividends/splits). |\n",
    "| **`Adj Close`** | **Adjusted closing price** (adjusts for stock splits and dividends). |\n",
    "| **`Volume`** | Number of shares traded on that day. |"
   ]
  },
  {
   "cell_type": "code",
   "execution_count": null,
   "metadata": {},
   "outputs": [],
   "source": []
  }
 ],
 "metadata": {
  "kernelspec": {
   "display_name": "Python 3",
   "language": "python",
   "name": "python3"
  },
  "language_info": {
   "codemirror_mode": {
    "name": "ipython",
    "version": 3
   },
   "file_extension": ".py",
   "mimetype": "text/x-python",
   "name": "python",
   "nbconvert_exporter": "python",
   "pygments_lexer": "ipython3",
   "version": "3.10.6"
  }
 },
 "nbformat": 4,
 "nbformat_minor": 2
}
